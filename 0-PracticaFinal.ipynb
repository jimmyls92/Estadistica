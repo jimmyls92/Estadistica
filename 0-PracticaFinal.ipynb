{
 "cells": [
  {
   "cell_type": "code",
   "execution_count": 1,
   "metadata": {},
   "outputs": [
    {
     "name": "stderr",
     "output_type": "stream",
     "text": [
      "Registered S3 methods overwritten by 'ggplot2':\n",
      "  method         from \n",
      "  [.quosures     rlang\n",
      "  c.quosures     rlang\n",
      "  print.quosures rlang\n"
     ]
    }
   ],
   "source": [
    "library(ggplot2)\n",
    "options(repr.plot.height=4,repr.plot.width=6)"
   ]
  },
  {
   "cell_type": "markdown",
   "metadata": {},
   "source": [
    "Cargar los datos en un dataframe llamado: airbnb"
   ]
  },
  {
   "cell_type": "code",
   "execution_count": 2,
   "metadata": {},
   "outputs": [],
   "source": [
    "airbnb<-read.csv('data//airbnb.csv',sep = ',')"
   ]
  },
  {
   "cell_type": "markdown",
   "metadata": {},
   "source": [
    "Mostrar las primeras 6 filas del dataframe"
   ]
  },
  {
   "cell_type": "code",
   "execution_count": 3,
   "metadata": {
    "scrolled": true
   },
   "outputs": [
    {
     "data": {
      "text/html": [
       "<table>\n",
       "<thead><tr><th scope=col>Zipcode</th><th scope=col>Neighbourhood.Cleansed</th><th scope=col>Property.Type</th><th scope=col>Room.Type</th><th scope=col>Accommodates</th><th scope=col>Bathrooms</th><th scope=col>Bedrooms</th><th scope=col>Beds</th><th scope=col>Bed.Type</th><th scope=col>Amenities</th><th scope=col>Square.Feet</th><th scope=col>Price</th><th scope=col>Review.Scores.Rating</th></tr></thead>\n",
       "<tbody>\n",
       "\t<tr><td>28004                                                                                                                                                                                                                                                                                                                                                           </td><td>Universidad                                                                                                                                                                                                                                                                                                                                                     </td><td>Apartment                                                                                                                                                                                                                                                                                                                                                       </td><td>Private room                                                                                                                                                                                                                                                                                                                                                    </td><td>2                                                                                                                                                                                                                                                                                                                                                               </td><td>2                                                                                                                                                                                                                                                                                                                                                               </td><td>1                                                                                                                                                                                                                                                                                                                                                               </td><td>1                                                                                                                                                                                                                                                                                                                                                               </td><td>Real Bed                                                                                                                                                                                                                                                                                                                                                        </td><td>TV,Wireless Internet,Kitchen,Pets allowed,Pets live on this property,Buzzer/wireless intercom,Heating,Suitable for events,Washer,First aid kit,Essentials,Lock on bedroom door,Iron                                                                                                                                                                             </td><td> NA                                                                                                                                                                                                                                                                                                                                                             </td><td>35                                                                                                                                                                                                                                                                                                                                                              </td><td> NA                                                                                                                                                                                                                                                                                                                                                             </td></tr>\n",
       "\t<tr><td>28004                                                                                                                                                                                                                                                                                                                                                           </td><td>Universidad                                                                                                                                                                                                                                                                                                                                                     </td><td>Apartment                                                                                                                                                                                                                                                                                                                                                       </td><td>Entire home/apt                                                                                                                                                                                                                                                                                                                                                 </td><td>6                                                                                                                                                                                                                                                                                                                                                               </td><td>1                                                                                                                                                                                                                                                                                                                                                               </td><td>3                                                                                                                                                                                                                                                                                                                                                               </td><td>5                                                                                                                                                                                                                                                                                                                                                               </td><td>Real Bed                                                                                                                                                                                                                                                                                                                                                        </td><td>TV,Internet,Wireless Internet,Air conditioning,Kitchen,Indoor fireplace,Heating,Family/kid friendly,Washer,Dryer,Smoke detector,Carbon monoxide detector,Essentials,Shampoo                                                                                                                                                                                     </td><td> NA                                                                                                                                                                                                                                                                                                                                                             </td><td>92                                                                                                                                                                                                                                                                                                                                                              </td><td> 96                                                                                                                                                                                                                                                                                                                                                             </td></tr>\n",
       "\t<tr><td>28004                                                                                                                                                                                                                                                                                                                                                           </td><td>Universidad                                                                                                                                                                                                                                                                                                                                                     </td><td>Apartment                                                                                                                                                                                                                                                                                                                                                       </td><td>Entire home/apt                                                                                                                                                                                                                                                                                                                                                 </td><td>3                                                                                                                                                                                                                                                                                                                                                               </td><td>1                                                                                                                                                                                                                                                                                                                                                               </td><td>2                                                                                                                                                                                                                                                                                                                                                               </td><td>2                                                                                                                                                                                                                                                                                                                                                               </td><td>Real Bed                                                                                                                                                                                                                                                                                                                                                        </td><td>TV,Internet,Wireless Internet,Air conditioning,Kitchen,Doorman,Heating,Family/kid friendly,Washer,Essentials,Shampoo,Hangers,Hair dryer,Iron,Laptop friendly workspace                                                                                                                                                                                          </td><td> NA                                                                                                                                                                                                                                                                                                                                                             </td><td>55                                                                                                                                                                                                                                                                                                                                                              </td><td> 91                                                                                                                                                                                                                                                                                                                                                             </td></tr>\n",
       "\t<tr><td>28004                                                                                                                                                                                                                                                                                                                                                           </td><td>Universidad                                                                                                                                                                                                                                                                                                                                                     </td><td>Loft                                                                                                                                                                                                                                                                                                                                                            </td><td>Entire home/apt                                                                                                                                                                                                                                                                                                                                                 </td><td>3                                                                                                                                                                                                                                                                                                                                                               </td><td>2                                                                                                                                                                                                                                                                                                                                                               </td><td>1                                                                                                                                                                                                                                                                                                                                                               </td><td>1                                                                                                                                                                                                                                                                                                                                                               </td><td>Real Bed                                                                                                                                                                                                                                                                                                                                                        </td><td>TV,Internet,Wireless Internet,Air conditioning,Kitchen,Pets allowed,Breakfast,Elevator in building,Indoor fireplace,Buzzer/wireless intercom,Heating,Washer,Essentials,Shampoo,Hangers,Hair dryer,Iron,Laptop friendly workspace,translation missing: en.hosting_amenity_49,translation missing: en.hosting_amenity_50                                          </td><td> NA                                                                                                                                                                                                                                                                                                                                                             </td><td>60                                                                                                                                                                                                                                                                                                                                                              </td><td>100                                                                                                                                                                                                                                                                                                                                                             </td></tr>\n",
       "\t<tr><td>28015                                                                                                                                                                                                                                                                                                                                                           </td><td>Universidad                                                                                                                                                                                                                                                                                                                                                     </td><td>Apartment                                                                                                                                                                                                                                                                                                                                                       </td><td>Entire home/apt                                                                                                                                                                                                                                                                                                                                                 </td><td>5                                                                                                                                                                                                                                                                                                                                                               </td><td>1                                                                                                                                                                                                                                                                                                                                                               </td><td>1                                                                                                                                                                                                                                                                                                                                                               </td><td>1                                                                                                                                                                                                                                                                                                                                                               </td><td>Real Bed                                                                                                                                                                                                                                                                                                                                                        </td><td>TV,Wireless Internet,Air conditioning,Kitchen,Smoking allowed,Pets allowed,Elevator in building,Heating,Family/kid friendly,Washer,Essentials,Iron                                                                                                                                                                                                              </td><td>538                                                                                                                                                                                                                                                                                                                                                             </td><td>75                                                                                                                                                                                                                                                                                                                                                              </td><td> 90                                                                                                                                                                                                                                                                                                                                                             </td></tr>\n",
       "\t<tr><td>28004                                                                                                                                                                                                                                                                                                                                                           </td><td>Universidad                                                                                                                                                                                                                                                                                                                                                     </td><td>Apartment                                                                                                                                                                                                                                                                                                                                                       </td><td>Entire home/apt                                                                                                                                                                                                                                                                                                                                                 </td><td>2                                                                                                                                                                                                                                                                                                                                                               </td><td>1                                                                                                                                                                                                                                                                                                                                                               </td><td>0                                                                                                                                                                                                                                                                                                                                                               </td><td>1                                                                                                                                                                                                                                                                                                                                                               </td><td>Real Bed                                                                                                                                                                                                                                                                                                                                                        </td><td>TV,Cable TV,Internet,Wireless Internet,Air conditioning,Wheelchair accessible,Kitchen,Doorman,Elevator in building,Buzzer/wireless intercom,Heating,Washer,Smoke detector,Carbon monoxide detector,First aid kit,Safety card,Fire extinguisher,Essentials,Shampoo,24-hour check-in,Hangers,Hair dryer,Iron,Laptop friendly workspace,Self Check-In,Doorman Entry</td><td> NA                                                                                                                                                                                                                                                                                                                                                             </td><td>55                                                                                                                                                                                                                                                                                                                                                              </td><td> 95                                                                                                                                                                                                                                                                                                                                                             </td></tr>\n",
       "</tbody>\n",
       "</table>\n"
      ],
      "text/latex": [
       "\\begin{tabular}{r|lllllllllllll}\n",
       " Zipcode & Neighbourhood.Cleansed & Property.Type & Room.Type & Accommodates & Bathrooms & Bedrooms & Beds & Bed.Type & Amenities & Square.Feet & Price & Review.Scores.Rating\\\\\n",
       "\\hline\n",
       "\t 28004                                                                                                                                                                                                                                                                                                                                                            & Universidad                                                                                                                                                                                                                                                                                                                                                      & Apartment                                                                                                                                                                                                                                                                                                                                                        & Private room                                                                                                                                                                                                                                                                                                                                                     & 2                                                                                                                                                                                                                                                                                                                                                                & 2                                                                                                                                                                                                                                                                                                                                                                & 1                                                                                                                                                                                                                                                                                                                                                                & 1                                                                                                                                                                                                                                                                                                                                                                & Real Bed                                                                                                                                                                                                                                                                                                                                                         & TV,Wireless Internet,Kitchen,Pets allowed,Pets live on this property,Buzzer/wireless intercom,Heating,Suitable for events,Washer,First aid kit,Essentials,Lock on bedroom door,Iron                                                                                                                                                                              &  NA                                                                                                                                                                                                                                                                                                                                                              & 35                                                                                                                                                                                                                                                                                                                                                               &  NA                                                                                                                                                                                                                                                                                                                                                             \\\\\n",
       "\t 28004                                                                                                                                                                                                                                                                                                                                                            & Universidad                                                                                                                                                                                                                                                                                                                                                      & Apartment                                                                                                                                                                                                                                                                                                                                                        & Entire home/apt                                                                                                                                                                                                                                                                                                                                                  & 6                                                                                                                                                                                                                                                                                                                                                                & 1                                                                                                                                                                                                                                                                                                                                                                & 3                                                                                                                                                                                                                                                                                                                                                                & 5                                                                                                                                                                                                                                                                                                                                                                & Real Bed                                                                                                                                                                                                                                                                                                                                                         & TV,Internet,Wireless Internet,Air conditioning,Kitchen,Indoor fireplace,Heating,Family/kid friendly,Washer,Dryer,Smoke detector,Carbon monoxide detector,Essentials,Shampoo                                                                                                                                                                                      &  NA                                                                                                                                                                                                                                                                                                                                                              & 92                                                                                                                                                                                                                                                                                                                                                               &  96                                                                                                                                                                                                                                                                                                                                                             \\\\\n",
       "\t 28004                                                                                                                                                                                                                                                                                                                                                            & Universidad                                                                                                                                                                                                                                                                                                                                                      & Apartment                                                                                                                                                                                                                                                                                                                                                        & Entire home/apt                                                                                                                                                                                                                                                                                                                                                  & 3                                                                                                                                                                                                                                                                                                                                                                & 1                                                                                                                                                                                                                                                                                                                                                                & 2                                                                                                                                                                                                                                                                                                                                                                & 2                                                                                                                                                                                                                                                                                                                                                                & Real Bed                                                                                                                                                                                                                                                                                                                                                         & TV,Internet,Wireless Internet,Air conditioning,Kitchen,Doorman,Heating,Family/kid friendly,Washer,Essentials,Shampoo,Hangers,Hair dryer,Iron,Laptop friendly workspace                                                                                                                                                                                           &  NA                                                                                                                                                                                                                                                                                                                                                              & 55                                                                                                                                                                                                                                                                                                                                                               &  91                                                                                                                                                                                                                                                                                                                                                             \\\\\n",
       "\t 28004                                                                                                                                                                                                                                                                                                                                                                    & Universidad                                                                                                                                                                                                                                                                                                                                                              & Loft                                                                                                                                                                                                                                                                                                                                                                     & Entire home/apt                                                                                                                                                                                                                                                                                                                                                          & 3                                                                                                                                                                                                                                                                                                                                                                        & 2                                                                                                                                                                                                                                                                                                                                                                        & 1                                                                                                                                                                                                                                                                                                                                                                        & 1                                                                                                                                                                                                                                                                                                                                                                        & Real Bed                                                                                                                                                                                                                                                                                                                                                                 & TV,Internet,Wireless Internet,Air conditioning,Kitchen,Pets allowed,Breakfast,Elevator in building,Indoor fireplace,Buzzer/wireless intercom,Heating,Washer,Essentials,Shampoo,Hangers,Hair dryer,Iron,Laptop friendly workspace,translation missing: en.hosting\\_amenity\\_49,translation missing: en.hosting\\_amenity\\_50                                           &  NA                                                                                                                                                                                                                                                                                                                                                                      & 60                                                                                                                                                                                                                                                                                                                                                                       & 100                                                                                                                                                                                                                                                                                                                                                                     \\\\\n",
       "\t 28015                                                                                                                                                                                                                                                                                                                                                            & Universidad                                                                                                                                                                                                                                                                                                                                                      & Apartment                                                                                                                                                                                                                                                                                                                                                        & Entire home/apt                                                                                                                                                                                                                                                                                                                                                  & 5                                                                                                                                                                                                                                                                                                                                                                & 1                                                                                                                                                                                                                                                                                                                                                                & 1                                                                                                                                                                                                                                                                                                                                                                & 1                                                                                                                                                                                                                                                                                                                                                                & Real Bed                                                                                                                                                                                                                                                                                                                                                         & TV,Wireless Internet,Air conditioning,Kitchen,Smoking allowed,Pets allowed,Elevator in building,Heating,Family/kid friendly,Washer,Essentials,Iron                                                                                                                                                                                                               & 538                                                                                                                                                                                                                                                                                                                                                              & 75                                                                                                                                                                                                                                                                                                                                                               &  90                                                                                                                                                                                                                                                                                                                                                             \\\\\n",
       "\t 28004                                                                                                                                                                                                                                                                                                                                                            & Universidad                                                                                                                                                                                                                                                                                                                                                      & Apartment                                                                                                                                                                                                                                                                                                                                                        & Entire home/apt                                                                                                                                                                                                                                                                                                                                                  & 2                                                                                                                                                                                                                                                                                                                                                                & 1                                                                                                                                                                                                                                                                                                                                                                & 0                                                                                                                                                                                                                                                                                                                                                                & 1                                                                                                                                                                                                                                                                                                                                                                & Real Bed                                                                                                                                                                                                                                                                                                                                                         & TV,Cable TV,Internet,Wireless Internet,Air conditioning,Wheelchair accessible,Kitchen,Doorman,Elevator in building,Buzzer/wireless intercom,Heating,Washer,Smoke detector,Carbon monoxide detector,First aid kit,Safety card,Fire extinguisher,Essentials,Shampoo,24-hour check-in,Hangers,Hair dryer,Iron,Laptop friendly workspace,Self Check-In,Doorman Entry &  NA                                                                                                                                                                                                                                                                                                                                                              & 55                                                                                                                                                                                                                                                                                                                                                               &  95                                                                                                                                                                                                                                                                                                                                                             \\\\\n",
       "\\end{tabular}\n"
      ],
      "text/markdown": [
       "\n",
       "| Zipcode | Neighbourhood.Cleansed | Property.Type | Room.Type | Accommodates | Bathrooms | Bedrooms | Beds | Bed.Type | Amenities | Square.Feet | Price | Review.Scores.Rating |\n",
       "|---|---|---|---|---|---|---|---|---|---|---|---|---|\n",
       "| 28004                                                                                                                                                                                                                                                                                                                                                            | Universidad                                                                                                                                                                                                                                                                                                                                                      | Apartment                                                                                                                                                                                                                                                                                                                                                        | Private room                                                                                                                                                                                                                                                                                                                                                     | 2                                                                                                                                                                                                                                                                                                                                                                | 2                                                                                                                                                                                                                                                                                                                                                                | 1                                                                                                                                                                                                                                                                                                                                                                | 1                                                                                                                                                                                                                                                                                                                                                                | Real Bed                                                                                                                                                                                                                                                                                                                                                         | TV,Wireless Internet,Kitchen,Pets allowed,Pets live on this property,Buzzer/wireless intercom,Heating,Suitable for events,Washer,First aid kit,Essentials,Lock on bedroom door,Iron                                                                                                                                                                              |  NA                                                                                                                                                                                                                                                                                                                                                              | 35                                                                                                                                                                                                                                                                                                                                                               |  NA                                                                                                                                                                                                                                                                                                                                                              |\n",
       "| 28004                                                                                                                                                                                                                                                                                                                                                            | Universidad                                                                                                                                                                                                                                                                                                                                                      | Apartment                                                                                                                                                                                                                                                                                                                                                        | Entire home/apt                                                                                                                                                                                                                                                                                                                                                  | 6                                                                                                                                                                                                                                                                                                                                                                | 1                                                                                                                                                                                                                                                                                                                                                                | 3                                                                                                                                                                                                                                                                                                                                                                | 5                                                                                                                                                                                                                                                                                                                                                                | Real Bed                                                                                                                                                                                                                                                                                                                                                         | TV,Internet,Wireless Internet,Air conditioning,Kitchen,Indoor fireplace,Heating,Family/kid friendly,Washer,Dryer,Smoke detector,Carbon monoxide detector,Essentials,Shampoo                                                                                                                                                                                      |  NA                                                                                                                                                                                                                                                                                                                                                              | 92                                                                                                                                                                                                                                                                                                                                                               |  96                                                                                                                                                                                                                                                                                                                                                              |\n",
       "| 28004                                                                                                                                                                                                                                                                                                                                                            | Universidad                                                                                                                                                                                                                                                                                                                                                      | Apartment                                                                                                                                                                                                                                                                                                                                                        | Entire home/apt                                                                                                                                                                                                                                                                                                                                                  | 3                                                                                                                                                                                                                                                                                                                                                                | 1                                                                                                                                                                                                                                                                                                                                                                | 2                                                                                                                                                                                                                                                                                                                                                                | 2                                                                                                                                                                                                                                                                                                                                                                | Real Bed                                                                                                                                                                                                                                                                                                                                                         | TV,Internet,Wireless Internet,Air conditioning,Kitchen,Doorman,Heating,Family/kid friendly,Washer,Essentials,Shampoo,Hangers,Hair dryer,Iron,Laptop friendly workspace                                                                                                                                                                                           |  NA                                                                                                                                                                                                                                                                                                                                                              | 55                                                                                                                                                                                                                                                                                                                                                               |  91                                                                                                                                                                                                                                                                                                                                                              |\n",
       "| 28004                                                                                                                                                                                                                                                                                                                                                            | Universidad                                                                                                                                                                                                                                                                                                                                                      | Loft                                                                                                                                                                                                                                                                                                                                                             | Entire home/apt                                                                                                                                                                                                                                                                                                                                                  | 3                                                                                                                                                                                                                                                                                                                                                                | 2                                                                                                                                                                                                                                                                                                                                                                | 1                                                                                                                                                                                                                                                                                                                                                                | 1                                                                                                                                                                                                                                                                                                                                                                | Real Bed                                                                                                                                                                                                                                                                                                                                                         | TV,Internet,Wireless Internet,Air conditioning,Kitchen,Pets allowed,Breakfast,Elevator in building,Indoor fireplace,Buzzer/wireless intercom,Heating,Washer,Essentials,Shampoo,Hangers,Hair dryer,Iron,Laptop friendly workspace,translation missing: en.hosting_amenity_49,translation missing: en.hosting_amenity_50                                           |  NA                                                                                                                                                                                                                                                                                                                                                              | 60                                                                                                                                                                                                                                                                                                                                                               | 100                                                                                                                                                                                                                                                                                                                                                              |\n",
       "| 28015                                                                                                                                                                                                                                                                                                                                                            | Universidad                                                                                                                                                                                                                                                                                                                                                      | Apartment                                                                                                                                                                                                                                                                                                                                                        | Entire home/apt                                                                                                                                                                                                                                                                                                                                                  | 5                                                                                                                                                                                                                                                                                                                                                                | 1                                                                                                                                                                                                                                                                                                                                                                | 1                                                                                                                                                                                                                                                                                                                                                                | 1                                                                                                                                                                                                                                                                                                                                                                | Real Bed                                                                                                                                                                                                                                                                                                                                                         | TV,Wireless Internet,Air conditioning,Kitchen,Smoking allowed,Pets allowed,Elevator in building,Heating,Family/kid friendly,Washer,Essentials,Iron                                                                                                                                                                                                               | 538                                                                                                                                                                                                                                                                                                                                                              | 75                                                                                                                                                                                                                                                                                                                                                               |  90                                                                                                                                                                                                                                                                                                                                                              |\n",
       "| 28004                                                                                                                                                                                                                                                                                                                                                            | Universidad                                                                                                                                                                                                                                                                                                                                                      | Apartment                                                                                                                                                                                                                                                                                                                                                        | Entire home/apt                                                                                                                                                                                                                                                                                                                                                  | 2                                                                                                                                                                                                                                                                                                                                                                | 1                                                                                                                                                                                                                                                                                                                                                                | 0                                                                                                                                                                                                                                                                                                                                                                | 1                                                                                                                                                                                                                                                                                                                                                                | Real Bed                                                                                                                                                                                                                                                                                                                                                         | TV,Cable TV,Internet,Wireless Internet,Air conditioning,Wheelchair accessible,Kitchen,Doorman,Elevator in building,Buzzer/wireless intercom,Heating,Washer,Smoke detector,Carbon monoxide detector,First aid kit,Safety card,Fire extinguisher,Essentials,Shampoo,24-hour check-in,Hangers,Hair dryer,Iron,Laptop friendly workspace,Self Check-In,Doorman Entry |  NA                                                                                                                                                                                                                                                                                                                                                              | 55                                                                                                                                                                                                                                                                                                                                                               |  95                                                                                                                                                                                                                                                                                                                                                              |\n",
       "\n"
      ],
      "text/plain": [
       "  Zipcode Neighbourhood.Cleansed Property.Type Room.Type       Accommodates\n",
       "1 28004   Universidad            Apartment     Private room    2           \n",
       "2 28004   Universidad            Apartment     Entire home/apt 6           \n",
       "3 28004   Universidad            Apartment     Entire home/apt 3           \n",
       "4 28004   Universidad            Loft          Entire home/apt 3           \n",
       "5 28015   Universidad            Apartment     Entire home/apt 5           \n",
       "6 28004   Universidad            Apartment     Entire home/apt 2           \n",
       "  Bathrooms Bedrooms Beds Bed.Type\n",
       "1 2         1        1    Real Bed\n",
       "2 1         3        5    Real Bed\n",
       "3 1         2        2    Real Bed\n",
       "4 2         1        1    Real Bed\n",
       "5 1         1        1    Real Bed\n",
       "6 1         0        1    Real Bed\n",
       "  Amenities                                                                                                                                                                                                                                                                                                                                                       \n",
       "1 TV,Wireless Internet,Kitchen,Pets allowed,Pets live on this property,Buzzer/wireless intercom,Heating,Suitable for events,Washer,First aid kit,Essentials,Lock on bedroom door,Iron                                                                                                                                                                             \n",
       "2 TV,Internet,Wireless Internet,Air conditioning,Kitchen,Indoor fireplace,Heating,Family/kid friendly,Washer,Dryer,Smoke detector,Carbon monoxide detector,Essentials,Shampoo                                                                                                                                                                                     \n",
       "3 TV,Internet,Wireless Internet,Air conditioning,Kitchen,Doorman,Heating,Family/kid friendly,Washer,Essentials,Shampoo,Hangers,Hair dryer,Iron,Laptop friendly workspace                                                                                                                                                                                          \n",
       "4 TV,Internet,Wireless Internet,Air conditioning,Kitchen,Pets allowed,Breakfast,Elevator in building,Indoor fireplace,Buzzer/wireless intercom,Heating,Washer,Essentials,Shampoo,Hangers,Hair dryer,Iron,Laptop friendly workspace,translation missing: en.hosting_amenity_49,translation missing: en.hosting_amenity_50                                          \n",
       "5 TV,Wireless Internet,Air conditioning,Kitchen,Smoking allowed,Pets allowed,Elevator in building,Heating,Family/kid friendly,Washer,Essentials,Iron                                                                                                                                                                                                              \n",
       "6 TV,Cable TV,Internet,Wireless Internet,Air conditioning,Wheelchair accessible,Kitchen,Doorman,Elevator in building,Buzzer/wireless intercom,Heating,Washer,Smoke detector,Carbon monoxide detector,First aid kit,Safety card,Fire extinguisher,Essentials,Shampoo,24-hour check-in,Hangers,Hair dryer,Iron,Laptop friendly workspace,Self Check-In,Doorman Entry\n",
       "  Square.Feet Price Review.Scores.Rating\n",
       "1  NA         35     NA                 \n",
       "2  NA         92     96                 \n",
       "3  NA         55     91                 \n",
       "4  NA         60    100                 \n",
       "5 538         75     90                 \n",
       "6  NA         55     95                 "
      ]
     },
     "metadata": {},
     "output_type": "display_data"
    }
   ],
   "source": [
    "head(airbnb, n=6)"
   ]
  },
  {
   "cell_type": "markdown",
   "metadata": {},
   "source": [
    "Renombrar las columnas de la siguiente forma:\n",
    "\n",
    "| Nombre original | Nuevo nombre |\n",
    "| - | - |\n",
    "| Zipcode | CodigoPostal |\n",
    "| Neighbourhood.Cleansed | Barrio |\n",
    "| Property.Type\t| TipoPropiedad |\n",
    "| Room.Type | TipoAlquiler |\n",
    "| Accommodates | MaxOcupantes |\n",
    "| Bathrooms\t| NumBanyos |\n",
    "| Bedrooms\t| NumDormitorios |\n",
    "| Beds\t|  NumCamas |\n",
    "| Bed.Type\t| TipoCama |\n",
    "| Amenities | Comodidades |\n",
    "| Square.Feet | PiesCuadrados |\n",
    "| Price\t| Precio |\n",
    "| Review.Scores.Rating | Puntuacion |"
   ]
  },
  {
   "cell_type": "code",
   "execution_count": 4,
   "metadata": {},
   "outputs": [
    {
     "data": {
      "text/html": [
       "<table>\n",
       "<thead><tr><th scope=col>CodigoPostal</th><th scope=col>Barrio</th><th scope=col>TipoPropiedad</th><th scope=col>TipoAlquiler</th><th scope=col>MaxOcupantes</th><th scope=col>NumBanyos</th><th scope=col>NumDormitorios</th><th scope=col>NumCamas</th><th scope=col>TipoCama</th><th scope=col>Comodidades</th><th scope=col>PiesCuadrados</th><th scope=col>Precio</th><th scope=col>Puntuacion</th></tr></thead>\n",
       "<tbody>\n",
       "\t<tr><td>28004                                                                                                                                                                                                                                                                                                                                                           </td><td>Universidad                                                                                                                                                                                                                                                                                                                                                     </td><td>Apartment                                                                                                                                                                                                                                                                                                                                                       </td><td>Private room                                                                                                                                                                                                                                                                                                                                                    </td><td>2                                                                                                                                                                                                                                                                                                                                                               </td><td>2                                                                                                                                                                                                                                                                                                                                                               </td><td>1                                                                                                                                                                                                                                                                                                                                                               </td><td>1                                                                                                                                                                                                                                                                                                                                                               </td><td>Real Bed                                                                                                                                                                                                                                                                                                                                                        </td><td>TV,Wireless Internet,Kitchen,Pets allowed,Pets live on this property,Buzzer/wireless intercom,Heating,Suitable for events,Washer,First aid kit,Essentials,Lock on bedroom door,Iron                                                                                                                                                                             </td><td> NA                                                                                                                                                                                                                                                                                                                                                             </td><td>35                                                                                                                                                                                                                                                                                                                                                              </td><td> NA                                                                                                                                                                                                                                                                                                                                                             </td></tr>\n",
       "\t<tr><td>28004                                                                                                                                                                                                                                                                                                                                                           </td><td>Universidad                                                                                                                                                                                                                                                                                                                                                     </td><td>Apartment                                                                                                                                                                                                                                                                                                                                                       </td><td>Entire home/apt                                                                                                                                                                                                                                                                                                                                                 </td><td>6                                                                                                                                                                                                                                                                                                                                                               </td><td>1                                                                                                                                                                                                                                                                                                                                                               </td><td>3                                                                                                                                                                                                                                                                                                                                                               </td><td>5                                                                                                                                                                                                                                                                                                                                                               </td><td>Real Bed                                                                                                                                                                                                                                                                                                                                                        </td><td>TV,Internet,Wireless Internet,Air conditioning,Kitchen,Indoor fireplace,Heating,Family/kid friendly,Washer,Dryer,Smoke detector,Carbon monoxide detector,Essentials,Shampoo                                                                                                                                                                                     </td><td> NA                                                                                                                                                                                                                                                                                                                                                             </td><td>92                                                                                                                                                                                                                                                                                                                                                              </td><td> 96                                                                                                                                                                                                                                                                                                                                                             </td></tr>\n",
       "\t<tr><td>28004                                                                                                                                                                                                                                                                                                                                                           </td><td>Universidad                                                                                                                                                                                                                                                                                                                                                     </td><td>Apartment                                                                                                                                                                                                                                                                                                                                                       </td><td>Entire home/apt                                                                                                                                                                                                                                                                                                                                                 </td><td>3                                                                                                                                                                                                                                                                                                                                                               </td><td>1                                                                                                                                                                                                                                                                                                                                                               </td><td>2                                                                                                                                                                                                                                                                                                                                                               </td><td>2                                                                                                                                                                                                                                                                                                                                                               </td><td>Real Bed                                                                                                                                                                                                                                                                                                                                                        </td><td>TV,Internet,Wireless Internet,Air conditioning,Kitchen,Doorman,Heating,Family/kid friendly,Washer,Essentials,Shampoo,Hangers,Hair dryer,Iron,Laptop friendly workspace                                                                                                                                                                                          </td><td> NA                                                                                                                                                                                                                                                                                                                                                             </td><td>55                                                                                                                                                                                                                                                                                                                                                              </td><td> 91                                                                                                                                                                                                                                                                                                                                                             </td></tr>\n",
       "\t<tr><td>28004                                                                                                                                                                                                                                                                                                                                                           </td><td>Universidad                                                                                                                                                                                                                                                                                                                                                     </td><td>Loft                                                                                                                                                                                                                                                                                                                                                            </td><td>Entire home/apt                                                                                                                                                                                                                                                                                                                                                 </td><td>3                                                                                                                                                                                                                                                                                                                                                               </td><td>2                                                                                                                                                                                                                                                                                                                                                               </td><td>1                                                                                                                                                                                                                                                                                                                                                               </td><td>1                                                                                                                                                                                                                                                                                                                                                               </td><td>Real Bed                                                                                                                                                                                                                                                                                                                                                        </td><td>TV,Internet,Wireless Internet,Air conditioning,Kitchen,Pets allowed,Breakfast,Elevator in building,Indoor fireplace,Buzzer/wireless intercom,Heating,Washer,Essentials,Shampoo,Hangers,Hair dryer,Iron,Laptop friendly workspace,translation missing: en.hosting_amenity_49,translation missing: en.hosting_amenity_50                                          </td><td> NA                                                                                                                                                                                                                                                                                                                                                             </td><td>60                                                                                                                                                                                                                                                                                                                                                              </td><td>100                                                                                                                                                                                                                                                                                                                                                             </td></tr>\n",
       "\t<tr><td>28015                                                                                                                                                                                                                                                                                                                                                           </td><td>Universidad                                                                                                                                                                                                                                                                                                                                                     </td><td>Apartment                                                                                                                                                                                                                                                                                                                                                       </td><td>Entire home/apt                                                                                                                                                                                                                                                                                                                                                 </td><td>5                                                                                                                                                                                                                                                                                                                                                               </td><td>1                                                                                                                                                                                                                                                                                                                                                               </td><td>1                                                                                                                                                                                                                                                                                                                                                               </td><td>1                                                                                                                                                                                                                                                                                                                                                               </td><td>Real Bed                                                                                                                                                                                                                                                                                                                                                        </td><td>TV,Wireless Internet,Air conditioning,Kitchen,Smoking allowed,Pets allowed,Elevator in building,Heating,Family/kid friendly,Washer,Essentials,Iron                                                                                                                                                                                                              </td><td>538                                                                                                                                                                                                                                                                                                                                                             </td><td>75                                                                                                                                                                                                                                                                                                                                                              </td><td> 90                                                                                                                                                                                                                                                                                                                                                             </td></tr>\n",
       "\t<tr><td>28004                                                                                                                                                                                                                                                                                                                                                           </td><td>Universidad                                                                                                                                                                                                                                                                                                                                                     </td><td>Apartment                                                                                                                                                                                                                                                                                                                                                       </td><td>Entire home/apt                                                                                                                                                                                                                                                                                                                                                 </td><td>2                                                                                                                                                                                                                                                                                                                                                               </td><td>1                                                                                                                                                                                                                                                                                                                                                               </td><td>0                                                                                                                                                                                                                                                                                                                                                               </td><td>1                                                                                                                                                                                                                                                                                                                                                               </td><td>Real Bed                                                                                                                                                                                                                                                                                                                                                        </td><td>TV,Cable TV,Internet,Wireless Internet,Air conditioning,Wheelchair accessible,Kitchen,Doorman,Elevator in building,Buzzer/wireless intercom,Heating,Washer,Smoke detector,Carbon monoxide detector,First aid kit,Safety card,Fire extinguisher,Essentials,Shampoo,24-hour check-in,Hangers,Hair dryer,Iron,Laptop friendly workspace,Self Check-In,Doorman Entry</td><td> NA                                                                                                                                                                                                                                                                                                                                                             </td><td>55                                                                                                                                                                                                                                                                                                                                                              </td><td> 95                                                                                                                                                                                                                                                                                                                                                             </td></tr>\n",
       "</tbody>\n",
       "</table>\n"
      ],
      "text/latex": [
       "\\begin{tabular}{r|lllllllllllll}\n",
       " CodigoPostal & Barrio & TipoPropiedad & TipoAlquiler & MaxOcupantes & NumBanyos & NumDormitorios & NumCamas & TipoCama & Comodidades & PiesCuadrados & Precio & Puntuacion\\\\\n",
       "\\hline\n",
       "\t 28004                                                                                                                                                                                                                                                                                                                                                            & Universidad                                                                                                                                                                                                                                                                                                                                                      & Apartment                                                                                                                                                                                                                                                                                                                                                        & Private room                                                                                                                                                                                                                                                                                                                                                     & 2                                                                                                                                                                                                                                                                                                                                                                & 2                                                                                                                                                                                                                                                                                                                                                                & 1                                                                                                                                                                                                                                                                                                                                                                & 1                                                                                                                                                                                                                                                                                                                                                                & Real Bed                                                                                                                                                                                                                                                                                                                                                         & TV,Wireless Internet,Kitchen,Pets allowed,Pets live on this property,Buzzer/wireless intercom,Heating,Suitable for events,Washer,First aid kit,Essentials,Lock on bedroom door,Iron                                                                                                                                                                              &  NA                                                                                                                                                                                                                                                                                                                                                              & 35                                                                                                                                                                                                                                                                                                                                                               &  NA                                                                                                                                                                                                                                                                                                                                                             \\\\\n",
       "\t 28004                                                                                                                                                                                                                                                                                                                                                            & Universidad                                                                                                                                                                                                                                                                                                                                                      & Apartment                                                                                                                                                                                                                                                                                                                                                        & Entire home/apt                                                                                                                                                                                                                                                                                                                                                  & 6                                                                                                                                                                                                                                                                                                                                                                & 1                                                                                                                                                                                                                                                                                                                                                                & 3                                                                                                                                                                                                                                                                                                                                                                & 5                                                                                                                                                                                                                                                                                                                                                                & Real Bed                                                                                                                                                                                                                                                                                                                                                         & TV,Internet,Wireless Internet,Air conditioning,Kitchen,Indoor fireplace,Heating,Family/kid friendly,Washer,Dryer,Smoke detector,Carbon monoxide detector,Essentials,Shampoo                                                                                                                                                                                      &  NA                                                                                                                                                                                                                                                                                                                                                              & 92                                                                                                                                                                                                                                                                                                                                                               &  96                                                                                                                                                                                                                                                                                                                                                             \\\\\n",
       "\t 28004                                                                                                                                                                                                                                                                                                                                                            & Universidad                                                                                                                                                                                                                                                                                                                                                      & Apartment                                                                                                                                                                                                                                                                                                                                                        & Entire home/apt                                                                                                                                                                                                                                                                                                                                                  & 3                                                                                                                                                                                                                                                                                                                                                                & 1                                                                                                                                                                                                                                                                                                                                                                & 2                                                                                                                                                                                                                                                                                                                                                                & 2                                                                                                                                                                                                                                                                                                                                                                & Real Bed                                                                                                                                                                                                                                                                                                                                                         & TV,Internet,Wireless Internet,Air conditioning,Kitchen,Doorman,Heating,Family/kid friendly,Washer,Essentials,Shampoo,Hangers,Hair dryer,Iron,Laptop friendly workspace                                                                                                                                                                                           &  NA                                                                                                                                                                                                                                                                                                                                                              & 55                                                                                                                                                                                                                                                                                                                                                               &  91                                                                                                                                                                                                                                                                                                                                                             \\\\\n",
       "\t 28004                                                                                                                                                                                                                                                                                                                                                                    & Universidad                                                                                                                                                                                                                                                                                                                                                              & Loft                                                                                                                                                                                                                                                                                                                                                                     & Entire home/apt                                                                                                                                                                                                                                                                                                                                                          & 3                                                                                                                                                                                                                                                                                                                                                                        & 2                                                                                                                                                                                                                                                                                                                                                                        & 1                                                                                                                                                                                                                                                                                                                                                                        & 1                                                                                                                                                                                                                                                                                                                                                                        & Real Bed                                                                                                                                                                                                                                                                                                                                                                 & TV,Internet,Wireless Internet,Air conditioning,Kitchen,Pets allowed,Breakfast,Elevator in building,Indoor fireplace,Buzzer/wireless intercom,Heating,Washer,Essentials,Shampoo,Hangers,Hair dryer,Iron,Laptop friendly workspace,translation missing: en.hosting\\_amenity\\_49,translation missing: en.hosting\\_amenity\\_50                                           &  NA                                                                                                                                                                                                                                                                                                                                                                      & 60                                                                                                                                                                                                                                                                                                                                                                       & 100                                                                                                                                                                                                                                                                                                                                                                     \\\\\n",
       "\t 28015                                                                                                                                                                                                                                                                                                                                                            & Universidad                                                                                                                                                                                                                                                                                                                                                      & Apartment                                                                                                                                                                                                                                                                                                                                                        & Entire home/apt                                                                                                                                                                                                                                                                                                                                                  & 5                                                                                                                                                                                                                                                                                                                                                                & 1                                                                                                                                                                                                                                                                                                                                                                & 1                                                                                                                                                                                                                                                                                                                                                                & 1                                                                                                                                                                                                                                                                                                                                                                & Real Bed                                                                                                                                                                                                                                                                                                                                                         & TV,Wireless Internet,Air conditioning,Kitchen,Smoking allowed,Pets allowed,Elevator in building,Heating,Family/kid friendly,Washer,Essentials,Iron                                                                                                                                                                                                               & 538                                                                                                                                                                                                                                                                                                                                                              & 75                                                                                                                                                                                                                                                                                                                                                               &  90                                                                                                                                                                                                                                                                                                                                                             \\\\\n",
       "\t 28004                                                                                                                                                                                                                                                                                                                                                            & Universidad                                                                                                                                                                                                                                                                                                                                                      & Apartment                                                                                                                                                                                                                                                                                                                                                        & Entire home/apt                                                                                                                                                                                                                                                                                                                                                  & 2                                                                                                                                                                                                                                                                                                                                                                & 1                                                                                                                                                                                                                                                                                                                                                                & 0                                                                                                                                                                                                                                                                                                                                                                & 1                                                                                                                                                                                                                                                                                                                                                                & Real Bed                                                                                                                                                                                                                                                                                                                                                         & TV,Cable TV,Internet,Wireless Internet,Air conditioning,Wheelchair accessible,Kitchen,Doorman,Elevator in building,Buzzer/wireless intercom,Heating,Washer,Smoke detector,Carbon monoxide detector,First aid kit,Safety card,Fire extinguisher,Essentials,Shampoo,24-hour check-in,Hangers,Hair dryer,Iron,Laptop friendly workspace,Self Check-In,Doorman Entry &  NA                                                                                                                                                                                                                                                                                                                                                              & 55                                                                                                                                                                                                                                                                                                                                                               &  95                                                                                                                                                                                                                                                                                                                                                             \\\\\n",
       "\\end{tabular}\n"
      ],
      "text/markdown": [
       "\n",
       "| CodigoPostal | Barrio | TipoPropiedad | TipoAlquiler | MaxOcupantes | NumBanyos | NumDormitorios | NumCamas | TipoCama | Comodidades | PiesCuadrados | Precio | Puntuacion |\n",
       "|---|---|---|---|---|---|---|---|---|---|---|---|---|\n",
       "| 28004                                                                                                                                                                                                                                                                                                                                                            | Universidad                                                                                                                                                                                                                                                                                                                                                      | Apartment                                                                                                                                                                                                                                                                                                                                                        | Private room                                                                                                                                                                                                                                                                                                                                                     | 2                                                                                                                                                                                                                                                                                                                                                                | 2                                                                                                                                                                                                                                                                                                                                                                | 1                                                                                                                                                                                                                                                                                                                                                                | 1                                                                                                                                                                                                                                                                                                                                                                | Real Bed                                                                                                                                                                                                                                                                                                                                                         | TV,Wireless Internet,Kitchen,Pets allowed,Pets live on this property,Buzzer/wireless intercom,Heating,Suitable for events,Washer,First aid kit,Essentials,Lock on bedroom door,Iron                                                                                                                                                                              |  NA                                                                                                                                                                                                                                                                                                                                                              | 35                                                                                                                                                                                                                                                                                                                                                               |  NA                                                                                                                                                                                                                                                                                                                                                              |\n",
       "| 28004                                                                                                                                                                                                                                                                                                                                                            | Universidad                                                                                                                                                                                                                                                                                                                                                      | Apartment                                                                                                                                                                                                                                                                                                                                                        | Entire home/apt                                                                                                                                                                                                                                                                                                                                                  | 6                                                                                                                                                                                                                                                                                                                                                                | 1                                                                                                                                                                                                                                                                                                                                                                | 3                                                                                                                                                                                                                                                                                                                                                                | 5                                                                                                                                                                                                                                                                                                                                                                | Real Bed                                                                                                                                                                                                                                                                                                                                                         | TV,Internet,Wireless Internet,Air conditioning,Kitchen,Indoor fireplace,Heating,Family/kid friendly,Washer,Dryer,Smoke detector,Carbon monoxide detector,Essentials,Shampoo                                                                                                                                                                                      |  NA                                                                                                                                                                                                                                                                                                                                                              | 92                                                                                                                                                                                                                                                                                                                                                               |  96                                                                                                                                                                                                                                                                                                                                                              |\n",
       "| 28004                                                                                                                                                                                                                                                                                                                                                            | Universidad                                                                                                                                                                                                                                                                                                                                                      | Apartment                                                                                                                                                                                                                                                                                                                                                        | Entire home/apt                                                                                                                                                                                                                                                                                                                                                  | 3                                                                                                                                                                                                                                                                                                                                                                | 1                                                                                                                                                                                                                                                                                                                                                                | 2                                                                                                                                                                                                                                                                                                                                                                | 2                                                                                                                                                                                                                                                                                                                                                                | Real Bed                                                                                                                                                                                                                                                                                                                                                         | TV,Internet,Wireless Internet,Air conditioning,Kitchen,Doorman,Heating,Family/kid friendly,Washer,Essentials,Shampoo,Hangers,Hair dryer,Iron,Laptop friendly workspace                                                                                                                                                                                           |  NA                                                                                                                                                                                                                                                                                                                                                              | 55                                                                                                                                                                                                                                                                                                                                                               |  91                                                                                                                                                                                                                                                                                                                                                              |\n",
       "| 28004                                                                                                                                                                                                                                                                                                                                                            | Universidad                                                                                                                                                                                                                                                                                                                                                      | Loft                                                                                                                                                                                                                                                                                                                                                             | Entire home/apt                                                                                                                                                                                                                                                                                                                                                  | 3                                                                                                                                                                                                                                                                                                                                                                | 2                                                                                                                                                                                                                                                                                                                                                                | 1                                                                                                                                                                                                                                                                                                                                                                | 1                                                                                                                                                                                                                                                                                                                                                                | Real Bed                                                                                                                                                                                                                                                                                                                                                         | TV,Internet,Wireless Internet,Air conditioning,Kitchen,Pets allowed,Breakfast,Elevator in building,Indoor fireplace,Buzzer/wireless intercom,Heating,Washer,Essentials,Shampoo,Hangers,Hair dryer,Iron,Laptop friendly workspace,translation missing: en.hosting_amenity_49,translation missing: en.hosting_amenity_50                                           |  NA                                                                                                                                                                                                                                                                                                                                                              | 60                                                                                                                                                                                                                                                                                                                                                               | 100                                                                                                                                                                                                                                                                                                                                                              |\n",
       "| 28015                                                                                                                                                                                                                                                                                                                                                            | Universidad                                                                                                                                                                                                                                                                                                                                                      | Apartment                                                                                                                                                                                                                                                                                                                                                        | Entire home/apt                                                                                                                                                                                                                                                                                                                                                  | 5                                                                                                                                                                                                                                                                                                                                                                | 1                                                                                                                                                                                                                                                                                                                                                                | 1                                                                                                                                                                                                                                                                                                                                                                | 1                                                                                                                                                                                                                                                                                                                                                                | Real Bed                                                                                                                                                                                                                                                                                                                                                         | TV,Wireless Internet,Air conditioning,Kitchen,Smoking allowed,Pets allowed,Elevator in building,Heating,Family/kid friendly,Washer,Essentials,Iron                                                                                                                                                                                                               | 538                                                                                                                                                                                                                                                                                                                                                              | 75                                                                                                                                                                                                                                                                                                                                                               |  90                                                                                                                                                                                                                                                                                                                                                              |\n",
       "| 28004                                                                                                                                                                                                                                                                                                                                                            | Universidad                                                                                                                                                                                                                                                                                                                                                      | Apartment                                                                                                                                                                                                                                                                                                                                                        | Entire home/apt                                                                                                                                                                                                                                                                                                                                                  | 2                                                                                                                                                                                                                                                                                                                                                                | 1                                                                                                                                                                                                                                                                                                                                                                | 0                                                                                                                                                                                                                                                                                                                                                                | 1                                                                                                                                                                                                                                                                                                                                                                | Real Bed                                                                                                                                                                                                                                                                                                                                                         | TV,Cable TV,Internet,Wireless Internet,Air conditioning,Wheelchair accessible,Kitchen,Doorman,Elevator in building,Buzzer/wireless intercom,Heating,Washer,Smoke detector,Carbon monoxide detector,First aid kit,Safety card,Fire extinguisher,Essentials,Shampoo,24-hour check-in,Hangers,Hair dryer,Iron,Laptop friendly workspace,Self Check-In,Doorman Entry |  NA                                                                                                                                                                                                                                                                                                                                                              | 55                                                                                                                                                                                                                                                                                                                                                               |  95                                                                                                                                                                                                                                                                                                                                                              |\n",
       "\n"
      ],
      "text/plain": [
       "  CodigoPostal Barrio      TipoPropiedad TipoAlquiler    MaxOcupantes NumBanyos\n",
       "1 28004        Universidad Apartment     Private room    2            2        \n",
       "2 28004        Universidad Apartment     Entire home/apt 6            1        \n",
       "3 28004        Universidad Apartment     Entire home/apt 3            1        \n",
       "4 28004        Universidad Loft          Entire home/apt 3            2        \n",
       "5 28015        Universidad Apartment     Entire home/apt 5            1        \n",
       "6 28004        Universidad Apartment     Entire home/apt 2            1        \n",
       "  NumDormitorios NumCamas TipoCama\n",
       "1 1              1        Real Bed\n",
       "2 3              5        Real Bed\n",
       "3 2              2        Real Bed\n",
       "4 1              1        Real Bed\n",
       "5 1              1        Real Bed\n",
       "6 0              1        Real Bed\n",
       "  Comodidades                                                                                                                                                                                                                                                                                                                                                     \n",
       "1 TV,Wireless Internet,Kitchen,Pets allowed,Pets live on this property,Buzzer/wireless intercom,Heating,Suitable for events,Washer,First aid kit,Essentials,Lock on bedroom door,Iron                                                                                                                                                                             \n",
       "2 TV,Internet,Wireless Internet,Air conditioning,Kitchen,Indoor fireplace,Heating,Family/kid friendly,Washer,Dryer,Smoke detector,Carbon monoxide detector,Essentials,Shampoo                                                                                                                                                                                     \n",
       "3 TV,Internet,Wireless Internet,Air conditioning,Kitchen,Doorman,Heating,Family/kid friendly,Washer,Essentials,Shampoo,Hangers,Hair dryer,Iron,Laptop friendly workspace                                                                                                                                                                                          \n",
       "4 TV,Internet,Wireless Internet,Air conditioning,Kitchen,Pets allowed,Breakfast,Elevator in building,Indoor fireplace,Buzzer/wireless intercom,Heating,Washer,Essentials,Shampoo,Hangers,Hair dryer,Iron,Laptop friendly workspace,translation missing: en.hosting_amenity_49,translation missing: en.hosting_amenity_50                                          \n",
       "5 TV,Wireless Internet,Air conditioning,Kitchen,Smoking allowed,Pets allowed,Elevator in building,Heating,Family/kid friendly,Washer,Essentials,Iron                                                                                                                                                                                                              \n",
       "6 TV,Cable TV,Internet,Wireless Internet,Air conditioning,Wheelchair accessible,Kitchen,Doorman,Elevator in building,Buzzer/wireless intercom,Heating,Washer,Smoke detector,Carbon monoxide detector,First aid kit,Safety card,Fire extinguisher,Essentials,Shampoo,24-hour check-in,Hangers,Hair dryer,Iron,Laptop friendly workspace,Self Check-In,Doorman Entry\n",
       "  PiesCuadrados Precio Puntuacion\n",
       "1  NA           35      NA       \n",
       "2  NA           92      96       \n",
       "3  NA           55      91       \n",
       "4  NA           60     100       \n",
       "5 538           75      90       \n",
       "6  NA           55      95       "
      ]
     },
     "metadata": {},
     "output_type": "display_data"
    }
   ],
   "source": [
    "newnames<-c(\"CodigoPostal\",\"Barrio\",\"TipoPropiedad\",\"TipoAlquiler\",\"MaxOcupantes\",\"NumBanyos\",\n",
    "\"NumDormitorios\",\"NumCamas\",\"TipoCama\",\"Comodidades\",\"PiesCuadrados\",\"Precio\",\"Puntuacion\")\n",
    "names(airbnb) <- newnames\n",
    "head(airbnb)"
   ]
  },
  {
   "cell_type": "markdown",
   "metadata": {},
   "source": [
    "Crea una nueva columna llamada MetrosCuadrados a partir de la columna PiesCuadrados.\n",
    "\n",
    "Ayuda: 1 pie cuadrado son 0,092903 metros cuadrdados"
   ]
  },
  {
   "cell_type": "code",
   "execution_count": 5,
   "metadata": {},
   "outputs": [],
   "source": [
    "airbnb$MetrosCuadrados <- airbnb$PiesCuadrados * 0.092903"
   ]
  },
  {
   "cell_type": "markdown",
   "metadata": {},
   "source": [
    "Miremos el código postal. Es una variable con entradas erroneas.\n",
    "Hay valores como '', '-'  y '28' que deberían ser considerados como NA.\n",
    "Así mismo también debería ser NA todos los que no compiencen por 28, ya que estamos con códigos postales de Madrid\n",
    "\n",
    "El código postal 28002, 28004 y 28051 tienen entradas repetidas. \n",
    "Por ejemplo las entradas 28002\\n20882 deberían ir dnetro de 28002\n",
    "\n",
    "El codigo 2804 debería ser 28004, 2805 deberia ser 28005 y 2815 juncto con 2815 debería ser 28015\n",
    "\n",
    "Limpia los datos de la columna Codigo Postal"
   ]
  },
  {
   "cell_type": "code",
   "execution_count": 6,
   "metadata": {},
   "outputs": [],
   "source": [
    "airbnb$CodigoPostal[(airbnb$CodigoPostal==\"-\" | airbnb$CodigoPostal == 28)] <- NA\n",
    "airbnb$CodigoPostal[airbnb$CodigoPostal==\"Madrid\\n28004\" | airbnb$CodigoPostal== 2804 ] <- 28004\n",
    "airbnb$CodigoPostal[airbnb$CodigoPostal==\"28051\\n28051\"] <- 28051\n",
    "airbnb$CodigoPostal[airbnb$CodigoPostal==\"28002\\n28002\"] <- 28002\n",
    "airbnb$CodigoPostal[airbnb$CodigoPostal==2805] <- 28005\n",
    "airbnb$CodigoPostal[airbnb$CodigoPostal==2815 | airbnb$CodigoPostal==28015] <- 28015\n"
   ]
  },
  {
   "cell_type": "code",
   "execution_count": 7,
   "metadata": {},
   "outputs": [],
   "source": [
    "airbnb$CodigoPostal[!grepl(\"^28\", airbnb$CodigoPostal)] <- NA\n",
    "#na.omit(airbnb$CodigoPostal)"
   ]
  },
  {
   "cell_type": "markdown",
   "metadata": {},
   "source": [
    "Una vez limpios los datos ¿Cuales son los códigos postales que tenemos? "
   ]
  },
  {
   "cell_type": "code",
   "execution_count": 40,
   "metadata": {
    "scrolled": false
   },
   "outputs": [
    {
     "data": {
      "text/html": [
       "<ol class=list-inline>\n",
       "\t<li>28004</li>\n",
       "\t<li>28015</li>\n",
       "\t<li>28013</li>\n",
       "\t<li>28005</li>\n",
       "\t<li>28012</li>\n",
       "\t<li>28014</li>\n",
       "\t<li>28045</li>\n",
       "\t<li>&lt;NA&gt;</li>\n",
       "\t<li>28007</li>\n",
       "\t<li>28028</li>\n",
       "\t<li>28009</li>\n",
       "\t<li>28001</li>\n",
       "\t<li>28006</li>\n",
       "\t<li>28010</li>\n",
       "\t<li>28002</li>\n",
       "\t<li>28034</li>\n",
       "\t<li>28050</li>\n",
       "\t<li>28008</li>\n",
       "\t<li>28011</li>\n",
       "\t<li>28049</li>\n",
       "\t<li>28038</li>\n",
       "\t<li>28053</li>\n",
       "\t<li>28047</li>\n",
       "\t<li>28025</li>\n",
       "\t<li>28019</li>\n",
       "\t<li>28024</li>\n",
       "\t<li>28016</li>\n",
       "\t<li>28036</li>\n",
       "\t<li>28046</li>\n",
       "\t<li>28039</li>\n",
       "\t<li>28020</li>\n",
       "\t<li>28003</li>\n",
       "\t<li>28029</li>\n",
       "\t<li>28054</li>\n",
       "\t<li>28041</li>\n",
       "\t<li>28026</li>\n",
       "\t<li>28058</li>\n",
       "\t<li>28018</li>\n",
       "\t<li>28030</li>\n",
       "\t<li>28017</li>\n",
       "\t<li>28027</li>\n",
       "\t<li>28043</li>\n",
       "\t<li>28033</li>\n",
       "\t<li>28055</li>\n",
       "\t<li>28021</li>\n",
       "\t<li>28032</li>\n",
       "\t<li>28037</li>\n",
       "\t<li>28022</li>\n",
       "\t<li>28042</li>\n",
       "\t<li>28094</li>\n",
       "\t<li>280013</li>\n",
       "\t<li>28035</li>\n",
       "\t<li>28040</li>\n",
       "\t<li>28031</li>\n",
       "\t<li>28044</li>\n",
       "\t<li>28105</li>\n",
       "\t<li>28023</li>\n",
       "\t<li>28051</li>\n",
       "\t<li>28850</li>\n",
       "\t<li>28048</li>\n",
       "\t<li>28056</li>\n",
       "\t<li>28060</li>\n",
       "\t<li>28052</li>\n",
       "</ol>\n",
       "\n",
       "<details>\n",
       "\t<summary style=display:list-item;cursor:pointer>\n",
       "\t\t<strong>Levels</strong>:\n",
       "\t</summary>\n",
       "\t<ol class=list-inline>\n",
       "\t\t<li>''</li>\n",
       "\t\t<li>'-'</li>\n",
       "\t\t<li>'20013'</li>\n",
       "\t\t<li>'20126'</li>\n",
       "\t\t<li>'2015'</li>\n",
       "\t\t<li>'25008'</li>\n",
       "\t\t<li>'27004'</li>\n",
       "\t\t<li>'27013'</li>\n",
       "\t\t<li>'28'</li>\n",
       "\t\t<li>'28001'</li>\n",
       "\t\t<li>'280013'</li>\n",
       "\t\t<li>'28002'</li>\n",
       "\t\t<li>'28002\\n28002'</li>\n",
       "\t\t<li>'28003'</li>\n",
       "\t\t<li>'28004'</li>\n",
       "\t\t<li>'28005'</li>\n",
       "\t\t<li>'28006'</li>\n",
       "\t\t<li>'28007'</li>\n",
       "\t\t<li>'28008'</li>\n",
       "\t\t<li>'28009'</li>\n",
       "\t\t<li>'28010'</li>\n",
       "\t\t<li>'28011'</li>\n",
       "\t\t<li>'28012'</li>\n",
       "\t\t<li>'28013'</li>\n",
       "\t\t<li>'28014'</li>\n",
       "\t\t<li>'28015'</li>\n",
       "\t\t<li>'28016'</li>\n",
       "\t\t<li>'28017'</li>\n",
       "\t\t<li>'28018'</li>\n",
       "\t\t<li>'28019'</li>\n",
       "\t\t<li>'28020'</li>\n",
       "\t\t<li>'28021'</li>\n",
       "\t\t<li>'28022'</li>\n",
       "\t\t<li>'28023'</li>\n",
       "\t\t<li>'28024'</li>\n",
       "\t\t<li>'28025'</li>\n",
       "\t\t<li>'28026'</li>\n",
       "\t\t<li>'28027'</li>\n",
       "\t\t<li>'28028'</li>\n",
       "\t\t<li>'28029'</li>\n",
       "\t\t<li>'28030'</li>\n",
       "\t\t<li>'28031'</li>\n",
       "\t\t<li>'28032'</li>\n",
       "\t\t<li>'28033'</li>\n",
       "\t\t<li>'28034'</li>\n",
       "\t\t<li>'28035'</li>\n",
       "\t\t<li>'28036'</li>\n",
       "\t\t<li>'28037'</li>\n",
       "\t\t<li>'28038'</li>\n",
       "\t\t<li>'28039'</li>\n",
       "\t\t<li>'2804'</li>\n",
       "\t\t<li>'28040'</li>\n",
       "\t\t<li>'28041'</li>\n",
       "\t\t<li>'28042'</li>\n",
       "\t\t<li>'28043'</li>\n",
       "\t\t<li>'28044'</li>\n",
       "\t\t<li>'28045'</li>\n",
       "\t\t<li>'28046'</li>\n",
       "\t\t<li>'28047'</li>\n",
       "\t\t<li>'28048'</li>\n",
       "\t\t<li>'28049'</li>\n",
       "\t\t<li>'2805'</li>\n",
       "\t\t<li>'28050'</li>\n",
       "\t\t<li>'28051'</li>\n",
       "\t\t<li>'28051\\n28051'</li>\n",
       "\t\t<li>'28052'</li>\n",
       "\t\t<li>'28053'</li>\n",
       "\t\t<li>'28054'</li>\n",
       "\t\t<li>'28055'</li>\n",
       "\t\t<li>'28056'</li>\n",
       "\t\t<li>'28058'</li>\n",
       "\t\t<li>'28060'</li>\n",
       "\t\t<li>'28094'</li>\n",
       "\t\t<li>'28105'</li>\n",
       "\t\t<li>'2815'</li>\n",
       "\t\t<li>'28850'</li>\n",
       "\t\t<li>'Madrid 28004'</li>\n",
       "\t</ol>\n",
       "</details>"
      ],
      "text/latex": [
       "\\begin{enumerate*}\n",
       "\\item 28004\n",
       "\\item 28015\n",
       "\\item 28013\n",
       "\\item 28005\n",
       "\\item 28012\n",
       "\\item 28014\n",
       "\\item 28045\n",
       "\\item <NA>\n",
       "\\item 28007\n",
       "\\item 28028\n",
       "\\item 28009\n",
       "\\item 28001\n",
       "\\item 28006\n",
       "\\item 28010\n",
       "\\item 28002\n",
       "\\item 28034\n",
       "\\item 28050\n",
       "\\item 28008\n",
       "\\item 28011\n",
       "\\item 28049\n",
       "\\item 28038\n",
       "\\item 28053\n",
       "\\item 28047\n",
       "\\item 28025\n",
       "\\item 28019\n",
       "\\item 28024\n",
       "\\item 28016\n",
       "\\item 28036\n",
       "\\item 28046\n",
       "\\item 28039\n",
       "\\item 28020\n",
       "\\item 28003\n",
       "\\item 28029\n",
       "\\item 28054\n",
       "\\item 28041\n",
       "\\item 28026\n",
       "\\item 28058\n",
       "\\item 28018\n",
       "\\item 28030\n",
       "\\item 28017\n",
       "\\item 28027\n",
       "\\item 28043\n",
       "\\item 28033\n",
       "\\item 28055\n",
       "\\item 28021\n",
       "\\item 28032\n",
       "\\item 28037\n",
       "\\item 28022\n",
       "\\item 28042\n",
       "\\item 28094\n",
       "\\item 280013\n",
       "\\item 28035\n",
       "\\item 28040\n",
       "\\item 28031\n",
       "\\item 28044\n",
       "\\item 28105\n",
       "\\item 28023\n",
       "\\item 28051\n",
       "\\item 28850\n",
       "\\item 28048\n",
       "\\item 28056\n",
       "\\item 28060\n",
       "\\item 28052\n",
       "\\end{enumerate*}\n",
       "\n",
       "\\emph{Levels}: \\begin{enumerate*}\n",
       "\\item ''\n",
       "\\item '-'\n",
       "\\item '20013'\n",
       "\\item '20126'\n",
       "\\item '2015'\n",
       "\\item '25008'\n",
       "\\item '27004'\n",
       "\\item '27013'\n",
       "\\item '28'\n",
       "\\item '28001'\n",
       "\\item '280013'\n",
       "\\item '28002'\n",
       "\\item '28002\\textbackslash{}n28002'\n",
       "\\item '28003'\n",
       "\\item '28004'\n",
       "\\item '28005'\n",
       "\\item '28006'\n",
       "\\item '28007'\n",
       "\\item '28008'\n",
       "\\item '28009'\n",
       "\\item '28010'\n",
       "\\item '28011'\n",
       "\\item '28012'\n",
       "\\item '28013'\n",
       "\\item '28014'\n",
       "\\item '28015'\n",
       "\\item '28016'\n",
       "\\item '28017'\n",
       "\\item '28018'\n",
       "\\item '28019'\n",
       "\\item '28020'\n",
       "\\item '28021'\n",
       "\\item '28022'\n",
       "\\item '28023'\n",
       "\\item '28024'\n",
       "\\item '28025'\n",
       "\\item '28026'\n",
       "\\item '28027'\n",
       "\\item '28028'\n",
       "\\item '28029'\n",
       "\\item '28030'\n",
       "\\item '28031'\n",
       "\\item '28032'\n",
       "\\item '28033'\n",
       "\\item '28034'\n",
       "\\item '28035'\n",
       "\\item '28036'\n",
       "\\item '28037'\n",
       "\\item '28038'\n",
       "\\item '28039'\n",
       "\\item '2804'\n",
       "\\item '28040'\n",
       "\\item '28041'\n",
       "\\item '28042'\n",
       "\\item '28043'\n",
       "\\item '28044'\n",
       "\\item '28045'\n",
       "\\item '28046'\n",
       "\\item '28047'\n",
       "\\item '28048'\n",
       "\\item '28049'\n",
       "\\item '2805'\n",
       "\\item '28050'\n",
       "\\item '28051'\n",
       "\\item '28051\\textbackslash{}n28051'\n",
       "\\item '28052'\n",
       "\\item '28053'\n",
       "\\item '28054'\n",
       "\\item '28055'\n",
       "\\item '28056'\n",
       "\\item '28058'\n",
       "\\item '28060'\n",
       "\\item '28094'\n",
       "\\item '28105'\n",
       "\\item '2815'\n",
       "\\item '28850'\n",
       "\\item 'Madrid 28004'\n",
       "\\end{enumerate*}\n"
      ],
      "text/markdown": [
       "1. 28004\n",
       "2. 28015\n",
       "3. 28013\n",
       "4. 28005\n",
       "5. 28012\n",
       "6. 28014\n",
       "7. 28045\n",
       "8. &lt;NA&gt;\n",
       "9. 28007\n",
       "10. 28028\n",
       "11. 28009\n",
       "12. 28001\n",
       "13. 28006\n",
       "14. 28010\n",
       "15. 28002\n",
       "16. 28034\n",
       "17. 28050\n",
       "18. 28008\n",
       "19. 28011\n",
       "20. 28049\n",
       "21. 28038\n",
       "22. 28053\n",
       "23. 28047\n",
       "24. 28025\n",
       "25. 28019\n",
       "26. 28024\n",
       "27. 28016\n",
       "28. 28036\n",
       "29. 28046\n",
       "30. 28039\n",
       "31. 28020\n",
       "32. 28003\n",
       "33. 28029\n",
       "34. 28054\n",
       "35. 28041\n",
       "36. 28026\n",
       "37. 28058\n",
       "38. 28018\n",
       "39. 28030\n",
       "40. 28017\n",
       "41. 28027\n",
       "42. 28043\n",
       "43. 28033\n",
       "44. 28055\n",
       "45. 28021\n",
       "46. 28032\n",
       "47. 28037\n",
       "48. 28022\n",
       "49. 28042\n",
       "50. 28094\n",
       "51. 280013\n",
       "52. 28035\n",
       "53. 28040\n",
       "54. 28031\n",
       "55. 28044\n",
       "56. 28105\n",
       "57. 28023\n",
       "58. 28051\n",
       "59. 28850\n",
       "60. 28048\n",
       "61. 28056\n",
       "62. 28060\n",
       "63. 28052\n",
       "\n",
       "\n",
       "\n",
       "**Levels**: 1. ''\n",
       "2. '-'\n",
       "3. '20013'\n",
       "4. '20126'\n",
       "5. '2015'\n",
       "6. '25008'\n",
       "7. '27004'\n",
       "8. '27013'\n",
       "9. '28'\n",
       "10. '28001'\n",
       "11. '280013'\n",
       "12. '28002'\n",
       "13. '28002\\n28002'\n",
       "14. '28003'\n",
       "15. '28004'\n",
       "16. '28005'\n",
       "17. '28006'\n",
       "18. '28007'\n",
       "19. '28008'\n",
       "20. '28009'\n",
       "21. '28010'\n",
       "22. '28011'\n",
       "23. '28012'\n",
       "24. '28013'\n",
       "25. '28014'\n",
       "26. '28015'\n",
       "27. '28016'\n",
       "28. '28017'\n",
       "29. '28018'\n",
       "30. '28019'\n",
       "31. '28020'\n",
       "32. '28021'\n",
       "33. '28022'\n",
       "34. '28023'\n",
       "35. '28024'\n",
       "36. '28025'\n",
       "37. '28026'\n",
       "38. '28027'\n",
       "39. '28028'\n",
       "40. '28029'\n",
       "41. '28030'\n",
       "42. '28031'\n",
       "43. '28032'\n",
       "44. '28033'\n",
       "45. '28034'\n",
       "46. '28035'\n",
       "47. '28036'\n",
       "48. '28037'\n",
       "49. '28038'\n",
       "50. '28039'\n",
       "51. '2804'\n",
       "52. '28040'\n",
       "53. '28041'\n",
       "54. '28042'\n",
       "55. '28043'\n",
       "56. '28044'\n",
       "57. '28045'\n",
       "58. '28046'\n",
       "59. '28047'\n",
       "60. '28048'\n",
       "61. '28049'\n",
       "62. '2805'\n",
       "63. '28050'\n",
       "64. '28051'\n",
       "65. '28051\\n28051'\n",
       "66. '28052'\n",
       "67. '28053'\n",
       "68. '28054'\n",
       "69. '28055'\n",
       "70. '28056'\n",
       "71. '28058'\n",
       "72. '28060'\n",
       "73. '28094'\n",
       "74. '28105'\n",
       "75. '2815'\n",
       "76. '28850'\n",
       "77. 'Madrid 28004'\n",
       "\n",
       "\n"
      ],
      "text/plain": [
       " [1] 28004  28015  28013  28005  28012  28014  28045  <NA>   28007  28028 \n",
       "[11] 28009  28001  28006  28010  28002  28034  28050  28008  28011  28049 \n",
       "[21] 28038  28053  28047  28025  28019  28024  28016  28036  28046  28039 \n",
       "[31] 28020  28003  28029  28054  28041  28026  28058  28018  28030  28017 \n",
       "[41] 28027  28043  28033  28055  28021  28032  28037  28022  28042  28094 \n",
       "[51] 280013 28035  28040  28031  28044  28105  28023  28051  28850  28048 \n",
       "[61] 28056  28060  28052 \n",
       "77 Levels:  - 20013 20126 2015 25008 27004 27013 28 28001 280013 ... Madrid 28004"
      ]
     },
     "metadata": {},
     "output_type": "display_data"
    }
   ],
   "source": [
    "unique(airbnb$CodigoPostal)"
   ]
  },
  {
   "cell_type": "markdown",
   "metadata": {},
   "source": [
    "¿Cuales son los 5 códigos postales con más entradas? ¿Y con menos? ¿Cuantas entradas tienen?"
   ]
  },
  {
   "cell_type": "code",
   "execution_count": 42,
   "metadata": {},
   "outputs": [
    {
     "data": {
      "text/plain": [
       "\n",
       "28014 28013 28005 28004 28012 \n",
       "  630  1019  1195  1795  2060 "
      ]
     },
     "metadata": {},
     "output_type": "display_data"
    },
    {
     "data": {
      "text/plain": [
       "\n",
       "          - 20013 20126  2015 \n",
       "    0     0     0     0     0 "
      ]
     },
     "metadata": {},
     "output_type": "display_data"
    }
   ],
   "source": [
    "tail(sort(table(airbnb$CodigoPostal)), 5)\n",
    "\n",
    "head(sort(table(airbnb$CodigoPostal)), 5) ##\n"
   ]
  },
  {
   "cell_type": "markdown",
   "metadata": {},
   "source": [
    "¿Cuales son los barrios que hay en el código postal 28012?"
   ]
  },
  {
   "cell_type": "code",
   "execution_count": 10,
   "metadata": {},
   "outputs": [
    {
     "data": {
      "text/html": [
       "<ol class=list-inline>\n",
       "\t<li>Sol</li>\n",
       "\t<li>Acacias</li>\n",
       "\t<li>&lt;NA&gt;</li>\n",
       "\t<li>Palos de Moguer</li>\n",
       "\t<li>Embajadores</li>\n",
       "\t<li>Cortes</li>\n",
       "\t<li>Palacio</li>\n",
       "\t<li>Universidad</li>\n",
       "\t<li>Delicias</li>\n",
       "\t<li>Arapiles</li>\n",
       "\t<li>Atocha</li>\n",
       "\t<li>Goya</li>\n",
       "</ol>\n",
       "\n",
       "<details>\n",
       "\t<summary style=display:list-item;cursor:pointer>\n",
       "\t\t<strong>Levels</strong>:\n",
       "\t</summary>\n",
       "\t<ol class=list-inline>\n",
       "\t\t<li>'Abrantes'</li>\n",
       "\t\t<li>'Acacias'</li>\n",
       "\t\t<li>'Adelfas'</li>\n",
       "\t\t<li>'Aeropuerto'</li>\n",
       "\t\t<li>'Aguilas'</li>\n",
       "\t\t<li>'Alameda de Osuna'</li>\n",
       "\t\t<li>'Almagro'</li>\n",
       "\t\t<li>'Almenara'</li>\n",
       "\t\t<li>'Almendrales'</li>\n",
       "\t\t<li>'Aluche'</li>\n",
       "\t\t<li>'Ambroz'</li>\n",
       "\t\t<li>'Amposta'</li>\n",
       "\t\t<li>'Apostol Santiago'</li>\n",
       "\t\t<li>'Arapiles'</li>\n",
       "\t\t<li>'Aravaca'</li>\n",
       "\t\t<li>'Arcos'</li>\n",
       "\t\t<li>'ArgÃ¼elles'</li>\n",
       "\t\t<li>'Atocha'</li>\n",
       "\t\t<li>'Bellas Vistas'</li>\n",
       "\t\t<li>'Berruguete'</li>\n",
       "\t\t<li>'Buenavista'</li>\n",
       "\t\t<li>'Butarque'</li>\n",
       "\t\t<li>'CÃ¡rmenes'</li>\n",
       "\t\t<li>'Campamento'</li>\n",
       "\t\t<li>'Canillas'</li>\n",
       "\t\t<li>'Canillejas'</li>\n",
       "\t\t<li>'Casa de Campo'</li>\n",
       "\t\t<li>'Casco HistÃ³rico de Barajas'</li>\n",
       "\t\t<li>'Casco HistÃ³rico de Vallecas'</li>\n",
       "\t\t<li>'Casco HistÃ³rico de VicÃ¡lvaro'</li>\n",
       "\t\t<li>'Castellana'</li>\n",
       "\t\t<li>'Castilla'</li>\n",
       "\t\t<li>'Castillejos'</li>\n",
       "\t\t<li>'Chopera'</li>\n",
       "\t\t<li>'Ciudad JardÃ­n'</li>\n",
       "\t\t<li>'Ciudad Universitaria'</li>\n",
       "\t\t<li>'Colina'</li>\n",
       "\t\t<li>'Comillas'</li>\n",
       "\t\t<li>'ConcepciÃ³n'</li>\n",
       "\t\t<li>'Corralejos'</li>\n",
       "\t\t<li>'Cortes'</li>\n",
       "\t\t<li>'Costillares'</li>\n",
       "\t\t<li>'Cuatro Caminos'</li>\n",
       "\t\t<li>'Cuatro Vientos'</li>\n",
       "\t\t<li>'Delicias'</li>\n",
       "\t\t<li>'El Goloso'</li>\n",
       "\t\t<li>'El PlantÃ­o'</li>\n",
       "\t\t<li>'El Viso'</li>\n",
       "\t\t<li>'Embajadores'</li>\n",
       "\t\t<li>'EntrevÃ­as'</li>\n",
       "\t\t<li>'Estrella'</li>\n",
       "\t\t<li>'FontarrÃ³n'</li>\n",
       "\t\t<li>'Fuente del Berro'</li>\n",
       "\t\t<li>'Fuentelareina'</li>\n",
       "\t\t<li>'Gaztambide'</li>\n",
       "\t\t<li>'Goya'</li>\n",
       "\t\t<li>'Guindalera'</li>\n",
       "\t\t<li>'HellÃ­n'</li>\n",
       "\t\t<li>'HispanoamÃ©rica'</li>\n",
       "\t\t<li>'Ibiza'</li>\n",
       "\t\t<li>'Imperial'</li>\n",
       "\t\t<li>'JerÃ³nimos'</li>\n",
       "\t\t<li>'Justicia'</li>\n",
       "\t\t<li>'La Paz'</li>\n",
       "\t\t<li>'Legazpi'</li>\n",
       "\t\t<li>'Lista'</li>\n",
       "\t\t<li>'Los Angeles'</li>\n",
       "\t\t<li>'Los Rosales'</li>\n",
       "\t\t<li>'Lucero'</li>\n",
       "\t\t<li>'Marroquina'</li>\n",
       "\t\t<li>'Media Legua'</li>\n",
       "\t\t<li>'Mirasierra'</li>\n",
       "\t\t<li>'MoscardÃ³'</li>\n",
       "\t\t<li>'NiÃ±o JesÃºs'</li>\n",
       "\t\t<li>'Nueva EspaÃ±a'</li>\n",
       "\t\t<li>'Numancia'</li>\n",
       "\t\t<li>'OpaÃ±el'</li>\n",
       "\t\t<li>'Orcasitas'</li>\n",
       "\t\t<li>'Orcasur'</li>\n",
       "\t\t<li>'PacÃ­fico'</li>\n",
       "\t\t<li>'Palacio'</li>\n",
       "\t\t<li>'Palomas'</li>\n",
       "\t\t<li>'Palomeras Bajas'</li>\n",
       "\t\t<li>'Palomeras Sureste'</li>\n",
       "\t\t<li>'Palos de Moguer'</li>\n",
       "\t\t<li>'Pavones'</li>\n",
       "\t\t<li>'PeÃ±agrande'</li>\n",
       "\t\t<li>'Pilar'</li>\n",
       "\t\t<li>'Pinar del Rey'</li>\n",
       "\t\t<li>'Piovera'</li>\n",
       "\t\t<li>'Portazgo'</li>\n",
       "\t\t<li>'Pradolongo'</li>\n",
       "\t\t<li>'Prosperidad'</li>\n",
       "\t\t<li>'Pueblo Nuevo'</li>\n",
       "\t\t<li>'Puerta Bonita'</li>\n",
       "\t\t<li>'Puerta del Angel'</li>\n",
       "\t\t<li>'Quintana'</li>\n",
       "\t\t<li>'Recoletos'</li>\n",
       "\t\t<li>'Rejas'</li>\n",
       "\t\t<li>'Rios Rosas'</li>\n",
       "\t\t<li>'Rosas'</li>\n",
       "\t\t<li>'Salvador'</li>\n",
       "\t\t<li>'San AndrÃ©s'</li>\n",
       "\t\t<li>'San Cristobal'</li>\n",
       "\t\t<li>'San Diego'</li>\n",
       "\t\t<li>'San FermÃ­n'</li>\n",
       "\t\t<li>'San Isidro'</li>\n",
       "\t\t<li>'San Juan Bautista'</li>\n",
       "\t\t<li>'San Pascual'</li>\n",
       "\t\t<li>'Santa Eugenia'</li>\n",
       "\t\t<li>'Simancas'</li>\n",
       "\t\t<li>'Sol'</li>\n",
       "\t\t<li>'TimÃ³n'</li>\n",
       "\t\t<li>'Trafalgar'</li>\n",
       "\t\t<li>'Universidad'</li>\n",
       "\t\t<li>'Valdeacederas'</li>\n",
       "\t\t<li>'Valdefuentes'</li>\n",
       "\t\t<li>'ValdemarÃ­n'</li>\n",
       "\t\t<li>'Valdezarza'</li>\n",
       "\t\t<li>'Vallehermoso'</li>\n",
       "\t\t<li>'Valverde'</li>\n",
       "\t\t<li>'Ventas'</li>\n",
       "\t\t<li>'Vinateros'</li>\n",
       "\t\t<li>'Vista Alegre'</li>\n",
       "\t\t<li>'ZofÃ­o'</li>\n",
       "\t</ol>\n",
       "</details>"
      ],
      "text/latex": [
       "\\begin{enumerate*}\n",
       "\\item Sol\n",
       "\\item Acacias\n",
       "\\item <NA>\n",
       "\\item Palos de Moguer\n",
       "\\item Embajadores\n",
       "\\item Cortes\n",
       "\\item Palacio\n",
       "\\item Universidad\n",
       "\\item Delicias\n",
       "\\item Arapiles\n",
       "\\item Atocha\n",
       "\\item Goya\n",
       "\\end{enumerate*}\n",
       "\n",
       "\\emph{Levels}: \\begin{enumerate*}\n",
       "\\item 'Abrantes'\n",
       "\\item 'Acacias'\n",
       "\\item 'Adelfas'\n",
       "\\item 'Aeropuerto'\n",
       "\\item 'Aguilas'\n",
       "\\item 'Alameda de Osuna'\n",
       "\\item 'Almagro'\n",
       "\\item 'Almenara'\n",
       "\\item 'Almendrales'\n",
       "\\item 'Aluche'\n",
       "\\item 'Ambroz'\n",
       "\\item 'Amposta'\n",
       "\\item 'Apostol Santiago'\n",
       "\\item 'Arapiles'\n",
       "\\item 'Aravaca'\n",
       "\\item 'Arcos'\n",
       "\\item 'ArgÃ¼elles'\n",
       "\\item 'Atocha'\n",
       "\\item 'Bellas Vistas'\n",
       "\\item 'Berruguete'\n",
       "\\item 'Buenavista'\n",
       "\\item 'Butarque'\n",
       "\\item 'CÃ¡rmenes'\n",
       "\\item 'Campamento'\n",
       "\\item 'Canillas'\n",
       "\\item 'Canillejas'\n",
       "\\item 'Casa de Campo'\n",
       "\\item 'Casco HistÃ³rico de Barajas'\n",
       "\\item 'Casco HistÃ³rico de Vallecas'\n",
       "\\item 'Casco HistÃ³rico de VicÃ¡lvaro'\n",
       "\\item 'Castellana'\n",
       "\\item 'Castilla'\n",
       "\\item 'Castillejos'\n",
       "\\item 'Chopera'\n",
       "\\item 'Ciudad JardÃ­n'\n",
       "\\item 'Ciudad Universitaria'\n",
       "\\item 'Colina'\n",
       "\\item 'Comillas'\n",
       "\\item 'ConcepciÃ³n'\n",
       "\\item 'Corralejos'\n",
       "\\item 'Cortes'\n",
       "\\item 'Costillares'\n",
       "\\item 'Cuatro Caminos'\n",
       "\\item 'Cuatro Vientos'\n",
       "\\item 'Delicias'\n",
       "\\item 'El Goloso'\n",
       "\\item 'El PlantÃ­o'\n",
       "\\item 'El Viso'\n",
       "\\item 'Embajadores'\n",
       "\\item 'EntrevÃ­as'\n",
       "\\item 'Estrella'\n",
       "\\item 'FontarrÃ³n'\n",
       "\\item 'Fuente del Berro'\n",
       "\\item 'Fuentelareina'\n",
       "\\item 'Gaztambide'\n",
       "\\item 'Goya'\n",
       "\\item 'Guindalera'\n",
       "\\item 'HellÃ­n'\n",
       "\\item 'HispanoamÃ©rica'\n",
       "\\item 'Ibiza'\n",
       "\\item 'Imperial'\n",
       "\\item 'JerÃ³nimos'\n",
       "\\item 'Justicia'\n",
       "\\item 'La Paz'\n",
       "\\item 'Legazpi'\n",
       "\\item 'Lista'\n",
       "\\item 'Los Angeles'\n",
       "\\item 'Los Rosales'\n",
       "\\item 'Lucero'\n",
       "\\item 'Marroquina'\n",
       "\\item 'Media Legua'\n",
       "\\item 'Mirasierra'\n",
       "\\item 'MoscardÃ³'\n",
       "\\item 'NiÃ±o JesÃºs'\n",
       "\\item 'Nueva EspaÃ±a'\n",
       "\\item 'Numancia'\n",
       "\\item 'OpaÃ±el'\n",
       "\\item 'Orcasitas'\n",
       "\\item 'Orcasur'\n",
       "\\item 'PacÃ­fico'\n",
       "\\item 'Palacio'\n",
       "\\item 'Palomas'\n",
       "\\item 'Palomeras Bajas'\n",
       "\\item 'Palomeras Sureste'\n",
       "\\item 'Palos de Moguer'\n",
       "\\item 'Pavones'\n",
       "\\item 'PeÃ±agrande'\n",
       "\\item 'Pilar'\n",
       "\\item 'Pinar del Rey'\n",
       "\\item 'Piovera'\n",
       "\\item 'Portazgo'\n",
       "\\item 'Pradolongo'\n",
       "\\item 'Prosperidad'\n",
       "\\item 'Pueblo Nuevo'\n",
       "\\item 'Puerta Bonita'\n",
       "\\item 'Puerta del Angel'\n",
       "\\item 'Quintana'\n",
       "\\item 'Recoletos'\n",
       "\\item 'Rejas'\n",
       "\\item 'Rios Rosas'\n",
       "\\item 'Rosas'\n",
       "\\item 'Salvador'\n",
       "\\item 'San AndrÃ©s'\n",
       "\\item 'San Cristobal'\n",
       "\\item 'San Diego'\n",
       "\\item 'San FermÃ­n'\n",
       "\\item 'San Isidro'\n",
       "\\item 'San Juan Bautista'\n",
       "\\item 'San Pascual'\n",
       "\\item 'Santa Eugenia'\n",
       "\\item 'Simancas'\n",
       "\\item 'Sol'\n",
       "\\item 'TimÃ³n'\n",
       "\\item 'Trafalgar'\n",
       "\\item 'Universidad'\n",
       "\\item 'Valdeacederas'\n",
       "\\item 'Valdefuentes'\n",
       "\\item 'ValdemarÃ­n'\n",
       "\\item 'Valdezarza'\n",
       "\\item 'Vallehermoso'\n",
       "\\item 'Valverde'\n",
       "\\item 'Ventas'\n",
       "\\item 'Vinateros'\n",
       "\\item 'Vista Alegre'\n",
       "\\item 'ZofÃ­o'\n",
       "\\end{enumerate*}\n"
      ],
      "text/markdown": [
       "1. Sol\n",
       "2. Acacias\n",
       "3. &lt;NA&gt;\n",
       "4. Palos de Moguer\n",
       "5. Embajadores\n",
       "6. Cortes\n",
       "7. Palacio\n",
       "8. Universidad\n",
       "9. Delicias\n",
       "10. Arapiles\n",
       "11. Atocha\n",
       "12. Goya\n",
       "\n",
       "\n",
       "\n",
       "**Levels**: 1. 'Abrantes'\n",
       "2. 'Acacias'\n",
       "3. 'Adelfas'\n",
       "4. 'Aeropuerto'\n",
       "5. 'Aguilas'\n",
       "6. 'Alameda de Osuna'\n",
       "7. 'Almagro'\n",
       "8. 'Almenara'\n",
       "9. 'Almendrales'\n",
       "10. 'Aluche'\n",
       "11. 'Ambroz'\n",
       "12. 'Amposta'\n",
       "13. 'Apostol Santiago'\n",
       "14. 'Arapiles'\n",
       "15. 'Aravaca'\n",
       "16. 'Arcos'\n",
       "17. 'ArgÃ¼elles'\n",
       "18. 'Atocha'\n",
       "19. 'Bellas Vistas'\n",
       "20. 'Berruguete'\n",
       "21. 'Buenavista'\n",
       "22. 'Butarque'\n",
       "23. 'CÃ¡rmenes'\n",
       "24. 'Campamento'\n",
       "25. 'Canillas'\n",
       "26. 'Canillejas'\n",
       "27. 'Casa de Campo'\n",
       "28. 'Casco HistÃ³rico de Barajas'\n",
       "29. 'Casco HistÃ³rico de Vallecas'\n",
       "30. 'Casco HistÃ³rico de VicÃ¡lvaro'\n",
       "31. 'Castellana'\n",
       "32. 'Castilla'\n",
       "33. 'Castillejos'\n",
       "34. 'Chopera'\n",
       "35. 'Ciudad JardÃ­n'\n",
       "36. 'Ciudad Universitaria'\n",
       "37. 'Colina'\n",
       "38. 'Comillas'\n",
       "39. 'ConcepciÃ³n'\n",
       "40. 'Corralejos'\n",
       "41. 'Cortes'\n",
       "42. 'Costillares'\n",
       "43. 'Cuatro Caminos'\n",
       "44. 'Cuatro Vientos'\n",
       "45. 'Delicias'\n",
       "46. 'El Goloso'\n",
       "47. 'El PlantÃ­o'\n",
       "48. 'El Viso'\n",
       "49. 'Embajadores'\n",
       "50. 'EntrevÃ­as'\n",
       "51. 'Estrella'\n",
       "52. 'FontarrÃ³n'\n",
       "53. 'Fuente del Berro'\n",
       "54. 'Fuentelareina'\n",
       "55. 'Gaztambide'\n",
       "56. 'Goya'\n",
       "57. 'Guindalera'\n",
       "58. 'HellÃ­n'\n",
       "59. 'HispanoamÃ©rica'\n",
       "60. 'Ibiza'\n",
       "61. 'Imperial'\n",
       "62. 'JerÃ³nimos'\n",
       "63. 'Justicia'\n",
       "64. 'La Paz'\n",
       "65. 'Legazpi'\n",
       "66. 'Lista'\n",
       "67. 'Los Angeles'\n",
       "68. 'Los Rosales'\n",
       "69. 'Lucero'\n",
       "70. 'Marroquina'\n",
       "71. 'Media Legua'\n",
       "72. 'Mirasierra'\n",
       "73. 'MoscardÃ³'\n",
       "74. 'NiÃ±o JesÃºs'\n",
       "75. 'Nueva EspaÃ±a'\n",
       "76. 'Numancia'\n",
       "77. 'OpaÃ±el'\n",
       "78. 'Orcasitas'\n",
       "79. 'Orcasur'\n",
       "80. 'PacÃ­fico'\n",
       "81. 'Palacio'\n",
       "82. 'Palomas'\n",
       "83. 'Palomeras Bajas'\n",
       "84. 'Palomeras Sureste'\n",
       "85. 'Palos de Moguer'\n",
       "86. 'Pavones'\n",
       "87. 'PeÃ±agrande'\n",
       "88. 'Pilar'\n",
       "89. 'Pinar del Rey'\n",
       "90. 'Piovera'\n",
       "91. 'Portazgo'\n",
       "92. 'Pradolongo'\n",
       "93. 'Prosperidad'\n",
       "94. 'Pueblo Nuevo'\n",
       "95. 'Puerta Bonita'\n",
       "96. 'Puerta del Angel'\n",
       "97. 'Quintana'\n",
       "98. 'Recoletos'\n",
       "99. 'Rejas'\n",
       "100. 'Rios Rosas'\n",
       "101. 'Rosas'\n",
       "102. 'Salvador'\n",
       "103. 'San AndrÃ©s'\n",
       "104. 'San Cristobal'\n",
       "105. 'San Diego'\n",
       "106. 'San FermÃ­n'\n",
       "107. 'San Isidro'\n",
       "108. 'San Juan Bautista'\n",
       "109. 'San Pascual'\n",
       "110. 'Santa Eugenia'\n",
       "111. 'Simancas'\n",
       "112. 'Sol'\n",
       "113. 'TimÃ³n'\n",
       "114. 'Trafalgar'\n",
       "115. 'Universidad'\n",
       "116. 'Valdeacederas'\n",
       "117. 'Valdefuentes'\n",
       "118. 'ValdemarÃ­n'\n",
       "119. 'Valdezarza'\n",
       "120. 'Vallehermoso'\n",
       "121. 'Valverde'\n",
       "122. 'Ventas'\n",
       "123. 'Vinateros'\n",
       "124. 'Vista Alegre'\n",
       "125. 'ZofÃ­o'\n",
       "\n",
       "\n"
      ],
      "text/plain": [
       " [1] Sol             Acacias         <NA>            Palos de Moguer\n",
       " [5] Embajadores     Cortes          Palacio         Universidad    \n",
       " [9] Delicias        Arapiles        Atocha          Goya           \n",
       "125 Levels: Abrantes Acacias Adelfas Aeropuerto Aguilas ... ZofÃ­o"
      ]
     },
     "metadata": {},
     "output_type": "display_data"
    }
   ],
   "source": [
    "unique(airbnb$Barrio[airbnb$CodigoPostal ==\"28012\"])"
   ]
  },
  {
   "cell_type": "markdown",
   "metadata": {},
   "source": [
    "¿Cuantas entradas hay en cada uno de esos barrios para el codigo postal 28012?"
   ]
  },
  {
   "cell_type": "code",
   "execution_count": 11,
   "metadata": {},
   "outputs": [
    {
     "data": {
      "text/plain": [
       "\n",
       "                      Abrantes                        Acacias \n",
       "                             0                              1 \n",
       "                       Adelfas                     Aeropuerto \n",
       "                             0                              0 \n",
       "                       Aguilas               Alameda de Osuna \n",
       "                             0                              0 \n",
       "                       Almagro                       Almenara \n",
       "                             0                              0 \n",
       "                   Almendrales                         Aluche \n",
       "                             0                              0 \n",
       "                        Ambroz                        Amposta \n",
       "                             0                              0 \n",
       "              Apostol Santiago                       Arapiles \n",
       "                             0                              1 \n",
       "                       Aravaca                          Arcos \n",
       "                             0                              0 \n",
       "                    ArgÃ¼elles                         Atocha \n",
       "                             0                              1 \n",
       "                 Bellas Vistas                     Berruguete \n",
       "                             0                              0 \n",
       "                    Buenavista                       Butarque \n",
       "                             0                              0 \n",
       "                     CÃ¡rmenes                     Campamento \n",
       "                             0                              0 \n",
       "                      Canillas                     Canillejas \n",
       "                             0                              0 \n",
       "                 Casa de Campo    Casco HistÃ³rico de Barajas \n",
       "                             0                              0 \n",
       "  Casco HistÃ³rico de Vallecas Casco HistÃ³rico de VicÃ¡lvaro \n",
       "                             0                              0 \n",
       "                    Castellana                       Castilla \n",
       "                             0                              0 \n",
       "                   Castillejos                        Chopera \n",
       "                             0                              0 \n",
       "                Ciudad JardÃ­n           Ciudad Universitaria \n",
       "                             0                              0 \n",
       "                        Colina                       Comillas \n",
       "                             0                              0 \n",
       "                   ConcepciÃ³n                     Corralejos \n",
       "                             0                              0 \n",
       "                        Cortes                    Costillares \n",
       "                             1                              0 \n",
       "                Cuatro Caminos                 Cuatro Vientos \n",
       "                             0                              0 \n",
       "                      Delicias                      El Goloso \n",
       "                             1                              0 \n",
       "                   El PlantÃ­o                        El Viso \n",
       "                             0                              0 \n",
       "                   Embajadores                     EntrevÃ­as \n",
       "                             1                              0 \n",
       "                      Estrella                     FontarrÃ³n \n",
       "                             0                              0 \n",
       "              Fuente del Berro                  Fuentelareina \n",
       "                             0                              0 \n",
       "                    Gaztambide                           Goya \n",
       "                             0                              1 \n",
       "                    Guindalera                        HellÃ­n \n",
       "                             0                              0 \n",
       "               HispanoamÃ©rica                          Ibiza \n",
       "                             0                              0 \n",
       "                      Imperial                     JerÃ³nimos \n",
       "                             0                              0 \n",
       "                      Justicia                         La Paz \n",
       "                             0                              0 \n",
       "                       Legazpi                          Lista \n",
       "                             0                              0 \n",
       "                   Los Angeles                    Los Rosales \n",
       "                             0                              0 \n",
       "                        Lucero                     Marroquina \n",
       "                             0                              0 \n",
       "                   Media Legua                     Mirasierra \n",
       "                             0                              0 \n",
       "                     MoscardÃ³                   NiÃ±o JesÃºs \n",
       "                             0                              0 \n",
       "                 Nueva EspaÃ±a                       Numancia \n",
       "                             0                              0 \n",
       "                       OpaÃ±el                      Orcasitas \n",
       "                             0                              0 \n",
       "                       Orcasur                      PacÃ­fico \n",
       "                             0                              0 \n",
       "                       Palacio                        Palomas \n",
       "                             1                              0 \n",
       "               Palomeras Bajas              Palomeras Sureste \n",
       "                             0                              0 \n",
       "               Palos de Moguer                        Pavones \n",
       "                             1                              0 \n",
       "                   PeÃ±agrande                          Pilar \n",
       "                             0                              0 \n",
       "                 Pinar del Rey                        Piovera \n",
       "                             0                              0 \n",
       "                      Portazgo                     Pradolongo \n",
       "                             0                              0 \n",
       "                   Prosperidad                   Pueblo Nuevo \n",
       "                             0                              0 \n",
       "                 Puerta Bonita               Puerta del Angel \n",
       "                             0                              0 \n",
       "                      Quintana                      Recoletos \n",
       "                             0                              0 \n",
       "                         Rejas                     Rios Rosas \n",
       "                             0                              0 \n",
       "                         Rosas                       Salvador \n",
       "                             0                              0 \n",
       "                   San AndrÃ©s                  San Cristobal \n",
       "                             0                              0 \n",
       "                     San Diego                    San FermÃ­n \n",
       "                             0                              0 \n",
       "                    San Isidro              San Juan Bautista \n",
       "                             0                              0 \n",
       "                   San Pascual                  Santa Eugenia \n",
       "                             0                              0 \n",
       "                      Simancas                            Sol \n",
       "                             0                              1 \n",
       "                        TimÃ³n                      Trafalgar \n",
       "                             0                              0 \n",
       "                   Universidad                  Valdeacederas \n",
       "                             1                              0 \n",
       "                  Valdefuentes                    ValdemarÃ­n \n",
       "                             0                              0 \n",
       "                    Valdezarza                   Vallehermoso \n",
       "                             0                              0 \n",
       "                      Valverde                         Ventas \n",
       "                             0                              0 \n",
       "                     Vinateros                   Vista Alegre \n",
       "                             0                              0 \n",
       "                        ZofÃ­o \n",
       "                             0 "
      ]
     },
     "metadata": {},
     "output_type": "display_data"
    }
   ],
   "source": [
    "#table(airbnb$Barrio[airbnb$CodigoPostal ==\"28012\"]) #\n",
    "table(unique(airbnb$Barrio[airbnb$CodigoPostal ==\"28012\"]))"
   ]
  },
  {
   "cell_type": "markdown",
   "metadata": {},
   "source": [
    "¿Cuantos barrios hay en todo el dataset airbnb? ¿Cuales son?"
   ]
  },
  {
   "cell_type": "code",
   "execution_count": 12,
   "metadata": {},
   "outputs": [
    {
     "data": {
      "text/html": [
       "125"
      ],
      "text/latex": [
       "125"
      ],
      "text/markdown": [
       "125"
      ],
      "text/plain": [
       "[1] 125"
      ]
     },
     "metadata": {},
     "output_type": "display_data"
    },
    {
     "data": {
      "text/html": [
       "<ol class=list-inline>\n",
       "\t<li>Universidad</li>\n",
       "\t<li>Sol</li>\n",
       "\t<li>Imperial</li>\n",
       "\t<li>Acacias</li>\n",
       "\t<li>Chopera</li>\n",
       "\t<li>Delicias</li>\n",
       "\t<li>Palos de Moguer</li>\n",
       "\t<li>Embajadores</li>\n",
       "\t<li>Cortes</li>\n",
       "\t<li>Atocha</li>\n",
       "\t<li>PacÃ­fico</li>\n",
       "\t<li>Adelfas</li>\n",
       "\t<li>Estrella</li>\n",
       "\t<li>Ibiza</li>\n",
       "\t<li>JerÃ³nimos</li>\n",
       "\t<li>NiÃ±o JesÃºs</li>\n",
       "\t<li>Palacio</li>\n",
       "\t<li>Justicia</li>\n",
       "\t<li>Recoletos</li>\n",
       "\t<li>Goya</li>\n",
       "\t<li>Fuente del Berro</li>\n",
       "\t<li>Arapiles</li>\n",
       "\t<li>Trafalgar</li>\n",
       "\t<li>Almagro</li>\n",
       "\t<li>Guindalera</li>\n",
       "\t<li>Lista</li>\n",
       "\t<li>Castellana</li>\n",
       "\t<li>El Viso</li>\n",
       "\t<li>Prosperidad</li>\n",
       "\t<li>Valverde</li>\n",
       "\t<li>Casa de Campo</li>\n",
       "\t<li>El Goloso</li>\n",
       "\t<li>Numancia</li>\n",
       "\t<li>CÃ¡rmenes</li>\n",
       "\t<li>Puerta del Angel</li>\n",
       "\t<li>Lucero</li>\n",
       "\t<li>Aluche</li>\n",
       "\t<li>San Isidro</li>\n",
       "\t<li>Campamento</li>\n",
       "\t<li>Comillas</li>\n",
       "\t<li>OpaÃ±el</li>\n",
       "\t<li>Vista Alegre</li>\n",
       "\t<li>Ciudad JardÃ­n</li>\n",
       "\t<li>HispanoamÃ©rica</li>\n",
       "\t<li>Nueva EspaÃ±a</li>\n",
       "\t<li>Castilla</li>\n",
       "\t<li>Bellas Vistas</li>\n",
       "\t<li>Cuatro Caminos</li>\n",
       "\t<li>Castillejos</li>\n",
       "\t<li>Vallehermoso</li>\n",
       "\t<li>Almenara</li>\n",
       "\t<li>Valdeacederas</li>\n",
       "\t<li>Berruguete</li>\n",
       "\t<li>Gaztambide</li>\n",
       "\t<li>Rios Rosas</li>\n",
       "\t<li>PeÃ±agrande</li>\n",
       "\t<li>ArgÃ¼elles</li>\n",
       "\t<li>Puerta Bonita</li>\n",
       "\t<li>Buenavista</li>\n",
       "\t<li>Abrantes</li>\n",
       "\t<li>Orcasur</li>\n",
       "\t<li>San FermÃ­n</li>\n",
       "\t<li>Almendrales</li>\n",
       "\t<li>Pradolongo</li>\n",
       "\t<li>Portazgo</li>\n",
       "\t<li>EntrevÃ­as</li>\n",
       "\t<li>San Diego</li>\n",
       "\t<li>Palomeras Bajas</li>\n",
       "\t<li>FontarrÃ³n</li>\n",
       "\t<li>Vinateros</li>\n",
       "\t<li>Ventas</li>\n",
       "\t<li>Pueblo Nuevo</li>\n",
       "\t<li>Quintana</li>\n",
       "\t<li>ConcepciÃ³n</li>\n",
       "\t<li>San Juan Bautista</li>\n",
       "\t<li>Costillares</li>\n",
       "\t<li>Piovera</li>\n",
       "\t<li>Canillas</li>\n",
       "\t<li>Pinar del Rey</li>\n",
       "\t<li>Apostol Santiago</li>\n",
       "\t<li>San AndrÃ©s</li>\n",
       "\t<li>Valdefuentes</li>\n",
       "\t<li>Butarque</li>\n",
       "\t<li>Los Angeles</li>\n",
       "\t<li>Casco HistÃ³rico de VicÃ¡lvaro</li>\n",
       "\t<li>Simancas</li>\n",
       "\t<li>Rejas</li>\n",
       "\t<li>Salvador</li>\n",
       "\t<li>Casco HistÃ³rico de Barajas</li>\n",
       "\t<li>Pilar</li>\n",
       "\t<li>La Paz</li>\n",
       "\t<li>Mirasierra</li>\n",
       "\t<li>Ciudad Universitaria</li>\n",
       "\t<li>MoscardÃ³</li>\n",
       "\t<li>Palomeras Sureste</li>\n",
       "\t<li>Marroquina</li>\n",
       "\t<li>Media Legua</li>\n",
       "\t<li>Los Rosales</li>\n",
       "\t<li>Casco HistÃ³rico de Vallecas</li>\n",
       "\t<li>TimÃ³n</li>\n",
       "\t<li>Corralejos</li>\n",
       "\t<li>Cuatro Vientos</li>\n",
       "\t<li>Colina</li>\n",
       "\t<li>San Cristobal</li>\n",
       "\t<li>Alameda de Osuna</li>\n",
       "\t<li>Aeropuerto</li>\n",
       "\t<li>Palomas</li>\n",
       "\t<li>ZofÃ­o</li>\n",
       "\t<li>Aguilas</li>\n",
       "\t<li>Legazpi</li>\n",
       "\t<li>Fuentelareina</li>\n",
       "\t<li>Aravaca</li>\n",
       "\t<li>Ambroz</li>\n",
       "\t<li>Canillejas</li>\n",
       "\t<li>Valdezarza</li>\n",
       "\t<li>Amposta</li>\n",
       "\t<li>San Pascual</li>\n",
       "\t<li>Santa Eugenia</li>\n",
       "\t<li>Arcos</li>\n",
       "\t<li>Rosas</li>\n",
       "\t<li>ValdemarÃ­n</li>\n",
       "\t<li>El PlantÃ­o</li>\n",
       "\t<li>HellÃ­n</li>\n",
       "\t<li>Pavones</li>\n",
       "\t<li>Orcasitas</li>\n",
       "</ol>\n",
       "\n",
       "<details>\n",
       "\t<summary style=display:list-item;cursor:pointer>\n",
       "\t\t<strong>Levels</strong>:\n",
       "\t</summary>\n",
       "\t<ol class=list-inline>\n",
       "\t\t<li>'Abrantes'</li>\n",
       "\t\t<li>'Acacias'</li>\n",
       "\t\t<li>'Adelfas'</li>\n",
       "\t\t<li>'Aeropuerto'</li>\n",
       "\t\t<li>'Aguilas'</li>\n",
       "\t\t<li>'Alameda de Osuna'</li>\n",
       "\t\t<li>'Almagro'</li>\n",
       "\t\t<li>'Almenara'</li>\n",
       "\t\t<li>'Almendrales'</li>\n",
       "\t\t<li>'Aluche'</li>\n",
       "\t\t<li>'Ambroz'</li>\n",
       "\t\t<li>'Amposta'</li>\n",
       "\t\t<li>'Apostol Santiago'</li>\n",
       "\t\t<li>'Arapiles'</li>\n",
       "\t\t<li>'Aravaca'</li>\n",
       "\t\t<li>'Arcos'</li>\n",
       "\t\t<li>'ArgÃ¼elles'</li>\n",
       "\t\t<li>'Atocha'</li>\n",
       "\t\t<li>'Bellas Vistas'</li>\n",
       "\t\t<li>'Berruguete'</li>\n",
       "\t\t<li>'Buenavista'</li>\n",
       "\t\t<li>'Butarque'</li>\n",
       "\t\t<li>'CÃ¡rmenes'</li>\n",
       "\t\t<li>'Campamento'</li>\n",
       "\t\t<li>'Canillas'</li>\n",
       "\t\t<li>'Canillejas'</li>\n",
       "\t\t<li>'Casa de Campo'</li>\n",
       "\t\t<li>'Casco HistÃ³rico de Barajas'</li>\n",
       "\t\t<li>'Casco HistÃ³rico de Vallecas'</li>\n",
       "\t\t<li>'Casco HistÃ³rico de VicÃ¡lvaro'</li>\n",
       "\t\t<li>'Castellana'</li>\n",
       "\t\t<li>'Castilla'</li>\n",
       "\t\t<li>'Castillejos'</li>\n",
       "\t\t<li>'Chopera'</li>\n",
       "\t\t<li>'Ciudad JardÃ­n'</li>\n",
       "\t\t<li>'Ciudad Universitaria'</li>\n",
       "\t\t<li>'Colina'</li>\n",
       "\t\t<li>'Comillas'</li>\n",
       "\t\t<li>'ConcepciÃ³n'</li>\n",
       "\t\t<li>'Corralejos'</li>\n",
       "\t\t<li>'Cortes'</li>\n",
       "\t\t<li>'Costillares'</li>\n",
       "\t\t<li>'Cuatro Caminos'</li>\n",
       "\t\t<li>'Cuatro Vientos'</li>\n",
       "\t\t<li>'Delicias'</li>\n",
       "\t\t<li>'El Goloso'</li>\n",
       "\t\t<li>'El PlantÃ­o'</li>\n",
       "\t\t<li>'El Viso'</li>\n",
       "\t\t<li>'Embajadores'</li>\n",
       "\t\t<li>'EntrevÃ­as'</li>\n",
       "\t\t<li>'Estrella'</li>\n",
       "\t\t<li>'FontarrÃ³n'</li>\n",
       "\t\t<li>'Fuente del Berro'</li>\n",
       "\t\t<li>'Fuentelareina'</li>\n",
       "\t\t<li>'Gaztambide'</li>\n",
       "\t\t<li>'Goya'</li>\n",
       "\t\t<li>'Guindalera'</li>\n",
       "\t\t<li>'HellÃ­n'</li>\n",
       "\t\t<li>'HispanoamÃ©rica'</li>\n",
       "\t\t<li>'Ibiza'</li>\n",
       "\t\t<li>'Imperial'</li>\n",
       "\t\t<li>'JerÃ³nimos'</li>\n",
       "\t\t<li>'Justicia'</li>\n",
       "\t\t<li>'La Paz'</li>\n",
       "\t\t<li>'Legazpi'</li>\n",
       "\t\t<li>'Lista'</li>\n",
       "\t\t<li>'Los Angeles'</li>\n",
       "\t\t<li>'Los Rosales'</li>\n",
       "\t\t<li>'Lucero'</li>\n",
       "\t\t<li>'Marroquina'</li>\n",
       "\t\t<li>'Media Legua'</li>\n",
       "\t\t<li>'Mirasierra'</li>\n",
       "\t\t<li>'MoscardÃ³'</li>\n",
       "\t\t<li>'NiÃ±o JesÃºs'</li>\n",
       "\t\t<li>'Nueva EspaÃ±a'</li>\n",
       "\t\t<li>'Numancia'</li>\n",
       "\t\t<li>'OpaÃ±el'</li>\n",
       "\t\t<li>'Orcasitas'</li>\n",
       "\t\t<li>'Orcasur'</li>\n",
       "\t\t<li>'PacÃ­fico'</li>\n",
       "\t\t<li>'Palacio'</li>\n",
       "\t\t<li>'Palomas'</li>\n",
       "\t\t<li>'Palomeras Bajas'</li>\n",
       "\t\t<li>'Palomeras Sureste'</li>\n",
       "\t\t<li>'Palos de Moguer'</li>\n",
       "\t\t<li>'Pavones'</li>\n",
       "\t\t<li>'PeÃ±agrande'</li>\n",
       "\t\t<li>'Pilar'</li>\n",
       "\t\t<li>'Pinar del Rey'</li>\n",
       "\t\t<li>'Piovera'</li>\n",
       "\t\t<li>'Portazgo'</li>\n",
       "\t\t<li>'Pradolongo'</li>\n",
       "\t\t<li>'Prosperidad'</li>\n",
       "\t\t<li>'Pueblo Nuevo'</li>\n",
       "\t\t<li>'Puerta Bonita'</li>\n",
       "\t\t<li>'Puerta del Angel'</li>\n",
       "\t\t<li>'Quintana'</li>\n",
       "\t\t<li>'Recoletos'</li>\n",
       "\t\t<li>'Rejas'</li>\n",
       "\t\t<li>'Rios Rosas'</li>\n",
       "\t\t<li>'Rosas'</li>\n",
       "\t\t<li>'Salvador'</li>\n",
       "\t\t<li>'San AndrÃ©s'</li>\n",
       "\t\t<li>'San Cristobal'</li>\n",
       "\t\t<li>'San Diego'</li>\n",
       "\t\t<li>'San FermÃ­n'</li>\n",
       "\t\t<li>'San Isidro'</li>\n",
       "\t\t<li>'San Juan Bautista'</li>\n",
       "\t\t<li>'San Pascual'</li>\n",
       "\t\t<li>'Santa Eugenia'</li>\n",
       "\t\t<li>'Simancas'</li>\n",
       "\t\t<li>'Sol'</li>\n",
       "\t\t<li>'TimÃ³n'</li>\n",
       "\t\t<li>'Trafalgar'</li>\n",
       "\t\t<li>'Universidad'</li>\n",
       "\t\t<li>'Valdeacederas'</li>\n",
       "\t\t<li>'Valdefuentes'</li>\n",
       "\t\t<li>'ValdemarÃ­n'</li>\n",
       "\t\t<li>'Valdezarza'</li>\n",
       "\t\t<li>'Vallehermoso'</li>\n",
       "\t\t<li>'Valverde'</li>\n",
       "\t\t<li>'Ventas'</li>\n",
       "\t\t<li>'Vinateros'</li>\n",
       "\t\t<li>'Vista Alegre'</li>\n",
       "\t\t<li>'ZofÃ­o'</li>\n",
       "\t</ol>\n",
       "</details>"
      ],
      "text/latex": [
       "\\begin{enumerate*}\n",
       "\\item Universidad\n",
       "\\item Sol\n",
       "\\item Imperial\n",
       "\\item Acacias\n",
       "\\item Chopera\n",
       "\\item Delicias\n",
       "\\item Palos de Moguer\n",
       "\\item Embajadores\n",
       "\\item Cortes\n",
       "\\item Atocha\n",
       "\\item PacÃ­fico\n",
       "\\item Adelfas\n",
       "\\item Estrella\n",
       "\\item Ibiza\n",
       "\\item JerÃ³nimos\n",
       "\\item NiÃ±o JesÃºs\n",
       "\\item Palacio\n",
       "\\item Justicia\n",
       "\\item Recoletos\n",
       "\\item Goya\n",
       "\\item Fuente del Berro\n",
       "\\item Arapiles\n",
       "\\item Trafalgar\n",
       "\\item Almagro\n",
       "\\item Guindalera\n",
       "\\item Lista\n",
       "\\item Castellana\n",
       "\\item El Viso\n",
       "\\item Prosperidad\n",
       "\\item Valverde\n",
       "\\item Casa de Campo\n",
       "\\item El Goloso\n",
       "\\item Numancia\n",
       "\\item CÃ¡rmenes\n",
       "\\item Puerta del Angel\n",
       "\\item Lucero\n",
       "\\item Aluche\n",
       "\\item San Isidro\n",
       "\\item Campamento\n",
       "\\item Comillas\n",
       "\\item OpaÃ±el\n",
       "\\item Vista Alegre\n",
       "\\item Ciudad JardÃ­n\n",
       "\\item HispanoamÃ©rica\n",
       "\\item Nueva EspaÃ±a\n",
       "\\item Castilla\n",
       "\\item Bellas Vistas\n",
       "\\item Cuatro Caminos\n",
       "\\item Castillejos\n",
       "\\item Vallehermoso\n",
       "\\item Almenara\n",
       "\\item Valdeacederas\n",
       "\\item Berruguete\n",
       "\\item Gaztambide\n",
       "\\item Rios Rosas\n",
       "\\item PeÃ±agrande\n",
       "\\item ArgÃ¼elles\n",
       "\\item Puerta Bonita\n",
       "\\item Buenavista\n",
       "\\item Abrantes\n",
       "\\item Orcasur\n",
       "\\item San FermÃ­n\n",
       "\\item Almendrales\n",
       "\\item Pradolongo\n",
       "\\item Portazgo\n",
       "\\item EntrevÃ­as\n",
       "\\item San Diego\n",
       "\\item Palomeras Bajas\n",
       "\\item FontarrÃ³n\n",
       "\\item Vinateros\n",
       "\\item Ventas\n",
       "\\item Pueblo Nuevo\n",
       "\\item Quintana\n",
       "\\item ConcepciÃ³n\n",
       "\\item San Juan Bautista\n",
       "\\item Costillares\n",
       "\\item Piovera\n",
       "\\item Canillas\n",
       "\\item Pinar del Rey\n",
       "\\item Apostol Santiago\n",
       "\\item San AndrÃ©s\n",
       "\\item Valdefuentes\n",
       "\\item Butarque\n",
       "\\item Los Angeles\n",
       "\\item Casco HistÃ³rico de VicÃ¡lvaro\n",
       "\\item Simancas\n",
       "\\item Rejas\n",
       "\\item Salvador\n",
       "\\item Casco HistÃ³rico de Barajas\n",
       "\\item Pilar\n",
       "\\item La Paz\n",
       "\\item Mirasierra\n",
       "\\item Ciudad Universitaria\n",
       "\\item MoscardÃ³\n",
       "\\item Palomeras Sureste\n",
       "\\item Marroquina\n",
       "\\item Media Legua\n",
       "\\item Los Rosales\n",
       "\\item Casco HistÃ³rico de Vallecas\n",
       "\\item TimÃ³n\n",
       "\\item Corralejos\n",
       "\\item Cuatro Vientos\n",
       "\\item Colina\n",
       "\\item San Cristobal\n",
       "\\item Alameda de Osuna\n",
       "\\item Aeropuerto\n",
       "\\item Palomas\n",
       "\\item ZofÃ­o\n",
       "\\item Aguilas\n",
       "\\item Legazpi\n",
       "\\item Fuentelareina\n",
       "\\item Aravaca\n",
       "\\item Ambroz\n",
       "\\item Canillejas\n",
       "\\item Valdezarza\n",
       "\\item Amposta\n",
       "\\item San Pascual\n",
       "\\item Santa Eugenia\n",
       "\\item Arcos\n",
       "\\item Rosas\n",
       "\\item ValdemarÃ­n\n",
       "\\item El PlantÃ­o\n",
       "\\item HellÃ­n\n",
       "\\item Pavones\n",
       "\\item Orcasitas\n",
       "\\end{enumerate*}\n",
       "\n",
       "\\emph{Levels}: \\begin{enumerate*}\n",
       "\\item 'Abrantes'\n",
       "\\item 'Acacias'\n",
       "\\item 'Adelfas'\n",
       "\\item 'Aeropuerto'\n",
       "\\item 'Aguilas'\n",
       "\\item 'Alameda de Osuna'\n",
       "\\item 'Almagro'\n",
       "\\item 'Almenara'\n",
       "\\item 'Almendrales'\n",
       "\\item 'Aluche'\n",
       "\\item 'Ambroz'\n",
       "\\item 'Amposta'\n",
       "\\item 'Apostol Santiago'\n",
       "\\item 'Arapiles'\n",
       "\\item 'Aravaca'\n",
       "\\item 'Arcos'\n",
       "\\item 'ArgÃ¼elles'\n",
       "\\item 'Atocha'\n",
       "\\item 'Bellas Vistas'\n",
       "\\item 'Berruguete'\n",
       "\\item 'Buenavista'\n",
       "\\item 'Butarque'\n",
       "\\item 'CÃ¡rmenes'\n",
       "\\item 'Campamento'\n",
       "\\item 'Canillas'\n",
       "\\item 'Canillejas'\n",
       "\\item 'Casa de Campo'\n",
       "\\item 'Casco HistÃ³rico de Barajas'\n",
       "\\item 'Casco HistÃ³rico de Vallecas'\n",
       "\\item 'Casco HistÃ³rico de VicÃ¡lvaro'\n",
       "\\item 'Castellana'\n",
       "\\item 'Castilla'\n",
       "\\item 'Castillejos'\n",
       "\\item 'Chopera'\n",
       "\\item 'Ciudad JardÃ­n'\n",
       "\\item 'Ciudad Universitaria'\n",
       "\\item 'Colina'\n",
       "\\item 'Comillas'\n",
       "\\item 'ConcepciÃ³n'\n",
       "\\item 'Corralejos'\n",
       "\\item 'Cortes'\n",
       "\\item 'Costillares'\n",
       "\\item 'Cuatro Caminos'\n",
       "\\item 'Cuatro Vientos'\n",
       "\\item 'Delicias'\n",
       "\\item 'El Goloso'\n",
       "\\item 'El PlantÃ­o'\n",
       "\\item 'El Viso'\n",
       "\\item 'Embajadores'\n",
       "\\item 'EntrevÃ­as'\n",
       "\\item 'Estrella'\n",
       "\\item 'FontarrÃ³n'\n",
       "\\item 'Fuente del Berro'\n",
       "\\item 'Fuentelareina'\n",
       "\\item 'Gaztambide'\n",
       "\\item 'Goya'\n",
       "\\item 'Guindalera'\n",
       "\\item 'HellÃ­n'\n",
       "\\item 'HispanoamÃ©rica'\n",
       "\\item 'Ibiza'\n",
       "\\item 'Imperial'\n",
       "\\item 'JerÃ³nimos'\n",
       "\\item 'Justicia'\n",
       "\\item 'La Paz'\n",
       "\\item 'Legazpi'\n",
       "\\item 'Lista'\n",
       "\\item 'Los Angeles'\n",
       "\\item 'Los Rosales'\n",
       "\\item 'Lucero'\n",
       "\\item 'Marroquina'\n",
       "\\item 'Media Legua'\n",
       "\\item 'Mirasierra'\n",
       "\\item 'MoscardÃ³'\n",
       "\\item 'NiÃ±o JesÃºs'\n",
       "\\item 'Nueva EspaÃ±a'\n",
       "\\item 'Numancia'\n",
       "\\item 'OpaÃ±el'\n",
       "\\item 'Orcasitas'\n",
       "\\item 'Orcasur'\n",
       "\\item 'PacÃ­fico'\n",
       "\\item 'Palacio'\n",
       "\\item 'Palomas'\n",
       "\\item 'Palomeras Bajas'\n",
       "\\item 'Palomeras Sureste'\n",
       "\\item 'Palos de Moguer'\n",
       "\\item 'Pavones'\n",
       "\\item 'PeÃ±agrande'\n",
       "\\item 'Pilar'\n",
       "\\item 'Pinar del Rey'\n",
       "\\item 'Piovera'\n",
       "\\item 'Portazgo'\n",
       "\\item 'Pradolongo'\n",
       "\\item 'Prosperidad'\n",
       "\\item 'Pueblo Nuevo'\n",
       "\\item 'Puerta Bonita'\n",
       "\\item 'Puerta del Angel'\n",
       "\\item 'Quintana'\n",
       "\\item 'Recoletos'\n",
       "\\item 'Rejas'\n",
       "\\item 'Rios Rosas'\n",
       "\\item 'Rosas'\n",
       "\\item 'Salvador'\n",
       "\\item 'San AndrÃ©s'\n",
       "\\item 'San Cristobal'\n",
       "\\item 'San Diego'\n",
       "\\item 'San FermÃ­n'\n",
       "\\item 'San Isidro'\n",
       "\\item 'San Juan Bautista'\n",
       "\\item 'San Pascual'\n",
       "\\item 'Santa Eugenia'\n",
       "\\item 'Simancas'\n",
       "\\item 'Sol'\n",
       "\\item 'TimÃ³n'\n",
       "\\item 'Trafalgar'\n",
       "\\item 'Universidad'\n",
       "\\item 'Valdeacederas'\n",
       "\\item 'Valdefuentes'\n",
       "\\item 'ValdemarÃ­n'\n",
       "\\item 'Valdezarza'\n",
       "\\item 'Vallehermoso'\n",
       "\\item 'Valverde'\n",
       "\\item 'Ventas'\n",
       "\\item 'Vinateros'\n",
       "\\item 'Vista Alegre'\n",
       "\\item 'ZofÃ­o'\n",
       "\\end{enumerate*}\n"
      ],
      "text/markdown": [
       "1. Universidad\n",
       "2. Sol\n",
       "3. Imperial\n",
       "4. Acacias\n",
       "5. Chopera\n",
       "6. Delicias\n",
       "7. Palos de Moguer\n",
       "8. Embajadores\n",
       "9. Cortes\n",
       "10. Atocha\n",
       "11. PacÃ­fico\n",
       "12. Adelfas\n",
       "13. Estrella\n",
       "14. Ibiza\n",
       "15. JerÃ³nimos\n",
       "16. NiÃ±o JesÃºs\n",
       "17. Palacio\n",
       "18. Justicia\n",
       "19. Recoletos\n",
       "20. Goya\n",
       "21. Fuente del Berro\n",
       "22. Arapiles\n",
       "23. Trafalgar\n",
       "24. Almagro\n",
       "25. Guindalera\n",
       "26. Lista\n",
       "27. Castellana\n",
       "28. El Viso\n",
       "29. Prosperidad\n",
       "30. Valverde\n",
       "31. Casa de Campo\n",
       "32. El Goloso\n",
       "33. Numancia\n",
       "34. CÃ¡rmenes\n",
       "35. Puerta del Angel\n",
       "36. Lucero\n",
       "37. Aluche\n",
       "38. San Isidro\n",
       "39. Campamento\n",
       "40. Comillas\n",
       "41. OpaÃ±el\n",
       "42. Vista Alegre\n",
       "43. Ciudad JardÃ­n\n",
       "44. HispanoamÃ©rica\n",
       "45. Nueva EspaÃ±a\n",
       "46. Castilla\n",
       "47. Bellas Vistas\n",
       "48. Cuatro Caminos\n",
       "49. Castillejos\n",
       "50. Vallehermoso\n",
       "51. Almenara\n",
       "52. Valdeacederas\n",
       "53. Berruguete\n",
       "54. Gaztambide\n",
       "55. Rios Rosas\n",
       "56. PeÃ±agrande\n",
       "57. ArgÃ¼elles\n",
       "58. Puerta Bonita\n",
       "59. Buenavista\n",
       "60. Abrantes\n",
       "61. Orcasur\n",
       "62. San FermÃ­n\n",
       "63. Almendrales\n",
       "64. Pradolongo\n",
       "65. Portazgo\n",
       "66. EntrevÃ­as\n",
       "67. San Diego\n",
       "68. Palomeras Bajas\n",
       "69. FontarrÃ³n\n",
       "70. Vinateros\n",
       "71. Ventas\n",
       "72. Pueblo Nuevo\n",
       "73. Quintana\n",
       "74. ConcepciÃ³n\n",
       "75. San Juan Bautista\n",
       "76. Costillares\n",
       "77. Piovera\n",
       "78. Canillas\n",
       "79. Pinar del Rey\n",
       "80. Apostol Santiago\n",
       "81. San AndrÃ©s\n",
       "82. Valdefuentes\n",
       "83. Butarque\n",
       "84. Los Angeles\n",
       "85. Casco HistÃ³rico de VicÃ¡lvaro\n",
       "86. Simancas\n",
       "87. Rejas\n",
       "88. Salvador\n",
       "89. Casco HistÃ³rico de Barajas\n",
       "90. Pilar\n",
       "91. La Paz\n",
       "92. Mirasierra\n",
       "93. Ciudad Universitaria\n",
       "94. MoscardÃ³\n",
       "95. Palomeras Sureste\n",
       "96. Marroquina\n",
       "97. Media Legua\n",
       "98. Los Rosales\n",
       "99. Casco HistÃ³rico de Vallecas\n",
       "100. TimÃ³n\n",
       "101. Corralejos\n",
       "102. Cuatro Vientos\n",
       "103. Colina\n",
       "104. San Cristobal\n",
       "105. Alameda de Osuna\n",
       "106. Aeropuerto\n",
       "107. Palomas\n",
       "108. ZofÃ­o\n",
       "109. Aguilas\n",
       "110. Legazpi\n",
       "111. Fuentelareina\n",
       "112. Aravaca\n",
       "113. Ambroz\n",
       "114. Canillejas\n",
       "115. Valdezarza\n",
       "116. Amposta\n",
       "117. San Pascual\n",
       "118. Santa Eugenia\n",
       "119. Arcos\n",
       "120. Rosas\n",
       "121. ValdemarÃ­n\n",
       "122. El PlantÃ­o\n",
       "123. HellÃ­n\n",
       "124. Pavones\n",
       "125. Orcasitas\n",
       "\n",
       "\n",
       "\n",
       "**Levels**: 1. 'Abrantes'\n",
       "2. 'Acacias'\n",
       "3. 'Adelfas'\n",
       "4. 'Aeropuerto'\n",
       "5. 'Aguilas'\n",
       "6. 'Alameda de Osuna'\n",
       "7. 'Almagro'\n",
       "8. 'Almenara'\n",
       "9. 'Almendrales'\n",
       "10. 'Aluche'\n",
       "11. 'Ambroz'\n",
       "12. 'Amposta'\n",
       "13. 'Apostol Santiago'\n",
       "14. 'Arapiles'\n",
       "15. 'Aravaca'\n",
       "16. 'Arcos'\n",
       "17. 'ArgÃ¼elles'\n",
       "18. 'Atocha'\n",
       "19. 'Bellas Vistas'\n",
       "20. 'Berruguete'\n",
       "21. 'Buenavista'\n",
       "22. 'Butarque'\n",
       "23. 'CÃ¡rmenes'\n",
       "24. 'Campamento'\n",
       "25. 'Canillas'\n",
       "26. 'Canillejas'\n",
       "27. 'Casa de Campo'\n",
       "28. 'Casco HistÃ³rico de Barajas'\n",
       "29. 'Casco HistÃ³rico de Vallecas'\n",
       "30. 'Casco HistÃ³rico de VicÃ¡lvaro'\n",
       "31. 'Castellana'\n",
       "32. 'Castilla'\n",
       "33. 'Castillejos'\n",
       "34. 'Chopera'\n",
       "35. 'Ciudad JardÃ­n'\n",
       "36. 'Ciudad Universitaria'\n",
       "37. 'Colina'\n",
       "38. 'Comillas'\n",
       "39. 'ConcepciÃ³n'\n",
       "40. 'Corralejos'\n",
       "41. 'Cortes'\n",
       "42. 'Costillares'\n",
       "43. 'Cuatro Caminos'\n",
       "44. 'Cuatro Vientos'\n",
       "45. 'Delicias'\n",
       "46. 'El Goloso'\n",
       "47. 'El PlantÃ­o'\n",
       "48. 'El Viso'\n",
       "49. 'Embajadores'\n",
       "50. 'EntrevÃ­as'\n",
       "51. 'Estrella'\n",
       "52. 'FontarrÃ³n'\n",
       "53. 'Fuente del Berro'\n",
       "54. 'Fuentelareina'\n",
       "55. 'Gaztambide'\n",
       "56. 'Goya'\n",
       "57. 'Guindalera'\n",
       "58. 'HellÃ­n'\n",
       "59. 'HispanoamÃ©rica'\n",
       "60. 'Ibiza'\n",
       "61. 'Imperial'\n",
       "62. 'JerÃ³nimos'\n",
       "63. 'Justicia'\n",
       "64. 'La Paz'\n",
       "65. 'Legazpi'\n",
       "66. 'Lista'\n",
       "67. 'Los Angeles'\n",
       "68. 'Los Rosales'\n",
       "69. 'Lucero'\n",
       "70. 'Marroquina'\n",
       "71. 'Media Legua'\n",
       "72. 'Mirasierra'\n",
       "73. 'MoscardÃ³'\n",
       "74. 'NiÃ±o JesÃºs'\n",
       "75. 'Nueva EspaÃ±a'\n",
       "76. 'Numancia'\n",
       "77. 'OpaÃ±el'\n",
       "78. 'Orcasitas'\n",
       "79. 'Orcasur'\n",
       "80. 'PacÃ­fico'\n",
       "81. 'Palacio'\n",
       "82. 'Palomas'\n",
       "83. 'Palomeras Bajas'\n",
       "84. 'Palomeras Sureste'\n",
       "85. 'Palos de Moguer'\n",
       "86. 'Pavones'\n",
       "87. 'PeÃ±agrande'\n",
       "88. 'Pilar'\n",
       "89. 'Pinar del Rey'\n",
       "90. 'Piovera'\n",
       "91. 'Portazgo'\n",
       "92. 'Pradolongo'\n",
       "93. 'Prosperidad'\n",
       "94. 'Pueblo Nuevo'\n",
       "95. 'Puerta Bonita'\n",
       "96. 'Puerta del Angel'\n",
       "97. 'Quintana'\n",
       "98. 'Recoletos'\n",
       "99. 'Rejas'\n",
       "100. 'Rios Rosas'\n",
       "101. 'Rosas'\n",
       "102. 'Salvador'\n",
       "103. 'San AndrÃ©s'\n",
       "104. 'San Cristobal'\n",
       "105. 'San Diego'\n",
       "106. 'San FermÃ­n'\n",
       "107. 'San Isidro'\n",
       "108. 'San Juan Bautista'\n",
       "109. 'San Pascual'\n",
       "110. 'Santa Eugenia'\n",
       "111. 'Simancas'\n",
       "112. 'Sol'\n",
       "113. 'TimÃ³n'\n",
       "114. 'Trafalgar'\n",
       "115. 'Universidad'\n",
       "116. 'Valdeacederas'\n",
       "117. 'Valdefuentes'\n",
       "118. 'ValdemarÃ­n'\n",
       "119. 'Valdezarza'\n",
       "120. 'Vallehermoso'\n",
       "121. 'Valverde'\n",
       "122. 'Ventas'\n",
       "123. 'Vinateros'\n",
       "124. 'Vista Alegre'\n",
       "125. 'ZofÃ­o'\n",
       "\n",
       "\n"
      ],
      "text/plain": [
       "  [1] Universidad                    Sol                           \n",
       "  [3] Imperial                       Acacias                       \n",
       "  [5] Chopera                        Delicias                      \n",
       "  [7] Palos de Moguer                Embajadores                   \n",
       "  [9] Cortes                         Atocha                        \n",
       " [11] PacÃ­fico                      Adelfas                       \n",
       " [13] Estrella                       Ibiza                         \n",
       " [15] JerÃ³nimos                     NiÃ±o JesÃºs                  \n",
       " [17] Palacio                        Justicia                      \n",
       " [19] Recoletos                      Goya                          \n",
       " [21] Fuente del Berro               Arapiles                      \n",
       " [23] Trafalgar                      Almagro                       \n",
       " [25] Guindalera                     Lista                         \n",
       " [27] Castellana                     El Viso                       \n",
       " [29] Prosperidad                    Valverde                      \n",
       " [31] Casa de Campo                  El Goloso                     \n",
       " [33] Numancia                       CÃ¡rmenes                     \n",
       " [35] Puerta del Angel               Lucero                        \n",
       " [37] Aluche                         San Isidro                    \n",
       " [39] Campamento                     Comillas                      \n",
       " [41] OpaÃ±el                        Vista Alegre                  \n",
       " [43] Ciudad JardÃ­n                 HispanoamÃ©rica               \n",
       " [45] Nueva EspaÃ±a                  Castilla                      \n",
       " [47] Bellas Vistas                  Cuatro Caminos                \n",
       " [49] Castillejos                    Vallehermoso                  \n",
       " [51] Almenara                       Valdeacederas                 \n",
       " [53] Berruguete                     Gaztambide                    \n",
       " [55] Rios Rosas                     PeÃ±agrande                   \n",
       " [57] ArgÃ¼elles                     Puerta Bonita                 \n",
       " [59] Buenavista                     Abrantes                      \n",
       " [61] Orcasur                        San FermÃ­n                   \n",
       " [63] Almendrales                    Pradolongo                    \n",
       " [65] Portazgo                       EntrevÃ­as                    \n",
       " [67] San Diego                      Palomeras Bajas               \n",
       " [69] FontarrÃ³n                     Vinateros                     \n",
       " [71] Ventas                         Pueblo Nuevo                  \n",
       " [73] Quintana                       ConcepciÃ³n                   \n",
       " [75] San Juan Bautista              Costillares                   \n",
       " [77] Piovera                        Canillas                      \n",
       " [79] Pinar del Rey                  Apostol Santiago              \n",
       " [81] San AndrÃ©s                    Valdefuentes                  \n",
       " [83] Butarque                       Los Angeles                   \n",
       " [85] Casco HistÃ³rico de VicÃ¡lvaro Simancas                      \n",
       " [87] Rejas                          Salvador                      \n",
       " [89] Casco HistÃ³rico de Barajas    Pilar                         \n",
       " [91] La Paz                         Mirasierra                    \n",
       " [93] Ciudad Universitaria           MoscardÃ³                     \n",
       " [95] Palomeras Sureste              Marroquina                    \n",
       " [97] Media Legua                    Los Rosales                   \n",
       " [99] Casco HistÃ³rico de Vallecas   TimÃ³n                        \n",
       "[101] Corralejos                     Cuatro Vientos                \n",
       "[103] Colina                         San Cristobal                 \n",
       "[105] Alameda de Osuna               Aeropuerto                    \n",
       "[107] Palomas                        ZofÃ­o                        \n",
       "[109] Aguilas                        Legazpi                       \n",
       "[111] Fuentelareina                  Aravaca                       \n",
       "[113] Ambroz                         Canillejas                    \n",
       "[115] Valdezarza                     Amposta                       \n",
       "[117] San Pascual                    Santa Eugenia                 \n",
       "[119] Arcos                          Rosas                         \n",
       "[121] ValdemarÃ­n                    El PlantÃ­o                   \n",
       "[123] HellÃ­n                        Pavones                       \n",
       "[125] Orcasitas                     \n",
       "125 Levels: Abrantes Acacias Adelfas Aeropuerto Aguilas ... ZofÃ­o"
      ]
     },
     "metadata": {},
     "output_type": "display_data"
    }
   ],
   "source": [
    "length(unique(airbnb$Barrio))\n",
    "unique(airbnb$Barrio)"
   ]
  },
  {
   "cell_type": "markdown",
   "metadata": {},
   "source": [
    "¿Cuales son los 5 barrios que tienen mayor número entradas?"
   ]
  },
  {
   "cell_type": "code",
   "execution_count": 13,
   "metadata": {},
   "outputs": [
    {
     "data": {
      "text/plain": [
       "\n",
       "   Justicia         Sol     Palacio Universidad Embajadores \n",
       "        785         940        1083        1358        1844 "
      ]
     },
     "metadata": {},
     "output_type": "display_data"
    }
   ],
   "source": [
    "tail(sort(table(airbnb$Barrio)), 5)"
   ]
  },
  {
   "cell_type": "markdown",
   "metadata": {},
   "source": [
    "¿Cuantos Tipos de Alquiler diferentes hay? ¿Cuales son? ¿Cuantas entradas en el dataframe hay por cada tipo?"
   ]
  },
  {
   "cell_type": "code",
   "execution_count": 14,
   "metadata": {},
   "outputs": [
    {
     "data": {
      "text/html": [
       "3"
      ],
      "text/latex": [
       "3"
      ],
      "text/markdown": [
       "3"
      ],
      "text/plain": [
       "[1] 3"
      ]
     },
     "metadata": {},
     "output_type": "display_data"
    },
    {
     "data": {
      "text/html": [
       "<ol class=list-inline>\n",
       "\t<li>Private room</li>\n",
       "\t<li>Entire home/apt</li>\n",
       "\t<li>Shared room</li>\n",
       "</ol>\n",
       "\n",
       "<details>\n",
       "\t<summary style=display:list-item;cursor:pointer>\n",
       "\t\t<strong>Levels</strong>:\n",
       "\t</summary>\n",
       "\t<ol class=list-inline>\n",
       "\t\t<li>'Entire home/apt'</li>\n",
       "\t\t<li>'Private room'</li>\n",
       "\t\t<li>'Shared room'</li>\n",
       "\t</ol>\n",
       "</details>"
      ],
      "text/latex": [
       "\\begin{enumerate*}\n",
       "\\item Private room\n",
       "\\item Entire home/apt\n",
       "\\item Shared room\n",
       "\\end{enumerate*}\n",
       "\n",
       "\\emph{Levels}: \\begin{enumerate*}\n",
       "\\item 'Entire home/apt'\n",
       "\\item 'Private room'\n",
       "\\item 'Shared room'\n",
       "\\end{enumerate*}\n"
      ],
      "text/markdown": [
       "1. Private room\n",
       "2. Entire home/apt\n",
       "3. Shared room\n",
       "\n",
       "\n",
       "\n",
       "**Levels**: 1. 'Entire home/apt'\n",
       "2. 'Private room'\n",
       "3. 'Shared room'\n",
       "\n",
       "\n"
      ],
      "text/plain": [
       "[1] Private room    Entire home/apt Shared room    \n",
       "Levels: Entire home/apt Private room Shared room"
      ]
     },
     "metadata": {},
     "output_type": "display_data"
    },
    {
     "data": {
      "text/plain": [
       "\n",
       "Entire home/apt    Private room     Shared room \n",
       "           7903            5113             191 "
      ]
     },
     "metadata": {},
     "output_type": "display_data"
    }
   ],
   "source": [
    "length(unique(airbnb$TipoAlquiler))\n",
    "unique(airbnb$TipoAlquiler)\n",
    "table(airbnb$TipoAlquiler)"
   ]
  },
  {
   "cell_type": "markdown",
   "metadata": {},
   "source": [
    "Muestra el diagrama de cajas del precio para cada uno de los diferentes Tipos de Alquiler"
   ]
  },
  {
   "cell_type": "code",
   "execution_count": 15,
   "metadata": {},
   "outputs": [],
   "source": [
    "library(\"ggplot2\")\n",
    "options(repr.plot.height=4,repr.plot.width=8 , repr.plot.res = 200)"
   ]
  },
  {
   "cell_type": "code",
   "execution_count": 16,
   "metadata": {},
   "outputs": [
    {
     "name": "stderr",
     "output_type": "stream",
     "text": [
      "Warning message:\n",
      "\"Removed 9 rows containing non-finite values (stat_boxplot).\""
     ]
    },
    {
     "data": {
      "image/png": "[encoded data removed]",
      "text/plain": [
       "plot without title"
      ]
     },
     "metadata": {},
     "output_type": "display_data"
    }
   ],
   "source": [
    "ggplot(data=airbnb,aes(x=TipoAlquiler, y=Precio))+geom_boxplot()+\n",
    " xlab(\"Tipo de Alquiler\")+ylab(\"Precio (euros)\")"
   ]
  },
  {
   "cell_type": "markdown",
   "metadata": {},
   "source": [
    "Cual es el precio medio de alquiler de cada uno, la diferencia que hay ¿es estadísticamente significativa?\n",
    "¿Con que test lo comprobarías?"
   ]
  },
  {
   "cell_type": "code",
   "execution_count": 17,
   "metadata": {},
   "outputs": [
    {
     "data": {
      "text/html": [
       "87.2966058763931"
      ],
      "text/latex": [
       "87.2966058763931"
      ],
      "text/markdown": [
       "87.2966058763931"
      ],
      "text/plain": [
       "[1] 87.29661"
      ]
     },
     "metadata": {},
     "output_type": "display_data"
    },
    {
     "data": {
      "text/html": [
       "34.255135981217"
      ],
      "text/latex": [
       "34.255135981217"
      ],
      "text/markdown": [
       "34.255135981217"
      ],
      "text/plain": [
       "[1] 34.25514"
      ]
     },
     "metadata": {},
     "output_type": "display_data"
    },
    {
     "data": {
      "text/html": [
       "29.8534031413613"
      ],
      "text/latex": [
       "29.8534031413613"
      ],
      "text/markdown": [
       "29.8534031413613"
      ],
      "text/plain": [
       "[1] 29.8534"
      ]
     },
     "metadata": {},
     "output_type": "display_data"
    }
   ],
   "source": [
    "mean(airbnb$Precio[airbnb$TipoAlquiler ==\"Entire home/apt\"], na.rm=T)\n",
    "mean(airbnb$Precio[airbnb$TipoAlquiler ==\"Private room\"], na.rm=T)\n",
    "mean(airbnb$Precio[airbnb$TipoAlquiler ==\"Shared room\"], na.rm=T)\n",
    "#test anoba, test t-student???"
   ]
  },
  {
   "cell_type": "markdown",
   "metadata": {},
   "source": [
    "Filtra el dataframe cuyos tipo de alquiler sea  'Entire home/apt' y guardalo en un dataframe llamado \n",
    "*airbnb_entire*.\n",
    "Estas serán las entradas que tienen un alquiler del piso completo."
   ]
  },
  {
   "cell_type": "code",
   "execution_count": 18,
   "metadata": {},
   "outputs": [
    {
     "name": "stderr",
     "output_type": "stream",
     "text": [
      "Registered S3 method overwritten by 'rvest':\n",
      "  method            from\n",
      "  read_xml.response xml2\n",
      "-- Attaching packages --------------------------------------- tidyverse 1.2.1 --\n",
      "v tibble  2.1.1       v purrr   0.3.2  \n",
      "v tidyr   0.8.3       v dplyr   0.8.0.1\n",
      "v readr   1.3.1       v stringr 1.4.0  \n",
      "v tibble  2.1.1       v forcats 0.4.0  \n",
      "-- Conflicts ------------------------------------------ tidyverse_conflicts() --\n",
      "x dplyr::filter() masks stats::filter()\n",
      "x dplyr::lag()    masks stats::lag()\n"
     ]
    },
    {
     "data": {
      "text/html": [
       "<table>\n",
       "<thead><tr><th scope=col>CodigoPostal</th><th scope=col>Barrio</th><th scope=col>TipoPropiedad</th><th scope=col>TipoAlquiler</th><th scope=col>MaxOcupantes</th><th scope=col>NumBanyos</th><th scope=col>NumDormitorios</th><th scope=col>NumCamas</th><th scope=col>TipoCama</th><th scope=col>Comodidades</th><th scope=col>PiesCuadrados</th><th scope=col>Precio</th><th scope=col>Puntuacion</th><th scope=col>MetrosCuadrados</th></tr></thead>\n",
       "<tbody>\n",
       "\t<tr><td>28004                                                                                                                                                                                                                                                                                                                                                           </td><td>Universidad                                                                                                                                                                                                                                                                                                                                                     </td><td>Apartment                                                                                                                                                                                                                                                                                                                                                       </td><td>Entire home/apt                                                                                                                                                                                                                                                                                                                                                 </td><td>6                                                                                                                                                                                                                                                                                                                                                               </td><td>1                                                                                                                                                                                                                                                                                                                                                               </td><td>3                                                                                                                                                                                                                                                                                                                                                               </td><td> 5                                                                                                                                                                                                                                                                                                                                                              </td><td>Real Bed                                                                                                                                                                                                                                                                                                                                                        </td><td>TV,Internet,Wireless Internet,Air conditioning,Kitchen,Indoor fireplace,Heating,Family/kid friendly,Washer,Dryer,Smoke detector,Carbon monoxide detector,Essentials,Shampoo                                                                                                                                                                                     </td><td> NA                                                                                                                                                                                                                                                                                                                                                             </td><td> 92                                                                                                                                                                                                                                                                                                                                                             </td><td> 96                                                                                                                                                                                                                                                                                                                                                             </td><td>      NA                                                                                                                                                                                                                                                                                                                                                        </td></tr>\n",
       "\t<tr><td>28004                                                                                                                                                                                                                                                                                                                                                           </td><td>Universidad                                                                                                                                                                                                                                                                                                                                                     </td><td>Apartment                                                                                                                                                                                                                                                                                                                                                       </td><td>Entire home/apt                                                                                                                                                                                                                                                                                                                                                 </td><td>3                                                                                                                                                                                                                                                                                                                                                               </td><td>1                                                                                                                                                                                                                                                                                                                                                               </td><td>2                                                                                                                                                                                                                                                                                                                                                               </td><td> 2                                                                                                                                                                                                                                                                                                                                                              </td><td>Real Bed                                                                                                                                                                                                                                                                                                                                                        </td><td>TV,Internet,Wireless Internet,Air conditioning,Kitchen,Doorman,Heating,Family/kid friendly,Washer,Essentials,Shampoo,Hangers,Hair dryer,Iron,Laptop friendly workspace                                                                                                                                                                                          </td><td> NA                                                                                                                                                                                                                                                                                                                                                             </td><td> 55                                                                                                                                                                                                                                                                                                                                                             </td><td> 91                                                                                                                                                                                                                                                                                                                                                             </td><td>      NA                                                                                                                                                                                                                                                                                                                                                        </td></tr>\n",
       "\t<tr><td>28004                                                                                                                                                                                                                                                                                                                                                           </td><td>Universidad                                                                                                                                                                                                                                                                                                                                                     </td><td>Loft                                                                                                                                                                                                                                                                                                                                                            </td><td>Entire home/apt                                                                                                                                                                                                                                                                                                                                                 </td><td>3                                                                                                                                                                                                                                                                                                                                                               </td><td>2                                                                                                                                                                                                                                                                                                                                                               </td><td>1                                                                                                                                                                                                                                                                                                                                                               </td><td> 1                                                                                                                                                                                                                                                                                                                                                              </td><td>Real Bed                                                                                                                                                                                                                                                                                                                                                        </td><td>TV,Internet,Wireless Internet,Air conditioning,Kitchen,Pets allowed,Breakfast,Elevator in building,Indoor fireplace,Buzzer/wireless intercom,Heating,Washer,Essentials,Shampoo,Hangers,Hair dryer,Iron,Laptop friendly workspace,translation missing: en.hosting_amenity_49,translation missing: en.hosting_amenity_50                                          </td><td> NA                                                                                                                                                                                                                                                                                                                                                             </td><td> 60                                                                                                                                                                                                                                                                                                                                                             </td><td>100                                                                                                                                                                                                                                                                                                                                                             </td><td>      NA                                                                                                                                                                                                                                                                                                                                                        </td></tr>\n",
       "\t<tr><td>28015                                                                                                                                                                                                                                                                                                                                                           </td><td>Universidad                                                                                                                                                                                                                                                                                                                                                     </td><td>Apartment                                                                                                                                                                                                                                                                                                                                                       </td><td>Entire home/apt                                                                                                                                                                                                                                                                                                                                                 </td><td>5                                                                                                                                                                                                                                                                                                                                                               </td><td>1                                                                                                                                                                                                                                                                                                                                                               </td><td>1                                                                                                                                                                                                                                                                                                                                                               </td><td> 1                                                                                                                                                                                                                                                                                                                                                              </td><td>Real Bed                                                                                                                                                                                                                                                                                                                                                        </td><td>TV,Wireless Internet,Air conditioning,Kitchen,Smoking allowed,Pets allowed,Elevator in building,Heating,Family/kid friendly,Washer,Essentials,Iron                                                                                                                                                                                                              </td><td>538                                                                                                                                                                                                                                                                                                                                                             </td><td> 75                                                                                                                                                                                                                                                                                                                                                             </td><td> 90                                                                                                                                                                                                                                                                                                                                                             </td><td>49.98181                                                                                                                                                                                                                                                                                                                                                        </td></tr>\n",
       "\t<tr><td>28004                                                                                                                                                                                                                                                                                                                                                           </td><td>Universidad                                                                                                                                                                                                                                                                                                                                                     </td><td>Apartment                                                                                                                                                                                                                                                                                                                                                       </td><td>Entire home/apt                                                                                                                                                                                                                                                                                                                                                 </td><td>2                                                                                                                                                                                                                                                                                                                                                               </td><td>1                                                                                                                                                                                                                                                                                                                                                               </td><td>0                                                                                                                                                                                                                                                                                                                                                               </td><td> 1                                                                                                                                                                                                                                                                                                                                                              </td><td>Real Bed                                                                                                                                                                                                                                                                                                                                                        </td><td>TV,Cable TV,Internet,Wireless Internet,Air conditioning,Wheelchair accessible,Kitchen,Doorman,Elevator in building,Buzzer/wireless intercom,Heating,Washer,Smoke detector,Carbon monoxide detector,First aid kit,Safety card,Fire extinguisher,Essentials,Shampoo,24-hour check-in,Hangers,Hair dryer,Iron,Laptop friendly workspace,Self Check-In,Doorman Entry</td><td> NA                                                                                                                                                                                                                                                                                                                                                             </td><td> 55                                                                                                                                                                                                                                                                                                                                                             </td><td> 95                                                                                                                                                                                                                                                                                                                                                             </td><td>      NA                                                                                                                                                                                                                                                                                                                                                        </td></tr>\n",
       "\t<tr><td>28004                                                                                                                                                                                                                                                                                                                                                           </td><td>Universidad                                                                                                                                                                                                                                                                                                                                                     </td><td>Apartment                                                                                                                                                                                                                                                                                                                                                       </td><td>Entire home/apt                                                                                                                                                                                                                                                                                                                                                 </td><td>3                                                                                                                                                                                                                                                                                                                                                               </td><td>1                                                                                                                                                                                                                                                                                                                                                               </td><td>1                                                                                                                                                                                                                                                                                                                                                               </td><td>NA                                                                                                                                                                                                                                                                                                                                                              </td><td>Real Bed                                                                                                                                                                                                                                                                                                                                                        </td><td>TV,Wireless Internet,Air conditioning,Kitchen,Elevator in building,Buzzer/wireless intercom,Heating,Washer                                                                                                                                                                                                                                                      </td><td> NA                                                                                                                                                                                                                                                                                                                                                             </td><td> 70                                                                                                                                                                                                                                                                                                                                                             </td><td> 84                                                                                                                                                                                                                                                                                                                                                             </td><td>      NA                                                                                                                                                                                                                                                                                                                                                        </td></tr>\n",
       "\t<tr><td>28015                                                                                                                                                                                                                                                                                                                                                           </td><td>Universidad                                                                                                                                                                                                                                                                                                                                                     </td><td>Apartment                                                                                                                                                                                                                                                                                                                                                       </td><td>Entire home/apt                                                                                                                                                                                                                                                                                                                                                 </td><td>2                                                                                                                                                                                                                                                                                                                                                               </td><td>1                                                                                                                                                                                                                                                                                                                                                               </td><td>1                                                                                                                                                                                                                                                                                                                                                               </td><td> 1                                                                                                                                                                                                                                                                                                                                                              </td><td>Real Bed                                                                                                                                                                                                                                                                                                                                                        </td><td>TV,Internet,Wireless Internet,Kitchen,Elevator in building,Buzzer/wireless intercom,Heating,Family/kid friendly,Washer,Dryer,Essentials,Shampoo,translation missing: en.hosting_amenity_49                                                                                                                                                                      </td><td>700                                                                                                                                                                                                                                                                                                                                                             </td><td> 90                                                                                                                                                                                                                                                                                                                                                             </td><td> 98                                                                                                                                                                                                                                                                                                                                                             </td><td>65.03210                                                                                                                                                                                                                                                                                                                                                        </td></tr>\n",
       "\t<tr><td>28004                                                                                                                                                                                                                                                                                                                                                           </td><td>Universidad                                                                                                                                                                                                                                                                                                                                                     </td><td>Apartment                                                                                                                                                                                                                                                                                                                                                       </td><td>Entire home/apt                                                                                                                                                                                                                                                                                                                                                 </td><td>4                                                                                                                                                                                                                                                                                                                                                               </td><td>2                                                                                                                                                                                                                                                                                                                                                               </td><td>2                                                                                                                                                                                                                                                                                                                                                               </td><td> 2                                                                                                                                                                                                                                                                                                                                                              </td><td>Real Bed                                                                                                                                                                                                                                                                                                                                                        </td><td>TV,Wireless Internet,Air conditioning,Kitchen,Elevator in building,Hot tub,Heating,Family/kid friendly,Washer,Dryer,Essentials,Hair dryer,Iron                                                                                                                                                                                                                  </td><td> NA                                                                                                                                                                                                                                                                                                                                                             </td><td>155                                                                                                                                                                                                                                                                                                                                                             </td><td> NA                                                                                                                                                                                                                                                                                                                                                             </td><td>      NA                                                                                                                                                                                                                                                                                                                                                        </td></tr>\n",
       "\t<tr><td>28004                                                                                                                                                                                                                                                                                                                                                           </td><td>Universidad                                                                                                                                                                                                                                                                                                                                                     </td><td>Apartment                                                                                                                                                                                                                                                                                                                                                       </td><td>Entire home/apt                                                                                                                                                                                                                                                                                                                                                 </td><td>4                                                                                                                                                                                                                                                                                                                                                               </td><td>1                                                                                                                                                                                                                                                                                                                                                               </td><td>1                                                                                                                                                                                                                                                                                                                                                               </td><td> 2                                                                                                                                                                                                                                                                                                                                                              </td><td>Real Bed                                                                                                                                                                                                                                                                                                                                                        </td><td>TV,Wireless Internet,Air conditioning,Wheelchair accessible,Kitchen,Elevator in building,Buzzer/wireless intercom,Heating,Family/kid friendly,Washer,Essentials,Shampoo                                                                                                                                                                                         </td><td> 40                                                                                                                                                                                                                                                                                                                                                             </td><td> 70                                                                                                                                                                                                                                                                                                                                                             </td><td> 90                                                                                                                                                                                                                                                                                                                                                             </td><td> 3.71612                                                                                                                                                                                                                                                                                                                                                        </td></tr>\n",
       "\t<tr><td>28013                                                                                                                                                                                                                                                                                                                                                           </td><td>Sol                                                                                                                                                                                                                                                                                                                                                             </td><td>Apartment                                                                                                                                                                                                                                                                                                                                                       </td><td>Entire home/apt                                                                                                                                                                                                                                                                                                                                                 </td><td>4                                                                                                                                                                                                                                                                                                                                                               </td><td>1                                                                                                                                                                                                                                                                                                                                                               </td><td>1                                                                                                                                                                                                                                                                                                                                                               </td><td> 1                                                                                                                                                                                                                                                                                                                                                              </td><td>Real Bed                                                                                                                                                                                                                                                                                                                                                        </td><td>TV,Wireless Internet,Air conditioning,Kitchen,Doorman,Elevator in building,Buzzer/wireless intercom,Heating,Family/kid friendly,Suitable for events,Washer,Essentials,Hangers,Hair dryer,Iron                                                                                                                                                                   </td><td>646                                                                                                                                                                                                                                                                                                                                                             </td><td> 75                                                                                                                                                                                                                                                                                                                                                             </td><td> 91                                                                                                                                                                                                                                                                                                                                                             </td><td>60.01534                                                                                                                                                                                                                                                                                                                                                        </td></tr>\n",
       "</tbody>\n",
       "</table>\n"
      ],
      "text/latex": [
       "\\begin{tabular}{r|llllllllllllll}\n",
       " CodigoPostal & Barrio & TipoPropiedad & TipoAlquiler & MaxOcupantes & NumBanyos & NumDormitorios & NumCamas & TipoCama & Comodidades & PiesCuadrados & Precio & Puntuacion & MetrosCuadrados\\\\\n",
       "\\hline\n",
       "\t 28004                                                                                                                                                                                                                                                                                                                                                            & Universidad                                                                                                                                                                                                                                                                                                                                                      & Apartment                                                                                                                                                                                                                                                                                                                                                        & Entire home/apt                                                                                                                                                                                                                                                                                                                                                  & 6                                                                                                                                                                                                                                                                                                                                                                & 1                                                                                                                                                                                                                                                                                                                                                                & 3                                                                                                                                                                                                                                                                                                                                                                &  5                                                                                                                                                                                                                                                                                                                                                               & Real Bed                                                                                                                                                                                                                                                                                                                                                         & TV,Internet,Wireless Internet,Air conditioning,Kitchen,Indoor fireplace,Heating,Family/kid friendly,Washer,Dryer,Smoke detector,Carbon monoxide detector,Essentials,Shampoo                                                                                                                                                                                      &  NA                                                                                                                                                                                                                                                                                                                                                              &  92                                                                                                                                                                                                                                                                                                                                                              &  96                                                                                                                                                                                                                                                                                                                                                              &       NA                                                                                                                                                                                                                                                                                                                                                        \\\\\n",
       "\t 28004                                                                                                                                                                                                                                                                                                                                                            & Universidad                                                                                                                                                                                                                                                                                                                                                      & Apartment                                                                                                                                                                                                                                                                                                                                                        & Entire home/apt                                                                                                                                                                                                                                                                                                                                                  & 3                                                                                                                                                                                                                                                                                                                                                                & 1                                                                                                                                                                                                                                                                                                                                                                & 2                                                                                                                                                                                                                                                                                                                                                                &  2                                                                                                                                                                                                                                                                                                                                                               & Real Bed                                                                                                                                                                                                                                                                                                                                                         & TV,Internet,Wireless Internet,Air conditioning,Kitchen,Doorman,Heating,Family/kid friendly,Washer,Essentials,Shampoo,Hangers,Hair dryer,Iron,Laptop friendly workspace                                                                                                                                                                                           &  NA                                                                                                                                                                                                                                                                                                                                                              &  55                                                                                                                                                                                                                                                                                                                                                              &  91                                                                                                                                                                                                                                                                                                                                                              &       NA                                                                                                                                                                                                                                                                                                                                                        \\\\\n",
       "\t 28004                                                                                                                                                                                                                                                                                                                                                                    & Universidad                                                                                                                                                                                                                                                                                                                                                              & Loft                                                                                                                                                                                                                                                                                                                                                                     & Entire home/apt                                                                                                                                                                                                                                                                                                                                                          & 3                                                                                                                                                                                                                                                                                                                                                                        & 2                                                                                                                                                                                                                                                                                                                                                                        & 1                                                                                                                                                                                                                                                                                                                                                                        &  1                                                                                                                                                                                                                                                                                                                                                                       & Real Bed                                                                                                                                                                                                                                                                                                                                                                 & TV,Internet,Wireless Internet,Air conditioning,Kitchen,Pets allowed,Breakfast,Elevator in building,Indoor fireplace,Buzzer/wireless intercom,Heating,Washer,Essentials,Shampoo,Hangers,Hair dryer,Iron,Laptop friendly workspace,translation missing: en.hosting\\_amenity\\_49,translation missing: en.hosting\\_amenity\\_50                                           &  NA                                                                                                                                                                                                                                                                                                                                                                      &  60                                                                                                                                                                                                                                                                                                                                                                      & 100                                                                                                                                                                                                                                                                                                                                                                      &       NA                                                                                                                                                                                                                                                                                                                                                                \\\\\n",
       "\t 28015                                                                                                                                                                                                                                                                                                                                                            & Universidad                                                                                                                                                                                                                                                                                                                                                      & Apartment                                                                                                                                                                                                                                                                                                                                                        & Entire home/apt                                                                                                                                                                                                                                                                                                                                                  & 5                                                                                                                                                                                                                                                                                                                                                                & 1                                                                                                                                                                                                                                                                                                                                                                & 1                                                                                                                                                                                                                                                                                                                                                                &  1                                                                                                                                                                                                                                                                                                                                                               & Real Bed                                                                                                                                                                                                                                                                                                                                                         & TV,Wireless Internet,Air conditioning,Kitchen,Smoking allowed,Pets allowed,Elevator in building,Heating,Family/kid friendly,Washer,Essentials,Iron                                                                                                                                                                                                               & 538                                                                                                                                                                                                                                                                                                                                                              &  75                                                                                                                                                                                                                                                                                                                                                              &  90                                                                                                                                                                                                                                                                                                                                                              & 49.98181                                                                                                                                                                                                                                                                                                                                                        \\\\\n",
       "\t 28004                                                                                                                                                                                                                                                                                                                                                            & Universidad                                                                                                                                                                                                                                                                                                                                                      & Apartment                                                                                                                                                                                                                                                                                                                                                        & Entire home/apt                                                                                                                                                                                                                                                                                                                                                  & 2                                                                                                                                                                                                                                                                                                                                                                & 1                                                                                                                                                                                                                                                                                                                                                                & 0                                                                                                                                                                                                                                                                                                                                                                &  1                                                                                                                                                                                                                                                                                                                                                               & Real Bed                                                                                                                                                                                                                                                                                                                                                         & TV,Cable TV,Internet,Wireless Internet,Air conditioning,Wheelchair accessible,Kitchen,Doorman,Elevator in building,Buzzer/wireless intercom,Heating,Washer,Smoke detector,Carbon monoxide detector,First aid kit,Safety card,Fire extinguisher,Essentials,Shampoo,24-hour check-in,Hangers,Hair dryer,Iron,Laptop friendly workspace,Self Check-In,Doorman Entry &  NA                                                                                                                                                                                                                                                                                                                                                              &  55                                                                                                                                                                                                                                                                                                                                                              &  95                                                                                                                                                                                                                                                                                                                                                              &       NA                                                                                                                                                                                                                                                                                                                                                        \\\\\n",
       "\t 28004                                                                                                                                                                                                                                                                                                                                                            & Universidad                                                                                                                                                                                                                                                                                                                                                      & Apartment                                                                                                                                                                                                                                                                                                                                                        & Entire home/apt                                                                                                                                                                                                                                                                                                                                                  & 3                                                                                                                                                                                                                                                                                                                                                                & 1                                                                                                                                                                                                                                                                                                                                                                & 1                                                                                                                                                                                                                                                                                                                                                                & NA                                                                                                                                                                                                                                                                                                                                                               & Real Bed                                                                                                                                                                                                                                                                                                                                                         & TV,Wireless Internet,Air conditioning,Kitchen,Elevator in building,Buzzer/wireless intercom,Heating,Washer                                                                                                                                                                                                                                                       &  NA                                                                                                                                                                                                                                                                                                                                                              &  70                                                                                                                                                                                                                                                                                                                                                              &  84                                                                                                                                                                                                                                                                                                                                                              &       NA                                                                                                                                                                                                                                                                                                                                                        \\\\\n",
       "\t 28015                                                                                                                                                                                                                                                                                                                                                                & Universidad                                                                                                                                                                                                                                                                                                                                                          & Apartment                                                                                                                                                                                                                                                                                                                                                            & Entire home/apt                                                                                                                                                                                                                                                                                                                                                      & 2                                                                                                                                                                                                                                                                                                                                                                    & 1                                                                                                                                                                                                                                                                                                                                                                    & 1                                                                                                                                                                                                                                                                                                                                                                    &  1                                                                                                                                                                                                                                                                                                                                                                   & Real Bed                                                                                                                                                                                                                                                                                                                                                             & TV,Internet,Wireless Internet,Kitchen,Elevator in building,Buzzer/wireless intercom,Heating,Family/kid friendly,Washer,Dryer,Essentials,Shampoo,translation missing: en.hosting\\_amenity\\_49                                                                                                                                                                       & 700                                                                                                                                                                                                                                                                                                                                                                  &  90                                                                                                                                                                                                                                                                                                                                                                  &  98                                                                                                                                                                                                                                                                                                                                                                  & 65.03210                                                                                                                                                                                                                                                                                                                                                            \\\\\n",
       "\t 28004                                                                                                                                                                                                                                                                                                                                                            & Universidad                                                                                                                                                                                                                                                                                                                                                      & Apartment                                                                                                                                                                                                                                                                                                                                                        & Entire home/apt                                                                                                                                                                                                                                                                                                                                                  & 4                                                                                                                                                                                                                                                                                                                                                                & 2                                                                                                                                                                                                                                                                                                                                                                & 2                                                                                                                                                                                                                                                                                                                                                                &  2                                                                                                                                                                                                                                                                                                                                                               & Real Bed                                                                                                                                                                                                                                                                                                                                                         & TV,Wireless Internet,Air conditioning,Kitchen,Elevator in building,Hot tub,Heating,Family/kid friendly,Washer,Dryer,Essentials,Hair dryer,Iron                                                                                                                                                                                                                   &  NA                                                                                                                                                                                                                                                                                                                                                              & 155                                                                                                                                                                                                                                                                                                                                                              &  NA                                                                                                                                                                                                                                                                                                                                                              &       NA                                                                                                                                                                                                                                                                                                                                                        \\\\\n",
       "\t 28004                                                                                                                                                                                                                                                                                                                                                            & Universidad                                                                                                                                                                                                                                                                                                                                                      & Apartment                                                                                                                                                                                                                                                                                                                                                        & Entire home/apt                                                                                                                                                                                                                                                                                                                                                  & 4                                                                                                                                                                                                                                                                                                                                                                & 1                                                                                                                                                                                                                                                                                                                                                                & 1                                                                                                                                                                                                                                                                                                                                                                &  2                                                                                                                                                                                                                                                                                                                                                               & Real Bed                                                                                                                                                                                                                                                                                                                                                         & TV,Wireless Internet,Air conditioning,Wheelchair accessible,Kitchen,Elevator in building,Buzzer/wireless intercom,Heating,Family/kid friendly,Washer,Essentials,Shampoo                                                                                                                                                                                          &  40                                                                                                                                                                                                                                                                                                                                                              &  70                                                                                                                                                                                                                                                                                                                                                              &  90                                                                                                                                                                                                                                                                                                                                                              &  3.71612                                                                                                                                                                                                                                                                                                                                                        \\\\\n",
       "\t 28013                                                                                                                                                                                                                                                                                                                                                            & Sol                                                                                                                                                                                                                                                                                                                                                              & Apartment                                                                                                                                                                                                                                                                                                                                                        & Entire home/apt                                                                                                                                                                                                                                                                                                                                                  & 4                                                                                                                                                                                                                                                                                                                                                                & 1                                                                                                                                                                                                                                                                                                                                                                & 1                                                                                                                                                                                                                                                                                                                                                                &  1                                                                                                                                                                                                                                                                                                                                                               & Real Bed                                                                                                                                                                                                                                                                                                                                                         & TV,Wireless Internet,Air conditioning,Kitchen,Doorman,Elevator in building,Buzzer/wireless intercom,Heating,Family/kid friendly,Suitable for events,Washer,Essentials,Hangers,Hair dryer,Iron                                                                                                                                                                    & 646                                                                                                                                                                                                                                                                                                                                                              &  75                                                                                                                                                                                                                                                                                                                                                              &  91                                                                                                                                                                                                                                                                                                                                                              & 60.01534                                                                                                                                                                                                                                                                                                                                                        \\\\\n",
       "\\end{tabular}\n"
      ],
      "text/markdown": [
       "\n",
       "| CodigoPostal | Barrio | TipoPropiedad | TipoAlquiler | MaxOcupantes | NumBanyos | NumDormitorios | NumCamas | TipoCama | Comodidades | PiesCuadrados | Precio | Puntuacion | MetrosCuadrados |\n",
       "|---|---|---|---|---|---|---|---|---|---|---|---|---|---|\n",
       "| 28004                                                                                                                                                                                                                                                                                                                                                            | Universidad                                                                                                                                                                                                                                                                                                                                                      | Apartment                                                                                                                                                                                                                                                                                                                                                        | Entire home/apt                                                                                                                                                                                                                                                                                                                                                  | 6                                                                                                                                                                                                                                                                                                                                                                | 1                                                                                                                                                                                                                                                                                                                                                                | 3                                                                                                                                                                                                                                                                                                                                                                |  5                                                                                                                                                                                                                                                                                                                                                               | Real Bed                                                                                                                                                                                                                                                                                                                                                         | TV,Internet,Wireless Internet,Air conditioning,Kitchen,Indoor fireplace,Heating,Family/kid friendly,Washer,Dryer,Smoke detector,Carbon monoxide detector,Essentials,Shampoo                                                                                                                                                                                      |  NA                                                                                                                                                                                                                                                                                                                                                              |  92                                                                                                                                                                                                                                                                                                                                                              |  96                                                                                                                                                                                                                                                                                                                                                              |       NA                                                                                                                                                                                                                                                                                                                                                         |\n",
       "| 28004                                                                                                                                                                                                                                                                                                                                                            | Universidad                                                                                                                                                                                                                                                                                                                                                      | Apartment                                                                                                                                                                                                                                                                                                                                                        | Entire home/apt                                                                                                                                                                                                                                                                                                                                                  | 3                                                                                                                                                                                                                                                                                                                                                                | 1                                                                                                                                                                                                                                                                                                                                                                | 2                                                                                                                                                                                                                                                                                                                                                                |  2                                                                                                                                                                                                                                                                                                                                                               | Real Bed                                                                                                                                                                                                                                                                                                                                                         | TV,Internet,Wireless Internet,Air conditioning,Kitchen,Doorman,Heating,Family/kid friendly,Washer,Essentials,Shampoo,Hangers,Hair dryer,Iron,Laptop friendly workspace                                                                                                                                                                                           |  NA                                                                                                                                                                                                                                                                                                                                                              |  55                                                                                                                                                                                                                                                                                                                                                              |  91                                                                                                                                                                                                                                                                                                                                                              |       NA                                                                                                                                                                                                                                                                                                                                                         |\n",
       "| 28004                                                                                                                                                                                                                                                                                                                                                            | Universidad                                                                                                                                                                                                                                                                                                                                                      | Loft                                                                                                                                                                                                                                                                                                                                                             | Entire home/apt                                                                                                                                                                                                                                                                                                                                                  | 3                                                                                                                                                                                                                                                                                                                                                                | 2                                                                                                                                                                                                                                                                                                                                                                | 1                                                                                                                                                                                                                                                                                                                                                                |  1                                                                                                                                                                                                                                                                                                                                                               | Real Bed                                                                                                                                                                                                                                                                                                                                                         | TV,Internet,Wireless Internet,Air conditioning,Kitchen,Pets allowed,Breakfast,Elevator in building,Indoor fireplace,Buzzer/wireless intercom,Heating,Washer,Essentials,Shampoo,Hangers,Hair dryer,Iron,Laptop friendly workspace,translation missing: en.hosting_amenity_49,translation missing: en.hosting_amenity_50                                           |  NA                                                                                                                                                                                                                                                                                                                                                              |  60                                                                                                                                                                                                                                                                                                                                                              | 100                                                                                                                                                                                                                                                                                                                                                              |       NA                                                                                                                                                                                                                                                                                                                                                         |\n",
       "| 28015                                                                                                                                                                                                                                                                                                                                                            | Universidad                                                                                                                                                                                                                                                                                                                                                      | Apartment                                                                                                                                                                                                                                                                                                                                                        | Entire home/apt                                                                                                                                                                                                                                                                                                                                                  | 5                                                                                                                                                                                                                                                                                                                                                                | 1                                                                                                                                                                                                                                                                                                                                                                | 1                                                                                                                                                                                                                                                                                                                                                                |  1                                                                                                                                                                                                                                                                                                                                                               | Real Bed                                                                                                                                                                                                                                                                                                                                                         | TV,Wireless Internet,Air conditioning,Kitchen,Smoking allowed,Pets allowed,Elevator in building,Heating,Family/kid friendly,Washer,Essentials,Iron                                                                                                                                                                                                               | 538                                                                                                                                                                                                                                                                                                                                                              |  75                                                                                                                                                                                                                                                                                                                                                              |  90                                                                                                                                                                                                                                                                                                                                                              | 49.98181                                                                                                                                                                                                                                                                                                                                                         |\n",
       "| 28004                                                                                                                                                                                                                                                                                                                                                            | Universidad                                                                                                                                                                                                                                                                                                                                                      | Apartment                                                                                                                                                                                                                                                                                                                                                        | Entire home/apt                                                                                                                                                                                                                                                                                                                                                  | 2                                                                                                                                                                                                                                                                                                                                                                | 1                                                                                                                                                                                                                                                                                                                                                                | 0                                                                                                                                                                                                                                                                                                                                                                |  1                                                                                                                                                                                                                                                                                                                                                               | Real Bed                                                                                                                                                                                                                                                                                                                                                         | TV,Cable TV,Internet,Wireless Internet,Air conditioning,Wheelchair accessible,Kitchen,Doorman,Elevator in building,Buzzer/wireless intercom,Heating,Washer,Smoke detector,Carbon monoxide detector,First aid kit,Safety card,Fire extinguisher,Essentials,Shampoo,24-hour check-in,Hangers,Hair dryer,Iron,Laptop friendly workspace,Self Check-In,Doorman Entry |  NA                                                                                                                                                                                                                                                                                                                                                              |  55                                                                                                                                                                                                                                                                                                                                                              |  95                                                                                                                                                                                                                                                                                                                                                              |       NA                                                                                                                                                                                                                                                                                                                                                         |\n",
       "| 28004                                                                                                                                                                                                                                                                                                                                                            | Universidad                                                                                                                                                                                                                                                                                                                                                      | Apartment                                                                                                                                                                                                                                                                                                                                                        | Entire home/apt                                                                                                                                                                                                                                                                                                                                                  | 3                                                                                                                                                                                                                                                                                                                                                                | 1                                                                                                                                                                                                                                                                                                                                                                | 1                                                                                                                                                                                                                                                                                                                                                                | NA                                                                                                                                                                                                                                                                                                                                                               | Real Bed                                                                                                                                                                                                                                                                                                                                                         | TV,Wireless Internet,Air conditioning,Kitchen,Elevator in building,Buzzer/wireless intercom,Heating,Washer                                                                                                                                                                                                                                                       |  NA                                                                                                                                                                                                                                                                                                                                                              |  70                                                                                                                                                                                                                                                                                                                                                              |  84                                                                                                                                                                                                                                                                                                                                                              |       NA                                                                                                                                                                                                                                                                                                                                                         |\n",
       "| 28015                                                                                                                                                                                                                                                                                                                                                            | Universidad                                                                                                                                                                                                                                                                                                                                                      | Apartment                                                                                                                                                                                                                                                                                                                                                        | Entire home/apt                                                                                                                                                                                                                                                                                                                                                  | 2                                                                                                                                                                                                                                                                                                                                                                | 1                                                                                                                                                                                                                                                                                                                                                                | 1                                                                                                                                                                                                                                                                                                                                                                |  1                                                                                                                                                                                                                                                                                                                                                               | Real Bed                                                                                                                                                                                                                                                                                                                                                         | TV,Internet,Wireless Internet,Kitchen,Elevator in building,Buzzer/wireless intercom,Heating,Family/kid friendly,Washer,Dryer,Essentials,Shampoo,translation missing: en.hosting_amenity_49                                                                                                                                                                       | 700                                                                                                                                                                                                                                                                                                                                                              |  90                                                                                                                                                                                                                                                                                                                                                              |  98                                                                                                                                                                                                                                                                                                                                                              | 65.03210                                                                                                                                                                                                                                                                                                                                                         |\n",
       "| 28004                                                                                                                                                                                                                                                                                                                                                            | Universidad                                                                                                                                                                                                                                                                                                                                                      | Apartment                                                                                                                                                                                                                                                                                                                                                        | Entire home/apt                                                                                                                                                                                                                                                                                                                                                  | 4                                                                                                                                                                                                                                                                                                                                                                | 2                                                                                                                                                                                                                                                                                                                                                                | 2                                                                                                                                                                                                                                                                                                                                                                |  2                                                                                                                                                                                                                                                                                                                                                               | Real Bed                                                                                                                                                                                                                                                                                                                                                         | TV,Wireless Internet,Air conditioning,Kitchen,Elevator in building,Hot tub,Heating,Family/kid friendly,Washer,Dryer,Essentials,Hair dryer,Iron                                                                                                                                                                                                                   |  NA                                                                                                                                                                                                                                                                                                                                                              | 155                                                                                                                                                                                                                                                                                                                                                              |  NA                                                                                                                                                                                                                                                                                                                                                              |       NA                                                                                                                                                                                                                                                                                                                                                         |\n",
       "| 28004                                                                                                                                                                                                                                                                                                                                                            | Universidad                                                                                                                                                                                                                                                                                                                                                      | Apartment                                                                                                                                                                                                                                                                                                                                                        | Entire home/apt                                                                                                                                                                                                                                                                                                                                                  | 4                                                                                                                                                                                                                                                                                                                                                                | 1                                                                                                                                                                                                                                                                                                                                                                | 1                                                                                                                                                                                                                                                                                                                                                                |  2                                                                                                                                                                                                                                                                                                                                                               | Real Bed                                                                                                                                                                                                                                                                                                                                                         | TV,Wireless Internet,Air conditioning,Wheelchair accessible,Kitchen,Elevator in building,Buzzer/wireless intercom,Heating,Family/kid friendly,Washer,Essentials,Shampoo                                                                                                                                                                                          |  40                                                                                                                                                                                                                                                                                                                                                              |  70                                                                                                                                                                                                                                                                                                                                                              |  90                                                                                                                                                                                                                                                                                                                                                              |  3.71612                                                                                                                                                                                                                                                                                                                                                         |\n",
       "| 28013                                                                                                                                                                                                                                                                                                                                                            | Sol                                                                                                                                                                                                                                                                                                                                                              | Apartment                                                                                                                                                                                                                                                                                                                                                        | Entire home/apt                                                                                                                                                                                                                                                                                                                                                  | 4                                                                                                                                                                                                                                                                                                                                                                | 1                                                                                                                                                                                                                                                                                                                                                                | 1                                                                                                                                                                                                                                                                                                                                                                |  1                                                                                                                                                                                                                                                                                                                                                               | Real Bed                                                                                                                                                                                                                                                                                                                                                         | TV,Wireless Internet,Air conditioning,Kitchen,Doorman,Elevator in building,Buzzer/wireless intercom,Heating,Family/kid friendly,Suitable for events,Washer,Essentials,Hangers,Hair dryer,Iron                                                                                                                                                                    | 646                                                                                                                                                                                                                                                                                                                                                              |  75                                                                                                                                                                                                                                                                                                                                                              |  91                                                                                                                                                                                                                                                                                                                                                              | 60.01534                                                                                                                                                                                                                                                                                                                                                         |\n",
       "\n"
      ],
      "text/plain": [
       "   CodigoPostal Barrio      TipoPropiedad TipoAlquiler    MaxOcupantes\n",
       "1  28004        Universidad Apartment     Entire home/apt 6           \n",
       "2  28004        Universidad Apartment     Entire home/apt 3           \n",
       "3  28004        Universidad Loft          Entire home/apt 3           \n",
       "4  28015        Universidad Apartment     Entire home/apt 5           \n",
       "5  28004        Universidad Apartment     Entire home/apt 2           \n",
       "6  28004        Universidad Apartment     Entire home/apt 3           \n",
       "7  28015        Universidad Apartment     Entire home/apt 2           \n",
       "8  28004        Universidad Apartment     Entire home/apt 4           \n",
       "9  28004        Universidad Apartment     Entire home/apt 4           \n",
       "10 28013        Sol         Apartment     Entire home/apt 4           \n",
       "   NumBanyos NumDormitorios NumCamas TipoCama\n",
       "1  1         3               5       Real Bed\n",
       "2  1         2               2       Real Bed\n",
       "3  2         1               1       Real Bed\n",
       "4  1         1               1       Real Bed\n",
       "5  1         0               1       Real Bed\n",
       "6  1         1              NA       Real Bed\n",
       "7  1         1               1       Real Bed\n",
       "8  2         2               2       Real Bed\n",
       "9  1         1               2       Real Bed\n",
       "10 1         1               1       Real Bed\n",
       "   Comodidades                                                                                                                                                                                                                                                                                                                                                     \n",
       "1  TV,Internet,Wireless Internet,Air conditioning,Kitchen,Indoor fireplace,Heating,Family/kid friendly,Washer,Dryer,Smoke detector,Carbon monoxide detector,Essentials,Shampoo                                                                                                                                                                                     \n",
       "2  TV,Internet,Wireless Internet,Air conditioning,Kitchen,Doorman,Heating,Family/kid friendly,Washer,Essentials,Shampoo,Hangers,Hair dryer,Iron,Laptop friendly workspace                                                                                                                                                                                          \n",
       "3  TV,Internet,Wireless Internet,Air conditioning,Kitchen,Pets allowed,Breakfast,Elevator in building,Indoor fireplace,Buzzer/wireless intercom,Heating,Washer,Essentials,Shampoo,Hangers,Hair dryer,Iron,Laptop friendly workspace,translation missing: en.hosting_amenity_49,translation missing: en.hosting_amenity_50                                          \n",
       "4  TV,Wireless Internet,Air conditioning,Kitchen,Smoking allowed,Pets allowed,Elevator in building,Heating,Family/kid friendly,Washer,Essentials,Iron                                                                                                                                                                                                              \n",
       "5  TV,Cable TV,Internet,Wireless Internet,Air conditioning,Wheelchair accessible,Kitchen,Doorman,Elevator in building,Buzzer/wireless intercom,Heating,Washer,Smoke detector,Carbon monoxide detector,First aid kit,Safety card,Fire extinguisher,Essentials,Shampoo,24-hour check-in,Hangers,Hair dryer,Iron,Laptop friendly workspace,Self Check-In,Doorman Entry\n",
       "6  TV,Wireless Internet,Air conditioning,Kitchen,Elevator in building,Buzzer/wireless intercom,Heating,Washer                                                                                                                                                                                                                                                      \n",
       "7  TV,Internet,Wireless Internet,Kitchen,Elevator in building,Buzzer/wireless intercom,Heating,Family/kid friendly,Washer,Dryer,Essentials,Shampoo,translation missing: en.hosting_amenity_49                                                                                                                                                                      \n",
       "8  TV,Wireless Internet,Air conditioning,Kitchen,Elevator in building,Hot tub,Heating,Family/kid friendly,Washer,Dryer,Essentials,Hair dryer,Iron                                                                                                                                                                                                                  \n",
       "9  TV,Wireless Internet,Air conditioning,Wheelchair accessible,Kitchen,Elevator in building,Buzzer/wireless intercom,Heating,Family/kid friendly,Washer,Essentials,Shampoo                                                                                                                                                                                         \n",
       "10 TV,Wireless Internet,Air conditioning,Kitchen,Doorman,Elevator in building,Buzzer/wireless intercom,Heating,Family/kid friendly,Suitable for events,Washer,Essentials,Hangers,Hair dryer,Iron                                                                                                                                                                   \n",
       "   PiesCuadrados Precio Puntuacion MetrosCuadrados\n",
       "1   NA            92     96              NA       \n",
       "2   NA            55     91              NA       \n",
       "3   NA            60    100              NA       \n",
       "4  538            75     90        49.98181       \n",
       "5   NA            55     95              NA       \n",
       "6   NA            70     84              NA       \n",
       "7  700            90     98        65.03210       \n",
       "8   NA           155     NA              NA       \n",
       "9   40            70     90         3.71612       \n",
       "10 646            75     91        60.01534       "
      ]
     },
     "metadata": {},
     "output_type": "display_data"
    },
    {
     "data": {
      "text/html": [
       "'list'"
      ],
      "text/latex": [
       "'list'"
      ],
      "text/markdown": [
       "'list'"
      ],
      "text/plain": [
       "[1] \"list\""
      ]
     },
     "metadata": {},
     "output_type": "display_data"
    }
   ],
   "source": [
    "library(tidyverse)\n",
    "airbnb_entire = airbnb %>% filter(airbnb$TipoAlquiler==\"Entire home/apt\")\n",
    "head(airbnb_entire, n = 10)"
   ]
  },
  {
   "cell_type": "markdown",
   "metadata": {},
   "source": [
    "¿Cuales son los 5 barrios que tienen un mayor número de apartamentos enteros en alquiler?\n",
    "Nota: Mirar solo en airbnb_entire. A partir de este punto y hasta que se diga lo contrario partiremos de airbnb_entire."
   ]
  },
  {
   "cell_type": "code",
   "execution_count": 19,
   "metadata": {},
   "outputs": [
    {
     "data": {
      "text/plain": [
       "\n",
       "     Cortes         Sol     Palacio Universidad Embajadores \n",
       "        574         701         769         984        1228 "
      ]
     },
     "metadata": {},
     "output_type": "display_data"
    }
   ],
   "source": [
    "tail(sort(table(airbnb_entire$Barrio)), 5)"
   ]
  },
  {
   "cell_type": "markdown",
   "metadata": {},
   "source": [
    "¿Cuales son los 5 barrios que tienen un mayor precio medio de alquiler para apartamentos enteros (es decir, del dataframe airbnb_entire)?\n",
    "\n",
    "¿Cual es su precio medio?\n",
    "\n",
    "Ayuda: Usa la función aggregate `aggregate(.~colname,df,mean,na.rm=TRUE)`"
   ]
  },
  {
   "cell_type": "code",
   "execution_count": 20,
   "metadata": {},
   "outputs": [
    {
     "name": "stderr",
     "output_type": "stream",
     "text": [
      "Warning message:\n",
      "\"package 'rlist' was built under R version 3.6.3\""
     ]
    },
    {
     "data": {
      "text/html": [
       "<table>\n",
       "<thead><tr><th></th><th scope=col>Barrio</th><th scope=col>Media</th></tr></thead>\n",
       "<tbody>\n",
       "\t<tr><th scope=row>77</th><td>Palomas      </td><td>309.7500     </td></tr>\n",
       "\t<tr><th scope=row>50</th><td>Fuentelareina</td><td>180.0000     </td></tr>\n",
       "\t<tr><th scope=row>93</th><td>Recoletos    </td><td>161.9254     </td></tr>\n",
       "\t<tr><th scope=row>43</th><td>El PlantÃ­o  </td><td>150.0000     </td></tr>\n",
       "\t<tr><th scope=row>30</th><td>Castellana   </td><td>141.3889     </td></tr>\n",
       "</tbody>\n",
       "</table>\n"
      ],
      "text/latex": [
       "\\begin{tabular}{r|ll}\n",
       "  & Barrio & Media\\\\\n",
       "\\hline\n",
       "\t77 & Palomas       & 309.7500     \\\\\n",
       "\t50 & Fuentelareina & 180.0000     \\\\\n",
       "\t93 & Recoletos     & 161.9254     \\\\\n",
       "\t43 & El PlantÃ­o   & 150.0000     \\\\\n",
       "\t30 & Castellana    & 141.3889     \\\\\n",
       "\\end{tabular}\n"
      ],
      "text/markdown": [
       "\n",
       "| <!--/--> | Barrio | Media |\n",
       "|---|---|---|\n",
       "| 77 | Palomas       | 309.7500      |\n",
       "| 50 | Fuentelareina | 180.0000      |\n",
       "| 93 | Recoletos     | 161.9254      |\n",
       "| 43 | El PlantÃ­o   | 150.0000      |\n",
       "| 30 | Castellana    | 141.3889      |\n",
       "\n"
      ],
      "text/plain": [
       "   Barrio        Media   \n",
       "77 Palomas       309.7500\n",
       "50 Fuentelareina 180.0000\n",
       "93 Recoletos     161.9254\n",
       "43 El PlantÃ­o   150.0000\n",
       "30 Castellana    141.3889"
      ]
     },
     "metadata": {},
     "output_type": "display_data"
    }
   ],
   "source": [
    "#tail(sort(table(airbnb_entire$Barrio)), 5)\n",
    "\n",
    "library(rlist)\n",
    "\n",
    "new = aggregate((airbnb_entire$Precio),list(airbnb_entire$Barrio),(mean),na.rm=TRUE)\n",
    "new = new[order(new$x,decreasing=TRUE),c(1,2)]\n",
    "colnames(new) <- c(\"Barrio\", \"Media\")\n",
    "head(new,n=5)"
   ]
  },
  {
   "cell_type": "markdown",
   "metadata": {},
   "source": [
    "¿Cuantos apartamentos hay en cada uno de esos barrios?\n",
    "\n",
    "Mostrar una dataframe con el nombre del barrio, el precio y el número de entradas.\n",
    "\n",
    "Ayuda: Podeis crear un nuevo dataframe con las columnas \"Barrio\" y \"Freq\" que contenga el número de entradas en cada barrio y hacer un merge con el dataframe del punto anterior."
   ]
  },
  {
   "cell_type": "code",
   "execution_count": 21,
   "metadata": {},
   "outputs": [
    {
     "data": {
      "text/html": [
       "<table>\n",
       "<thead><tr><th></th><th scope=col>Barrio</th><th scope=col>Media</th><th scope=col>Freq</th></tr></thead>\n",
       "<tbody>\n",
       "\t<tr><th scope=row>77</th><td>Palomas      </td><td>309.7500     </td><td>  4          </td></tr>\n",
       "\t<tr><th scope=row>50</th><td>Fuentelareina</td><td>180.0000     </td><td>  2          </td></tr>\n",
       "\t<tr><th scope=row>93</th><td>Recoletos    </td><td>161.9254     </td><td>135          </td></tr>\n",
       "\t<tr><th scope=row>43</th><td>El PlantÃ­o  </td><td>150.0000     </td><td>  1          </td></tr>\n",
       "\t<tr><th scope=row>30</th><td>Castellana   </td><td>141.3889     </td><td> 73          </td></tr>\n",
       "</tbody>\n",
       "</table>\n"
      ],
      "text/latex": [
       "\\begin{tabular}{r|lll}\n",
       "  & Barrio & Media & Freq\\\\\n",
       "\\hline\n",
       "\t77 & Palomas       & 309.7500      &   4          \\\\\n",
       "\t50 & Fuentelareina & 180.0000      &   2          \\\\\n",
       "\t93 & Recoletos     & 161.9254      & 135          \\\\\n",
       "\t43 & El PlantÃ­o   & 150.0000      &   1          \\\\\n",
       "\t30 & Castellana    & 141.3889      &  73          \\\\\n",
       "\\end{tabular}\n"
      ],
      "text/markdown": [
       "\n",
       "| <!--/--> | Barrio | Media | Freq |\n",
       "|---|---|---|---|\n",
       "| 77 | Palomas       | 309.7500      |   4           |\n",
       "| 50 | Fuentelareina | 180.0000      |   2           |\n",
       "| 93 | Recoletos     | 161.9254      | 135           |\n",
       "| 43 | El PlantÃ­o   | 150.0000      |   1           |\n",
       "| 30 | Castellana    | 141.3889      |  73           |\n",
       "\n"
      ],
      "text/plain": [
       "   Barrio        Media    Freq\n",
       "77 Palomas       309.7500   4 \n",
       "50 Fuentelareina 180.0000   2 \n",
       "93 Recoletos     161.9254 135 \n",
       "43 El PlantÃ­o   150.0000   1 \n",
       "30 Castellana    141.3889  73 "
      ]
     },
     "metadata": {},
     "output_type": "display_data"
    }
   ],
   "source": [
    "df_2 = as.data.frame(table(airbnb_entire$Barrio))\n",
    "colnames(df_2) <- c(\"Barrio\", \"Freq\")\n",
    "df_merge = merge(new, df_2)\n",
    "head(df_merge[order(df_merge$Media,decreasing=TRUE),c(1,2,3)], n=5)"
   ]
  },
  {
   "cell_type": "markdown",
   "metadata": {},
   "source": [
    "Partiendo del dataframe anterior, muestra los 5 barrios con mayor precio, pero que tengan más de 100 entradas de alquiler."
   ]
  },
  {
   "cell_type": "code",
   "execution_count": 22,
   "metadata": {},
   "outputs": [
    {
     "data": {
      "text/html": [
       "<table>\n",
       "<thead><tr><th></th><th scope=col>Barrio</th><th scope=col>Media</th><th scope=col>Freq</th></tr></thead>\n",
       "<tbody>\n",
       "\t<tr><th scope=row>93</th><td>Recoletos</td><td>161.92537</td><td>135      </td></tr>\n",
       "\t<tr><th scope=row>52</th><td>Goya     </td><td>111.33803</td><td>142      </td></tr>\n",
       "\t<tr><th scope=row>106</th><td>Sol      </td><td>100.75036</td><td>701      </td></tr>\n",
       "\t<tr><th scope=row>108</th><td>Trafalgar</td><td> 98.57848</td><td>223      </td></tr>\n",
       "\t<tr><th scope=row>59</th><td>Justicia </td><td> 98.25468</td><td>534      </td></tr>\n",
       "</tbody>\n",
       "</table>\n"
      ],
      "text/latex": [
       "\\begin{tabular}{r|lll}\n",
       "  & Barrio & Media & Freq\\\\\n",
       "\\hline\n",
       "\t93 & Recoletos & 161.92537 & 135      \\\\\n",
       "\t52 & Goya      & 111.33803 & 142      \\\\\n",
       "\t106 & Sol       & 100.75036 & 701      \\\\\n",
       "\t108 & Trafalgar &  98.57848 & 223      \\\\\n",
       "\t59 & Justicia  &  98.25468 & 534      \\\\\n",
       "\\end{tabular}\n"
      ],
      "text/markdown": [
       "\n",
       "| <!--/--> | Barrio | Media | Freq |\n",
       "|---|---|---|---|\n",
       "| 93 | Recoletos | 161.92537 | 135       |\n",
       "| 52 | Goya      | 111.33803 | 142       |\n",
       "| 106 | Sol       | 100.75036 | 701       |\n",
       "| 108 | Trafalgar |  98.57848 | 223       |\n",
       "| 59 | Justicia  |  98.25468 | 534       |\n",
       "\n"
      ],
      "text/plain": [
       "    Barrio    Media     Freq\n",
       "93  Recoletos 161.92537 135 \n",
       "52  Goya      111.33803 142 \n",
       "106 Sol       100.75036 701 \n",
       "108 Trafalgar  98.57848 223 \n",
       "59  Justicia   98.25468 534 "
      ]
     },
     "metadata": {},
     "output_type": "display_data"
    }
   ],
   "source": [
    "df_3 = df_merge[df_merge[,\"Freq\"] > 100,]\n",
    "head(df_3[order(df_3$Media,decreasing=TRUE),c(1,2,3)], n=5)"
   ]
  },
  {
   "cell_type": "markdown",
   "metadata": {},
   "source": [
    "Dibuja el diagrama de densidad de distribución de los diferentes precios. Serían 5 gráficas, una por cada barrio."
   ]
  },
  {
   "cell_type": "code",
   "execution_count": 47,
   "metadata": {},
   "outputs": [
    {
     "name": "stderr",
     "output_type": "stream",
     "text": [
      "Warning message:\n",
      "\"Removed 15 rows containing non-finite values (stat_bin).\"Warning message:\n",
      "\"Removed 2 rows containing missing values (geom_bar).\"Warning message:\n",
      "\"Removed 3 rows containing non-finite values (stat_bin).\"Warning message:\n",
      "\"Removed 2 rows containing missing values (geom_bar).\""
     ]
    },
    {
     "data": {
      "image/png": "[encoded data removed]",
      "text/plain": [
       "plot without title"
      ]
     },
     "metadata": {},
     "output_type": "display_data"
    },
    {
     "name": "stderr",
     "output_type": "stream",
     "text": [
      "Warning message:\n",
      "\"Removed 6 rows containing non-finite values (stat_bin).\"Warning message:\n",
      "\"Removed 2 rows containing missing values (geom_bar).\""
     ]
    },
    {
     "data": {
      "image/png": "[encoded data removed]",
      "text/plain": [
       "plot without title"
      ]
     },
     "metadata": {},
     "output_type": "display_data"
    },
    {
     "name": "stderr",
     "output_type": "stream",
     "text": [
      "Warning message:\n",
      "\"Removed 11 rows containing non-finite values (stat_bin).\"Warning message:\n",
      "\"Removed 2 rows containing missing values (geom_bar).\""
     ]
    },
    {
     "data": {
      "image/png": "[encoded data removed]",
      "text/plain": [
       "plot without title"
      ]
     },
     "metadata": {},
     "output_type": "display_data"
    },
    {
     "name": "stderr",
     "output_type": "stream",
     "text": [
      "Warning message:\n",
      "\"Removed 9 rows containing non-finite values (stat_bin).\"Warning message:\n",
      "\"Removed 2 rows containing missing values (geom_bar).\""
     ]
    },
    {
     "data": {
      "image/png": "[encoded data removed]",
      "text/plain": [
       "plot without title"
      ]
     },
     "metadata": {},
     "output_type": "display_data"
    },
    {
     "data": {
      "image/png": "[encoded data removed]",
      "text/plain": [
       "plot without title"
      ]
     },
     "metadata": {},
     "output_type": "display_data"
    }
   ],
   "source": [
    "df_precio_recoletos = airbnb_entire[airbnb_entire[,\"Barrio\"] == \"Recoletos\",]\n",
    "ggplot(data=data.frame(df_precio_recoletos$Precio), aes(x=df_precio_recoletos$Precio))+\n",
    " geom_histogram(bins=15,fill=\"#7070BB\",color=\"#010101\")+ \n",
    "  scale_x_continuous(breaks = seq(0,300,20), lim=c(0,300))\n",
    "\n",
    "df_precio_goya = airbnb_entire[airbnb_entire[,\"Barrio\"] == \"Goya\",]\n",
    "ggplot(data=data.frame(df_precio_goya$Precio), aes(x=df_precio_goya$Precio))+\n",
    " geom_histogram(bins=20,fill=\"#7070BB\",color=\"#010101\")+ \n",
    "  scale_x_continuous(breaks = seq(0,300,20), lim=c(0,300))\n",
    "\n",
    "df_precio_sol = airbnb_entire[airbnb_entire[,\"Barrio\"] == \"Sol\",]\n",
    "ggplot(data=data.frame(df_precio_sol$Precio), aes(x=df_precio_sol$Precio))+\n",
    "geom_histogram(bins=20,fill=\"#7070BB\",color=\"#010101\")+ \n",
    "scale_x_continuous(breaks = seq(0,300,20), lim=c(0,300))\n",
    "\n",
    "df_precio_justicia = airbnb_entire[airbnb_entire[,\"Barrio\"] == \"Justicia\",]\n",
    "ggplot(data=data.frame(df_precio_justicia$Precio), aes(x=df_precio_justicia$Precio))+\n",
    "geom_histogram(bins=20,fill=\"#7070BB\",color=\"#010101\")+ \n",
    "scale_x_continuous(breaks = seq(0,300,20), lim=c(0,300))\n",
    "\n",
    "df_precio_palacio = airbnb_entire[airbnb_entire[,\"Barrio\"] == \"Palacio\",]\n",
    "ggplot(data=data.frame(df_precio_palacio$Precio), aes(x=df_precio_palacio$Precio))+\n",
    "geom_histogram(bins=20,fill=\"#7070BB\",color=\"#010101\")+ \n",
    "scale_x_continuous(breaks = seq(0,300,20), lim=c(0,300))"
   ]
  },
  {
   "cell_type": "markdown",
   "metadata": {},
   "source": [
    "Calcula el tamaño medio, en metros cuadrados, para los 5 barrios anteriores y muestralo en el mismo dataframe junto con el precio y número de entradas"
   ]
  },
  {
   "cell_type": "code",
   "execution_count": 24,
   "metadata": {},
   "outputs": [
    {
     "data": {
      "text/html": [
       "<table>\n",
       "<thead><tr><th></th><th scope=col>Barrio</th><th scope=col>Metros Cuadrados</th><th scope=col>Media</th></tr></thead>\n",
       "<tbody>\n",
       "\t<tr><th scope=row>93</th><td>Recoletos</td><td>26.66316 </td><td>161.92537</td></tr>\n",
       "\t<tr><th scope=row>52</th><td>Goya     </td><td>51.68504 </td><td>111.33803</td></tr>\n",
       "\t<tr><th scope=row>106</th><td>Sol      </td><td>45.61692 </td><td>100.75036</td></tr>\n",
       "\t<tr><th scope=row>108</th><td>Trafalgar</td><td>29.30426 </td><td> 98.57848</td></tr>\n",
       "\t<tr><th scope=row>59</th><td>Justicia </td><td>28.52669 </td><td> 98.25468</td></tr>\n",
       "</tbody>\n",
       "</table>\n"
      ],
      "text/latex": [
       "\\begin{tabular}{r|lll}\n",
       "  & Barrio & Metros Cuadrados & Media\\\\\n",
       "\\hline\n",
       "\t93 & Recoletos & 26.66316  & 161.92537\\\\\n",
       "\t52 & Goya      & 51.68504  & 111.33803\\\\\n",
       "\t106 & Sol       & 45.61692  & 100.75036\\\\\n",
       "\t108 & Trafalgar & 29.30426  &  98.57848\\\\\n",
       "\t59 & Justicia  & 28.52669  &  98.25468\\\\\n",
       "\\end{tabular}\n"
      ],
      "text/markdown": [
       "\n",
       "| <!--/--> | Barrio | Metros Cuadrados | Media |\n",
       "|---|---|---|---|\n",
       "| 93 | Recoletos | 26.66316  | 161.92537 |\n",
       "| 52 | Goya      | 51.68504  | 111.33803 |\n",
       "| 106 | Sol       | 45.61692  | 100.75036 |\n",
       "| 108 | Trafalgar | 29.30426  |  98.57848 |\n",
       "| 59 | Justicia  | 28.52669  |  98.25468 |\n",
       "\n"
      ],
      "text/plain": [
       "    Barrio    Metros Cuadrados Media    \n",
       "93  Recoletos 26.66316         161.92537\n",
       "52  Goya      51.68504         111.33803\n",
       "106 Sol       45.61692         100.75036\n",
       "108 Trafalgar 29.30426          98.57848\n",
       "59  Justicia  28.52669          98.25468"
      ]
     },
     "metadata": {},
     "output_type": "display_data"
    }
   ],
   "source": [
    "df_4 = aggregate((airbnb_entire$MetrosCuadrados),list(airbnb_entire$Barrio),(mean),na.rm=TRUE)\n",
    "colnames(df_4) <- c(\"Barrio\", \"Metros Cuadrados\")\n",
    "df_5 = merge(df_4,df_merge)\n",
    "df_6 = df_5[df_5[,\"Freq\"] > 100,]\n",
    "head(df_6[order(df_6$Media,decreasing=TRUE),c(1,2,3)], n=5)"
   ]
  },
  {
   "cell_type": "markdown",
   "metadata": {},
   "source": [
    "Dibuja el diagrama de densidad de distribución de los diferentes tamaños de apartamentos. Serían 5 gráficas, una por cada barrio."
   ]
  },
  {
   "cell_type": "code",
   "execution_count": 25,
   "metadata": {
    "scrolled": false
   },
   "outputs": [
    {
     "name": "stderr",
     "output_type": "stream",
     "text": [
      "Warning message:\n",
      "\"Removed 132 rows containing non-finite values (stat_bin).\"Warning message:\n",
      "\"Removed 2 rows containing missing values (geom_bar).\"Warning message:\n",
      "\"Removed 139 rows containing non-finite values (stat_bin).\"Warning message:\n",
      "\"Removed 2 rows containing missing values (geom_bar).\""
     ]
    },
    {
     "data": {
      "image/png": "[encoded data removed]",
      "text/plain": [
       "plot without title"
      ]
     },
     "metadata": {},
     "output_type": "display_data"
    },
    {
     "name": "stderr",
     "output_type": "stream",
     "text": [
      "Warning message:\n",
      "\"Removed 641 rows containing non-finite values (stat_bin).\"Warning message:\n",
      "\"Removed 2 rows containing missing values (geom_bar).\""
     ]
    },
    {
     "data": {
      "image/png": "[encoded data removed]",
      "text/plain": [
       "plot without title"
      ]
     },
     "metadata": {},
     "output_type": "display_data"
    },
    {
     "name": "stderr",
     "output_type": "stream",
     "text": [
      "Warning message:\n",
      "\"Removed 517 rows containing non-finite values (stat_bin).\"Warning message:\n",
      "\"Removed 2 rows containing missing values (geom_bar).\""
     ]
    },
    {
     "data": {
      "image/png": "[encoded data removed]",
      "text/plain": [
       "plot without title"
      ]
     },
     "metadata": {},
     "output_type": "display_data"
    },
    {
     "name": "stderr",
     "output_type": "stream",
     "text": [
      "Warning message:\n",
      "\"Removed 740 rows containing non-finite values (stat_bin).\"Warning message:\n",
      "\"Removed 2 rows containing missing values (geom_bar).\""
     ]
    },
    {
     "data": {
      "image/png": "[encoded data removed]",
      "text/plain": [
       "plot without title"
      ]
     },
     "metadata": {},
     "output_type": "display_data"
    },
    {
     "data": {
      "image/png": "[encoded data removed]",
      "text/plain": [
       "plot without title"
      ]
     },
     "metadata": {},
     "output_type": "display_data"
    }
   ],
   "source": [
    "df_m2 = airbnb_entire[airbnb_entire[,\"Barrio\"] == \"Recoletos\",]\n",
    "ggplot(data=data.frame(df_m2$MetrosCuadrados), aes(x=df_m2$MetrosCuadrados))+\n",
    " geom_histogram(bins=15,fill=\"#7070BB\",color=\"#010101\")+ \n",
    "  scale_x_continuous(breaks = seq(0,60,5), lim=c(0,60))\n",
    "\n",
    "df_m2_goya = airbnb_entire[airbnb_entire[,\"Barrio\"] == \"Goya\",]\n",
    "ggplot(data=data.frame(df_m2_goya$MetrosCuadrados), aes(x=df_m2_goya$MetrosCuadrados))+\n",
    " geom_histogram(bins=20,fill=\"#7070BB\",color=\"#010101\")+ \n",
    "  scale_x_continuous(breaks = seq(0,100,10), lim=c(0,100))\n",
    "\n",
    "df_m2_sol = airbnb_entire[airbnb_entire[,\"Barrio\"] == \"Sol\",]\n",
    "ggplot(data=data.frame(df_m2_sol$MetrosCuadrados), aes(x=df_m2_sol$MetrosCuadrados))+\n",
    "geom_histogram(bins=20,fill=\"#7070BB\",color=\"#010101\")+ \n",
    "scale_x_continuous(breaks = seq(0,200,20), lim=c(0,240))\n",
    "\n",
    "df_m2_justicia = airbnb_entire[airbnb_entire[,\"Barrio\"] == \"Justicia\",]\n",
    "ggplot(data=data.frame(df_m2_justicia$MetrosCuadrados), aes(x=df_m2_justicia$MetrosCuadrados))+\n",
    "geom_histogram(bins=20,fill=\"#7070BB\",color=\"#010101\")+ \n",
    "scale_x_continuous(breaks = seq(0,100,10), lim=c(0,100))\n",
    "\n",
    "df_m2_palacio = airbnb_entire[airbnb_entire[,\"Barrio\"] == \"Palacio\",]\n",
    "ggplot(data=data.frame(df_m2_palacio$MetrosCuadrados), aes(x=df_m2_palacio$MetrosCuadrados))+\n",
    "geom_histogram(bins=20,fill=\"#7070BB\",color=\"#010101\")+ \n",
    "scale_x_continuous(breaks = seq(0,100,10), lim=c(0,100))"
   ]
  },
  {
   "cell_type": "markdown",
   "metadata": {},
   "source": [
    "Esta claro que las medias de cada uno de estos 5 barrios parecen ser diferentes, pero ¿son estadísticamente diferentes?\n",
    "¿Que test habría que usar para comprobarlo?"
   ]
  },
  {
   "cell_type": "code",
   "execution_count": null,
   "metadata": {},
   "outputs": [],
   "source": []
  },
  {
   "cell_type": "markdown",
   "metadata": {},
   "source": [
    "Para únicamente los pisos de alquiler en el barrio de Sol:\n",
    "\n",
    "``barrio_sol<-subset(airbnb_entire,Barrio==\"Sol\")``\n",
    "\n",
    "Calcular un modelo lineal que combine alguna de estas variables:\n",
    "* NumBanyos\n",
    "* NumDormitorios\n",
    "* MaxOcupantes\n",
    "* MetrosCuadrados"
   ]
  },
  {
   "cell_type": "code",
   "execution_count": 26,
   "metadata": {},
   "outputs": [],
   "source": [
    "barrio_sol<-subset(airbnb_entire,Barrio==\"Sol\")"
   ]
  },
  {
   "cell_type": "markdown",
   "metadata": {},
   "source": [
    "Primero calculamos la correlación para ver como se relacionan estas variables entre sí."
   ]
  },
  {
   "cell_type": "code",
   "execution_count": 27,
   "metadata": {},
   "outputs": [
    {
     "data": {
      "text/html": [
       "0.676190560725493"
      ],
      "text/latex": [
       "0.676190560725493"
      ],
      "text/markdown": [
       "0.676190560725493"
      ],
      "text/plain": [
       "[1] 0.6761906"
      ]
     },
     "metadata": {},
     "output_type": "display_data"
    },
    {
     "data": {
      "text/html": [
       "0.657816206151622"
      ],
      "text/latex": [
       "0.657816206151622"
      ],
      "text/markdown": [
       "0.657816206151622"
      ],
      "text/plain": [
       "[1] 0.6578162"
      ]
     },
     "metadata": {},
     "output_type": "display_data"
    },
    {
     "data": {
      "text/html": [
       "0.482054875848167"
      ],
      "text/latex": [
       "0.482054875848167"
      ],
      "text/markdown": [
       "0.482054875848167"
      ],
      "text/plain": [
       "[1] 0.4820549"
      ]
     },
     "metadata": {},
     "output_type": "display_data"
    },
    {
     "data": {
      "text/html": [
       "0.759459786635241"
      ],
      "text/latex": [
       "0.759459786635241"
      ],
      "text/markdown": [
       "0.759459786635241"
      ],
      "text/plain": [
       "[1] 0.7594598"
      ]
     },
     "metadata": {},
     "output_type": "display_data"
    },
    {
     "data": {
      "text/html": [
       "0.568452076445061"
      ],
      "text/latex": [
       "0.568452076445061"
      ],
      "text/markdown": [
       "0.568452076445061"
      ],
      "text/plain": [
       "[1] 0.5684521"
      ]
     },
     "metadata": {},
     "output_type": "display_data"
    },
    {
     "data": {
      "text/html": [
       "0.428623254666521"
      ],
      "text/latex": [
       "0.428623254666521"
      ],
      "text/markdown": [
       "0.428623254666521"
      ],
      "text/plain": [
       "[1] 0.4286233"
      ]
     },
     "metadata": {},
     "output_type": "display_data"
    }
   ],
   "source": [
    "cr_X1_X2<-cor(barrio_sol$NumBanyos, barrio_sol$NumDormitorios)\n",
    "cr_X1_X3<-cor(barrio_sol$NumBanyos, barrio_sol$MaxOcupantes)\n",
    "cr_X1_X4<-cor(barrio_sol$NumBanyos, barrio_sol$MetrosCuadrados,use = \"complete.obs\")\n",
    "cr_X2_X3<-cor(barrio_sol$NumDormitorios, barrio_sol$MaxOcupantes, use = \"complete.obs\")\n",
    "cr_X2_X4<-cor(barrio_sol$NumDormitorios, barrio_sol$MetrosCuadrados, use = \"complete.obs\")\n",
    "cr_X3_X4<-cor(barrio_sol$MaxOcupantes, barrio_sol$MetrosCuadrados, use = \"complete.obs\")\n",
    "\n",
    "cr_X1_X2\n",
    "cr_X1_X3\n",
    "cr_X1_X4\n",
    "cr_X2_X3\n",
    "cr_X2_X4\n",
    "cr_X3_X4"
   ]
  },
  {
   "cell_type": "markdown",
   "metadata": {},
   "source": [
    "Se observa que la correlación entre el número de dormitorios y los metros cuadrados es sorprendentemente baja.\n",
    "¿Son de fiar esos números?\n",
    "\n",
    "Mediante un histograma o curvas de densidad podemos descartar números que notienen sentido en el dataframe barrio_sol,\n",
    "para tener una matriz de correlación que tenga mayor sentido.\n"
   ]
  },
  {
   "cell_type": "code",
   "execution_count": 28,
   "metadata": {
    "scrolled": true
   },
   "outputs": [
    {
     "name": "stderr",
     "output_type": "stream",
     "text": [
      "Warning message:\n",
      "\"Removed 641 rows containing missing values (geom_point).\""
     ]
    },
    {
     "data": {
      "image/png": "[encoded data removed]",
      "text/plain": [
       "plot without title"
      ]
     },
     "metadata": {},
     "output_type": "display_data"
    }
   ],
   "source": [
    "ggplot(data=barrio_sol, aes(x=barrio_sol$MetrosCuadrados, y =barrio_sol$NumDormitorios))+\n",
    "  geom_jitter(size=3)+\n",
    "xlab(\"Metros Cuadrados\")+ylab(\"NumDormitorios\")+\n",
    "  ggtitle(\"M2_vs_dormitorios\")"
   ]
  },
  {
   "cell_type": "code",
   "execution_count": 29,
   "metadata": {},
   "outputs": [
    {
     "data": {
      "text/html": [
       "0.77174576514992"
      ],
      "text/latex": [
       "0.77174576514992"
      ],
      "text/markdown": [
       "0.77174576514992"
      ],
      "text/plain": [
       "[1] 0.7717458"
      ]
     },
     "metadata": {},
     "output_type": "display_data"
    }
   ],
   "source": [
    "barrio_sol_2 = barrio_sol$MetrosCuadrados[barrio_sol[\"MetrosCuadrados\"] == 0] <-NA\n",
    "cr_X2_X4<-cor(barrio_sol$NumDormitorios, barrio_sol$MetrosCuadrados, use = \"complete.obs\")\n",
    "cr_X2_X4"
   ]
  },
  {
   "cell_type": "code",
   "execution_count": 30,
   "metadata": {},
   "outputs": [
    {
     "name": "stderr",
     "output_type": "stream",
     "text": [
      "Warning message:\n",
      "\"Removed 661 rows containing missing values (geom_point).\""
     ]
    },
    {
     "data": {
      "image/png": "[encoded data removed]",
      "text/plain": [
       "plot without title"
      ]
     },
     "metadata": {},
     "output_type": "display_data"
    }
   ],
   "source": [
    "ggplot(data=barrio_sol, aes(x=barrio_sol$MetrosCuadrados, y =barrio_sol$NumDormitorios))+\n",
    "  geom_jitter(size=3)+\n",
    "xlab(\"Metros Cuadrados\")+ylab(\"NumDormitorios\")+\n",
    "  ggtitle(\"M2_vs_dormitorios\")"
   ]
  },
  {
   "cell_type": "markdown",
   "metadata": {},
   "source": [
    "Una vez que hayamos filtrado los datos correspondientes calcular el valor o la combinación de valores que mejor nos permite obtener el precio de un inmueble."
   ]
  },
  {
   "cell_type": "code",
   "execution_count": 33,
   "metadata": {},
   "outputs": [
    {
     "data": {
      "text/plain": [
       "\n",
       "Call:\n",
       "lm(formula = Precio ~ NumDormitorios + MetrosCuadrados, data = barrio_sol)\n",
       "\n",
       "Coefficients:\n",
       "    (Intercept)   NumDormitorios  MetrosCuadrados  \n",
       "        36.8284          32.5581           0.2153  \n"
      ]
     },
     "metadata": {},
     "output_type": "display_data"
    }
   ],
   "source": [
    "library(MASS)\n",
    "#no.na.data <- na.omit(barrio_sol[c(barrio_sol$Precio, barrio_sol$NumBanyos, barrio_sol$NumDormitorios, barrio_sol$MaxOcupantes, barrio_sol$MetrosCuadrados)])\n",
    "model<-lm(formula=Precio~NumBanyos+NumDormitorios+MaxOcupantes+MetrosCuadrados,barrio_sol)\n",
    "stepAIC(model,trace=FALSE)"
   ]
  },
  {
   "cell_type": "markdown",
   "metadata": {},
   "source": [
    "¿Que variable es más fiable para conocer el precio de un inmueble, el número de habitaciones o los metros cuadrados?"
   ]
  },
  {
   "cell_type": "code",
   "execution_count": 48,
   "metadata": {},
   "outputs": [
    {
     "data": {
      "text/plain": [
       "\n",
       "Call:\n",
       "lm(formula = Precio ~ NumDormitorios + MetrosCuadrados, data = barrio_sol)\n",
       "\n",
       "Residuals:\n",
       "    Min      1Q  Median      3Q     Max \n",
       "-86.134 -16.183  -0.823  15.801  68.085 \n",
       "\n",
       "Coefficients:\n",
       "                Estimate Std. Error t value Pr(>|t|)    \n",
       "(Intercept)      36.8284     7.9805   4.615 4.61e-05 ***\n",
       "NumDormitorios   32.5581     5.8817   5.535 2.67e-06 ***\n",
       "MetrosCuadrados   0.2153     0.1449   1.486    0.146    \n",
       "---\n",
       "Signif. codes:  0 '***' 0.001 '**' 0.01 '*' 0.05 '.' 0.1 ' ' 1\n",
       "\n",
       "Residual standard error: 28.88 on 37 degrees of freedom\n",
       "  (661 observations deleted due to missingness)\n",
       "Multiple R-squared:  0.7527,\tAdjusted R-squared:  0.7393 \n",
       "F-statistic: 56.31 on 2 and 37 DF,  p-value: 5.952e-12\n"
      ]
     },
     "metadata": {},
     "output_type": "display_data"
    }
   ],
   "source": [
    "model_opt <-lm(formula=Precio~NumDormitorios+MetrosCuadrados,barrio_sol)\n",
    "summary(model_opt)\n",
    "#Es mas fiable el numero de dormitorios (pvalue =2.67e-06)"
   ]
  },
  {
   "cell_type": "markdown",
   "metadata": {},
   "source": [
    "Responde con su correspondiente margen de error del 95%, ¿cuantos euros incrementa el precio del alquiler por cada metro cuadrado extra del piso?"
   ]
  },
  {
   "cell_type": "code",
   "execution_count": 49,
   "metadata": {},
   "outputs": [
    {
     "data": {
      "text/html": [
       "<dl class=dl-horizontal>\n",
       "\t<dt>(Intercept)</dt>\n",
       "\t\t<dd>36.8284198726778</dd>\n",
       "\t<dt>NumDormitorios</dt>\n",
       "\t\t<dd>32.5581339332926</dd>\n",
       "\t<dt>MetrosCuadrados</dt>\n",
       "\t\t<dd>0.215250034233061</dd>\n",
       "</dl>\n"
      ],
      "text/latex": [
       "\\begin{description*}\n",
       "\\item[(Intercept)] 36.8284198726778\n",
       "\\item[NumDormitorios] 32.5581339332926\n",
       "\\item[MetrosCuadrados] 0.215250034233061\n",
       "\\end{description*}\n"
      ],
      "text/markdown": [
       "(Intercept)\n",
       ":   36.8284198726778NumDormitorios\n",
       ":   32.5581339332926MetrosCuadrados\n",
       ":   0.215250034233061\n",
       "\n"
      ],
      "text/plain": [
       "    (Intercept)  NumDormitorios MetrosCuadrados \n",
       "       36.82842        32.55813         0.21525 "
      ]
     },
     "metadata": {},
     "output_type": "display_data"
    }
   ],
   "source": [
    "model_opt$coefficients"
   ]
  },
  {
   "cell_type": "code",
   "execution_count": 77,
   "metadata": {},
   "outputs": [
    {
     "name": "stderr",
     "output_type": "stream",
     "text": [
      "ERROR while rich displaying an object: Error: Aesthetics must be either length 1 or the same as the data (701): x\n",
      "\n",
      "Traceback:\n",
      "1. FUN(X[[i]], ...)\n",
      "2. tryCatch(withCallingHandlers({\n",
      " .     if (!mime %in% names(repr::mime2repr)) \n",
      " .         stop(\"No repr_* for mimetype \", mime, \" in repr::mime2repr\")\n",
      " .     rpr <- repr::mime2repr[[mime]](obj)\n",
      " .     if (is.null(rpr)) \n",
      " .         return(NULL)\n",
      " .     prepare_content(is.raw(rpr), rpr)\n",
      " . }, error = error_handler), error = outer_handler)\n",
      "3. tryCatchList(expr, classes, parentenv, handlers)\n",
      "4. tryCatchOne(expr, names, parentenv, handlers[[1L]])\n",
      "5. doTryCatch(return(expr), name, parentenv, handler)\n",
      "6. withCallingHandlers({\n",
      " .     if (!mime %in% names(repr::mime2repr)) \n",
      " .         stop(\"No repr_* for mimetype \", mime, \" in repr::mime2repr\")\n",
      " .     rpr <- repr::mime2repr[[mime]](obj)\n",
      " .     if (is.null(rpr)) \n",
      " .         return(NULL)\n",
      " .     prepare_content(is.raw(rpr), rpr)\n",
      " . }, error = error_handler)\n",
      "7. repr::mime2repr[[mime]](obj)\n",
      "8. repr_text.default(obj)\n",
      "9. paste(capture.output(print(obj)), collapse = \"\\n\")\n",
      "10. capture.output(print(obj))\n",
      "11. evalVis(expr)\n",
      "12. withVisible(eval(expr, pf))\n",
      "13. eval(expr, pf)\n",
      "14. eval(expr, pf)\n",
      "15. print(obj)\n",
      "16. print.ggplot(obj)\n",
      "17. ggplot_build(x)\n",
      "18. ggplot_build.ggplot(x)\n",
      "19. by_layer(function(l, d) l$compute_aesthetics(d, plot))\n",
      "20. f(l = layers[[i]], d = data[[i]])\n",
      "21. l$compute_aesthetics(d, plot)\n",
      "22. f(..., self = self)\n",
      "23. check_aesthetics(evaled, n)\n",
      "24. stop(\"Aesthetics must be either length 1 or the same as the data (\", \n",
      "  .     n, \"): \", paste(names(which(!good)), collapse = \", \"), call. = FALSE)\n"
     ]
    },
    {
     "data": {
      "image/png": "[encoded data removed]",
      "text/plain": [
       "plot without title"
      ]
     },
     "metadata": {},
     "output_type": "display_data"
    }
   ],
   "source": [
    "library(ggplot2)\n",
    "options(repr.plot.height=2,repr.plot.width=6)\n",
    "\n",
    "mydt<-function(x,df,mn,sd){\n",
    "    dt((x-mn)/sd,df)\n",
    "}\n",
    "\n",
    "vcov_matrix <- vcov(model_opt)\n",
    "\n",
    "\n",
    "\n",
    "ggplot(data=barrio_sol, aes(x=X)) +     \n",
    "    stat_function(fun=mydt,args = list(df = 8,mn=model_opt$coefficients[1],sd=sqrt(diag(vcov_matrix))[3]),color=\"#2222BB\")+\n",
    "    geom_vline(xintercept=qt(0.975,8,lower.tail = F)*sqrt(diag(vcov_matrix))[3]+model$coefficients[3])+\n",
    "    geom_vline(xintercept=qt(0.025,8,lower.tail = F)*sqrt(diag(vcov_matrix))[3]+model$coefficients[3])+\n",
    "    xlim(-10,40)"
   ]
  },
  {
   "cell_type": "markdown",
   "metadata": {},
   "source": [
    "Responde con su correspondiente margen de error del 95%, ¿cuantos euros incrementa el precio del alquiler por cada habitación?"
   ]
  },
  {
   "cell_type": "code",
   "execution_count": 75,
   "metadata": {},
   "outputs": [
    {
     "name": "stderr",
     "output_type": "stream",
     "text": [
      "ERROR while rich displaying an object: Error: Aesthetics must be either length 1 or the same as the data (701): x\n",
      "\n",
      "Traceback:\n",
      "1. FUN(X[[i]], ...)\n",
      "2. tryCatch(withCallingHandlers({\n",
      " .     if (!mime %in% names(repr::mime2repr)) \n",
      " .         stop(\"No repr_* for mimetype \", mime, \" in repr::mime2repr\")\n",
      " .     rpr <- repr::mime2repr[[mime]](obj)\n",
      " .     if (is.null(rpr)) \n",
      " .         return(NULL)\n",
      " .     prepare_content(is.raw(rpr), rpr)\n",
      " . }, error = error_handler), error = outer_handler)\n",
      "3. tryCatchList(expr, classes, parentenv, handlers)\n",
      "4. tryCatchOne(expr, names, parentenv, handlers[[1L]])\n",
      "5. doTryCatch(return(expr), name, parentenv, handler)\n",
      "6. withCallingHandlers({\n",
      " .     if (!mime %in% names(repr::mime2repr)) \n",
      " .         stop(\"No repr_* for mimetype \", mime, \" in repr::mime2repr\")\n",
      " .     rpr <- repr::mime2repr[[mime]](obj)\n",
      " .     if (is.null(rpr)) \n",
      " .         return(NULL)\n",
      " .     prepare_content(is.raw(rpr), rpr)\n",
      " . }, error = error_handler)\n",
      "7. repr::mime2repr[[mime]](obj)\n",
      "8. repr_text.default(obj)\n",
      "9. paste(capture.output(print(obj)), collapse = \"\\n\")\n",
      "10. capture.output(print(obj))\n",
      "11. evalVis(expr)\n",
      "12. withVisible(eval(expr, pf))\n",
      "13. eval(expr, pf)\n",
      "14. eval(expr, pf)\n",
      "15. print(obj)\n",
      "16. print.ggplot(obj)\n",
      "17. ggplot_build(x)\n",
      "18. ggplot_build.ggplot(x)\n",
      "19. by_layer(function(l, d) l$compute_aesthetics(d, plot))\n",
      "20. f(l = layers[[i]], d = data[[i]])\n",
      "21. l$compute_aesthetics(d, plot)\n",
      "22. f(..., self = self)\n",
      "23. check_aesthetics(evaled, n)\n",
      "24. stop(\"Aesthetics must be either length 1 or the same as the data (\", \n",
      "  .     n, \"): \", paste(names(which(!good)), collapse = \", \"), call. = FALSE)\n"
     ]
    },
    {
     "data": {
      "image/png": "[encoded data removed]",
      "text/plain": [
       "plot without title"
      ]
     },
     "metadata": {},
     "output_type": "display_data"
    }
   ],
   "source": [
    "ggplot(data=barrio_sol, aes(x=X)) +     \n",
    "    stat_function(fun=mydt,args = list(df = 8,mn=model_opt$coefficients[2],sd=sqrt(diag(vcov_matrix))[2]),color=\"#2222BB\")+\n",
    "    geom_vline(xintercept=qt(0.975,8,lower.tail = F)*sqrt(diag(vcov_matrix))[2]+model$coefficients[2])+\n",
    "    geom_vline(xintercept=qt(0.025,8,lower.tail = F)*sqrt(diag(vcov_matrix))[2]+model$coefficients[2])+\n",
    "    xlim(-10,40)"
   ]
  },
  {
   "cell_type": "markdown",
   "metadata": {},
   "source": [
    "¿Cual es la probabilidad de encontrar, en el barrio de Sol, un apartamento en alquiler con 3 dormitorios?\n",
    "¿Cual es el margen de error de esa probabilidad?"
   ]
  },
  {
   "cell_type": "code",
   "execution_count": null,
   "metadata": {},
   "outputs": [],
   "source": [
    "binom.test"
   ]
  },
  {
   "cell_type": "code",
   "execution_count": null,
   "metadata": {},
   "outputs": [],
   "source": []
  }
 ],
 "metadata": {
  "kernelspec": {
   "display_name": "R",
   "language": "R",
   "name": "ir"
  },
  "language_info": {
   "codemirror_mode": "r",
   "file_extension": ".r",
   "mimetype": "text/x-r-source",
   "name": "R",
   "pygments_lexer": "r",
   "version": "3.6.1"
  }
 },
 "nbformat": 4,
 "nbformat_minor": 2
}
